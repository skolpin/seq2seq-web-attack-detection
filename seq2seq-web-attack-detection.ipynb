{
 "cells": [
  {
   "cell_type": "markdown",
   "id": "peaceful-pennsylvania",
   "metadata": {},
   "source": [
    "# Макет обнаружения аномальных HTTP-запросов к веб-серверу с помощью рекуррентного seq2seq автоэнкодера"
   ]
  },
  {
   "cell_type": "markdown",
   "id": "organized-condition",
   "metadata": {},
   "source": [
    "## Импорт библиотек"
   ]
  },
  {
   "cell_type": "code",
   "execution_count": 1,
   "id": "stuck-nation",
   "metadata": {},
   "outputs": [],
   "source": [
    "import numpy as np\n",
    "import pandas as pd\n",
    "from tensorflow import keras\n",
    "import random\n",
    "from pickle import dump\n",
    "from utils import get_requests_from_file, strlist_to_ohearray\n",
    "import colorama\n",
    "from colorama import Back\n",
    "from matplotlib import pyplot as plt\n",
    "colorama.init(autoreset=True, strip=False)\n",
    "random.seed(57)"
   ]
  },
  {
   "cell_type": "markdown",
   "id": "turned-boost",
   "metadata": {},
   "source": [
    "## Задание глобальных параметров"
   ]
  },
  {
   "cell_type": "code",
   "execution_count": 2,
   "id": "defined-equipment",
   "metadata": {},
   "outputs": [],
   "source": [
    "# setting params\n",
    "batch_size = 128  # Batch size for training.\n",
    "epochs = 40       # Number of epochs to train for.\n",
    "latent_dim = 256  # Latent dimensionality of the encoding space."
   ]
  },
  {
   "cell_type": "markdown",
   "id": "designed-article",
   "metadata": {},
   "source": [
    "## Загрузка и подготовка данных"
   ]
  },
  {
   "cell_type": "code",
   "execution_count": 4,
   "id": "earned-aberdeen",
   "metadata": {},
   "outputs": [
    {
     "name": "stdout",
     "output_type": "stream",
     "text": [
      "Number of train samples:\u001b[0m \u001b[0m20894\u001b[0m\n",
      "\u001b[0mNumber of validation samples:\u001b[0m \u001b[0m1097\u001b[0m\n",
      "\u001b[0mNumber of anomal samples:\u001b[0m \u001b[0m1097\u001b[0m\n",
      "\u001b[0mNumber of unique vocabulary tokens:\u001b[0m \u001b[0m87\u001b[0m\n",
      "\u001b[0mMax train request length:\u001b[0m \u001b[0m2011\u001b[0m\n",
      "\u001b[0m"
     ]
    }
   ],
   "source": [
    "# loading data from text file\n",
    "normal_requests = get_requests_from_file('train.txt')\n",
    "anomal_requests = get_requests_from_file('anomaly.txt')\n",
    "valid_requests = [normal_requests.pop(random.randint(0, len(normal_requests)))\n",
    "                  for i in range(len(anomal_requests))]\n",
    "\n",
    "\n",
    "# creating token index\n",
    "tokens = set()\n",
    "for request in normal_requests:\n",
    "    for char in request:\n",
    "        if char not in tokens:\n",
    "            tokens.add(char)\n",
    "\n",
    "tokens = sorted(list(tokens))\n",
    "tokens += ['<PAD>', '<UNK>', '<GO>', '<EOR>']\n",
    "\n",
    "num_tokens = len(tokens)\n",
    "max_normal_seq_length = max([len(request) for request in normal_requests])\n",
    "\n",
    "token_index = dict([(token, i) for i, token in enumerate(tokens)])\n",
    "reverse_token_index = dict((i, token) for token, i in token_index.items())\n",
    "\n",
    "# saving token index and data\n",
    "with open('token_index', 'wb') as f:\n",
    "    dump(token_index, f)\n",
    "with open('normal_requests', 'wb') as f:\n",
    "    dump(normal_requests, f)\n",
    "with open('anomal_requests', 'wb') as f:\n",
    "    dump(anomal_requests, f)\n",
    "with open('valid_requests', 'wb') as f:\n",
    "    dump(valid_requests, f)\n",
    "\n",
    "print(\"Number of train samples:\", len(normal_requests))\n",
    "print(\"Number of validation samples:\", len(valid_requests))\n",
    "print(\"Number of anomal samples:\", len(anomal_requests))\n",
    "print(\"Number of unique vocabulary tokens:\", num_tokens)\n",
    "print(\"Max train request length:\", max_normal_seq_length)"
   ]
  },
  {
   "cell_type": "markdown",
   "id": "immediate-ideal",
   "metadata": {},
   "source": [
    "## Оцифровка обучающих, валидационных и тестовых (аномальных) запросов"
   ]
  },
  {
   "cell_type": "code",
   "execution_count": 6,
   "id": "seven-royal",
   "metadata": {},
   "outputs": [],
   "source": [
    "# creating train, valid and anomal data in form of 3d-ohe-arrays for autoencoder\n",
    "encoder_train_input_data = strlist_to_ohearray(normal_requests, max_normal_seq_length,\n",
    "                                         token_index, decoder = False, target = False)\n",
    " \n",
    "decoder_train_input_data = strlist_to_ohearray(normal_requests, max_normal_seq_length,\n",
    "                                         token_index, decoder = True, target = False)\n",
    "\n",
    "decoder_train_target_data = strlist_to_ohearray(normal_requests, max_normal_seq_length,\n",
    "                                                token_index, decoder = True, target = True)\n",
    "\n",
    "encoder_valid_input_data = strlist_to_ohearray(valid_requests, max_normal_seq_length,\n",
    "                                         token_index, decoder = False, target = False)\n",
    " \n",
    "decoder_valid_input_data = strlist_to_ohearray(valid_requests, max_normal_seq_length,\n",
    "                                         token_index, decoder = True, target = False)\n",
    "\n",
    "decoder_valid_target_data = strlist_to_ohearray(valid_requests, max_normal_seq_length,\n",
    "                                                token_index, decoder = True, target = True)\n",
    "\n",
    "encoder_anomal_input_data = strlist_to_ohearray(anomal_requests, max_normal_seq_length,\n",
    "                                         token_index, decoder = False, target = False)\n",
    " \n",
    "decoder_anomal_input_data = strlist_to_ohearray(anomal_requests, max_normal_seq_length,\n",
    "                                         token_index, decoder = True, target = False)\n",
    "\n",
    "decoder_anomal_target_data = strlist_to_ohearray(anomal_requests, max_normal_seq_length,\n",
    "                                                 token_index, decoder = True, target = True)"
   ]
  },
  {
   "cell_type": "markdown",
   "id": "literary-security",
   "metadata": {},
   "source": [
    "# Этап создания и обучения модели можно пропустить, если модель уже обучена и сохранена\n",
    "## Обучение занимает время, можно перейти сразу к ячейке \"Загрузка модели с диска\""
   ]
  },
  {
   "cell_type": "markdown",
   "id": "informal-appendix",
   "metadata": {},
   "source": [
    "## Создание модели Seq2seq-автокодировщика"
   ]
  },
  {
   "cell_type": "code",
   "execution_count": 7,
   "id": "applied-blair",
   "metadata": {},
   "outputs": [],
   "source": [
    "# Define an input sequence and process it.\n",
    "encoder_inputs = keras.Input(shape=(None, num_tokens))\n",
    "encoder = keras.layers.LSTM(latent_dim, return_state=True)\n",
    "encoder_outputs, state_h, state_c = encoder(encoder_inputs)\n",
    "\n",
    "# We discard 'encoder_outputs' and only keep the states.\n",
    "encoder_states = [state_h, state_c]\n",
    "\n",
    "# Set up the decoder## Задание глобальных параметров, using 'encoder_states' as initial state.\n",
    "decoder_inputs = keras.Input(shape=(None, num_tokens))\n",
    "\n",
    "# We set up our decoder to return full output sequences,\n",
    "# and to return internal states as well. We don't use the\n",
    "# return states in the training model, but we will use them in inference.\n",
    "decoder_lstm = keras.layers.LSTM(latent_dim, return_sequences=True, return_state=True)\n",
    "decoder_outputs, _, _ = decoder_lstm(decoder_inputs, initial_state=encoder_states)\n",
    "decoder_dense = keras.layers.Dense(num_tokens, activation=\"softmax\")\n",
    "decoder_outputs = decoder_dense(decoder_outputs)\n",
    "\n",
    "# Define the model that will turn\n",
    "# 'encoder_train_input_data' & 'decoder_train_input_data' into 'decoder_train_target_data`\n",
    "model = keras.Model([encoder_inputs, decoder_inputs], decoder_outputs)\n",
    "\n",
    "\n",
    "model.compile(\n",
    "    optimizer=\"rmsprop\", loss=\"categorical_crossentropy\", metrics=[\"accuracy\"]\n",
    ")"
   ]
  },
  {
   "cell_type": "markdown",
   "id": "ideal-today",
   "metadata": {},
   "source": [
    "## Обучение модели"
   ]
  },
  {
   "cell_type": "code",
   "execution_count": 8,
   "id": "adjusted-accordance",
   "metadata": {},
   "outputs": [
    {
     "name": "stdout",
     "output_type": "stream",
     "text": [
      "Epoch 1/40\u001b[0m\n",
      "\u001b[0m164/164 - 82s - loss: 1.5709 - accuracy: 0.6567 - val_loss: 1.4855 - val_accuracy: 0.6940\n",
      "\u001b[0mEpoch 2/40\u001b[0m\n",
      "\u001b[0m164/164 - 78s - loss: 0.8612 - accuracy: 0.7582 - val_loss: 0.5688 - val_accuracy: 0.8554\n",
      "\u001b[0mEpoch 3/40\u001b[0m\n",
      "\u001b[0m164/164 - 81s - loss: 0.3841 - accuracy: 0.9103 - val_loss: 0.2593 - val_accuracy: 0.9403\n",
      "\u001b[0mEpoch 4/40\u001b[0m\n",
      "\u001b[0m164/164 - 78s - loss: 0.1656 - accuracy: 0.9630 - val_loss: 0.1168 - val_accuracy: 0.9718\n",
      "\u001b[0mEpoch 5/40\u001b[0m\n",
      "\u001b[0m164/164 - 79s - loss: 0.0909 - accuracy: 0.9768 - val_loss: 0.0711 - val_accuracy: 0.9813\n",
      "\u001b[0mEpoch 6/40\u001b[0m\n",
      "\u001b[0m164/164 - 79s - loss: 0.0590 - accuracy: 0.9853 - val_loss: 0.0453 - val_accuracy: 0.9904\n",
      "\u001b[0mEpoch 7/40\u001b[0m\n",
      "\u001b[0m164/164 - 79s - loss: 0.0401 - accuracy: 0.9906 - val_loss: 0.0412 - val_accuracy: 0.9901\n",
      "\u001b[0mEpoch 8/40\u001b[0m\n",
      "\u001b[0m164/164 - 80s - loss: 0.0312 - accuracy: 0.9925 - val_loss: 0.0275 - val_accuracy: 0.9931\n",
      "\u001b[0mEpoch 9/40\u001b[0m\n",
      "\u001b[0m164/164 - 78s - loss: 0.0265 - accuracy: 0.9934 - val_loss: 0.0243 - val_accuracy: 0.9938\n",
      "\u001b[0mEpoch 10/40\u001b[0m\n",
      "\u001b[0m164/164 - 78s - loss: 0.0232 - accuracy: 0.9940 - val_loss: 0.0210 - val_accuracy: 0.9944\n",
      "\u001b[0mEpoch 11/40\u001b[0m\n",
      "\u001b[0m164/164 - 77s - loss: 0.0216 - accuracy: 0.9941 - val_loss: 0.0276 - val_accuracy: 0.9923\n",
      "\u001b[0mEpoch 12/40\u001b[0m\n",
      "\u001b[0m164/164 - 79s - loss: 0.0202 - accuracy: 0.9943 - val_loss: 0.0195 - val_accuracy: 0.9942\n",
      "\u001b[0mEpoch 13/40\u001b[0m\n",
      "\u001b[0m164/164 - 78s - loss: 0.0189 - accuracy: 0.9945 - val_loss: 0.0187 - val_accuracy: 0.9943\n",
      "\u001b[0mEpoch 14/40\u001b[0m\n",
      "\u001b[0m164/164 - 79s - loss: 0.0180 - accuracy: 0.9946 - val_loss: 0.0201 - val_accuracy: 0.9940\n",
      "\u001b[0mEpoch 15/40\u001b[0m\n",
      "\u001b[0m164/164 - 78s - loss: 0.0178 - accuracy: 0.9946 - val_loss: 0.0195 - val_accuracy: 0.9939\n",
      "\u001b[0mEpoch 16/40\u001b[0m\n",
      "\u001b[0m164/164 - 80s - loss: 0.0172 - accuracy: 0.9947 - val_loss: 0.0215 - val_accuracy: 0.9939\n",
      "\u001b[0mEpoch 17/40\u001b[0m\n",
      "\u001b[0m164/164 - 78s - loss: 0.0167 - accuracy: 0.9948 - val_loss: 0.0169 - val_accuracy: 0.9945\n",
      "\u001b[0mEpoch 18/40\u001b[0m\n",
      "\u001b[0m164/164 - 78s - loss: 0.0165 - accuracy: 0.9948 - val_loss: 0.0160 - val_accuracy: 0.9949\n",
      "\u001b[0mEpoch 19/40\u001b[0m\n",
      "\u001b[0m164/164 - 78s - loss: 0.0158 - accuracy: 0.9950 - val_loss: 0.0168 - val_accuracy: 0.9944\n",
      "\u001b[0mEpoch 20/40\u001b[0m\n",
      "\u001b[0m164/164 - 79s - loss: 0.0163 - accuracy: 0.9949 - val_loss: 0.0154 - val_accuracy: 0.9950\n",
      "\u001b[0mEpoch 21/40\u001b[0m\n",
      "\u001b[0m164/164 - 79s - loss: 0.0155 - accuracy: 0.9950 - val_loss: 0.0161 - val_accuracy: 0.9946\n",
      "\u001b[0mEpoch 22/40\u001b[0m\n",
      "\u001b[0m164/164 - 79s - loss: 0.0154 - accuracy: 0.9950 - val_loss: 0.0159 - val_accuracy: 0.9948\n",
      "\u001b[0mEpoch 23/40\u001b[0m\n",
      "\u001b[0m164/164 - 78s - loss: 0.0154 - accuracy: 0.9950 - val_loss: 0.0160 - val_accuracy: 0.9949\n",
      "\u001b[0mEpoch 24/40\u001b[0m\n",
      "\u001b[0m164/164 - 78s - loss: 0.0151 - accuracy: 0.9951 - val_loss: 0.0157 - val_accuracy: 0.9949\n",
      "\u001b[0mEpoch 25/40\u001b[0m\n",
      "\u001b[0m164/164 - 79s - loss: 0.0150 - accuracy: 0.9951 - val_loss: 0.0158 - val_accuracy: 0.9949\n",
      "\u001b[0mEpoch 26/40\u001b[0m\n",
      "\u001b[0m164/164 - 78s - loss: 0.0147 - accuracy: 0.9952 - val_loss: 0.0172 - val_accuracy: 0.9942\n",
      "\u001b[0mEpoch 27/40\u001b[0m\n",
      "\u001b[0m164/164 - 77s - loss: 0.0148 - accuracy: 0.9952 - val_loss: 0.0154 - val_accuracy: 0.9949\n",
      "\u001b[0mEpoch 28/40\u001b[0m\n",
      "\u001b[0m164/164 - 78s - loss: 0.0146 - accuracy: 0.9952 - val_loss: 0.0151 - val_accuracy: 0.9951\n",
      "\u001b[0mEpoch 29/40\u001b[0m\n",
      "\u001b[0m164/164 - 80s - loss: 0.0144 - accuracy: 0.9952 - val_loss: 0.0145 - val_accuracy: 0.9951\n",
      "\u001b[0mEpoch 30/40\u001b[0m\n",
      "\u001b[0m164/164 - 79s - loss: 0.0143 - accuracy: 0.9952 - val_loss: 0.0146 - val_accuracy: 0.9951\n",
      "\u001b[0mEpoch 31/40\u001b[0m\n",
      "\u001b[0m164/164 - 79s - loss: 0.0144 - accuracy: 0.9952 - val_loss: 0.0144 - val_accuracy: 0.9952\n",
      "\u001b[0mEpoch 32/40\u001b[0m\n",
      "\u001b[0m164/164 - 79s - loss: 0.0141 - accuracy: 0.9953 - val_loss: 0.0147 - val_accuracy: 0.9951\n",
      "\u001b[0mEpoch 33/40\u001b[0m\n",
      "\u001b[0m164/164 - 80s - loss: 0.0141 - accuracy: 0.9953 - val_loss: 0.0145 - val_accuracy: 0.9950\n",
      "\u001b[0mEpoch 34/40\u001b[0m\n",
      "\u001b[0m164/164 - 79s - loss: 0.0140 - accuracy: 0.9953 - val_loss: 0.0144 - val_accuracy: 0.9951\n",
      "\u001b[0mEpoch 35/40\u001b[0m\n",
      "\u001b[0m164/164 - 77s - loss: 0.0140 - accuracy: 0.9953 - val_loss: 0.0146 - val_accuracy: 0.9952\n",
      "\u001b[0mEpoch 36/40\u001b[0m\n",
      "\u001b[0m164/164 - 78s - loss: 0.0139 - accuracy: 0.9953 - val_loss: 0.0141 - val_accuracy: 0.9953\n",
      "\u001b[0mEpoch 37/40\u001b[0m\n",
      "\u001b[0m164/164 - 80s - loss: 0.0138 - accuracy: 0.9954 - val_loss: 0.0146 - val_accuracy: 0.9951\n",
      "\u001b[0mEpoch 38/40\u001b[0m\n",
      "\u001b[0m164/164 - 79s - loss: 0.0139 - accuracy: 0.9953 - val_loss: 0.0140 - val_accuracy: 0.9953\n",
      "\u001b[0mEpoch 39/40\u001b[0m\n",
      "\u001b[0m164/164 - 78s - loss: 0.0138 - accuracy: 0.9954 - val_loss: 0.0148 - val_accuracy: 0.9950\n",
      "\u001b[0mEpoch 40/40\u001b[0m\n",
      "\u001b[0m164/164 - 79s - loss: 0.0138 - accuracy: 0.9954 - val_loss: 0.0141 - val_accuracy: 0.9951\n",
      "\u001b[0m"
     ]
    },
    {
     "data": {
      "text/plain": [
       "<tensorflow.python.keras.callbacks.History at 0x1b9df35eb00>"
      ]
     },
     "execution_count": 8,
     "metadata": {},
     "output_type": "execute_result"
    }
   ],
   "source": [
    "model.fit(\n",
    "    [encoder_train_input_data, decoder_train_input_data],\n",
    "    decoder_train_target_data,\n",
    "    batch_size=batch_size,\n",
    "    epochs=epochs,\n",
    "    validation_data = ([encoder_valid_input_data, decoder_valid_input_data], decoder_valid_target_data),\n",
    "    verbose=2\n",
    ")"
   ]
  },
  {
   "cell_type": "markdown",
   "id": "bibliographic-royalty",
   "metadata": {},
   "source": [
    "## Сохранение модели и оценка работы "
   ]
  },
  {
   "cell_type": "code",
   "execution_count": 10,
   "id": "phantom-drove",
   "metadata": {},
   "outputs": [
    {
     "name": "stderr",
     "output_type": "stream",
     "text": [
      "WARNING:absl:Found untraced functions such as lstm_cell_layer_call_and_return_conditional_losses, lstm_cell_layer_call_fn, lstm_cell_1_layer_call_and_return_conditional_losses, lstm_cell_1_layer_call_fn, lstm_cell_layer_call_fn while saving (showing 5 of 10). These functions will not be directly callable after loading.\u001b[0m\n",
      "\u001b[0mWARNING:absl:Found untraced functions such as lstm_cell_layer_call_and_return_conditional_losses, lstm_cell_layer_call_fn, lstm_cell_1_layer_call_and_return_conditional_losses, lstm_cell_1_layer_call_fn, lstm_cell_layer_call_fn while saving (showing 5 of 10). These functions will not be directly callable after loading.\u001b[0m\n",
      "\u001b[0m"
     ]
    },
    {
     "name": "stdout",
     "output_type": "stream",
     "text": [
      "INFO:tensorflow:Assets written to: model\\assets\n"
     ]
    },
    {
     "name": "stderr",
     "output_type": "stream",
     "text": [
      "INFO:tensorflow:Assets written to: model\\assets\u001b[0m\n",
      "\u001b[0m"
     ]
    },
    {
     "name": "stdout",
     "output_type": "stream",
     "text": [
      "653/653 - 67s - loss: 0.0136 - accuracy: 0.9953\n",
      "\u001b[0m35/35 - 3s - loss: 0.0141 - accuracy: 0.9951\n",
      "\u001b[0m35/35 - 4s - loss: 0.8535 - accuracy: 0.8938\n",
      "\u001b[0m"
     ]
    },
    {
     "data": {
      "text/plain": [
       "[0.8534749150276184, 0.8937879204750061]"
      ]
     },
     "execution_count": 10,
     "metadata": {},
     "output_type": "execute_result"
    }
   ],
   "source": [
    "# Save model\n",
    "model.save(\"model\")\n",
    "\n",
    "# Evaluate model\n",
    "model.evaluate([encoder_train_input_data, decoder_train_input_data], decoder_train_target_data, verbose=2)\n",
    "\n",
    "model.evaluate([encoder_valid_input_data, decoder_valid_input_data], decoder_valid_target_data, verbose=2)\n",
    "\n",
    "model.evaluate([encoder_anomal_input_data, decoder_anomal_input_data], decoder_anomal_target_data, verbose=2)"
   ]
  },
  {
   "cell_type": "markdown",
   "id": "optimum-bibliography",
   "metadata": {},
   "source": [
    "## Загрузка модели с диска"
   ]
  },
  {
   "cell_type": "code",
   "execution_count": 12,
   "id": "touched-sound",
   "metadata": {},
   "outputs": [],
   "source": [
    "# Define sampling models\n",
    "# Restore the model and construct the encoder and decoder.\n",
    "model = keras.models.load_model(\"model\")\n",
    "\n",
    "encoder_inputs = model.input[0]  # input_1\n",
    "encoder_outputs, state_h_enc, state_c_enc = model.layers[2].output  # lstm_1\n",
    "encoder_states = [state_h_enc, state_c_enc]\n",
    "encoder_model = keras.Model(encoder_inputs, encoder_states)\n",
    "\n",
    "decoder_inputs = model.input[1]  # input_2\n",
    "decoder_state_input_h = keras.Input(shape=(latent_dim,), name = 'decoder_state_input_h')\n",
    "decoder_state_input_c = keras.Input(shape=(latent_dim,), name = 'decoder_state_input_c')\n",
    "decoder_states_inputs = [decoder_state_input_h, decoder_state_input_c]\n",
    "decoder_lstm = model.layers[3]\n",
    "decoder_outputs, state_h_dec, state_c_dec = decoder_lstm(\n",
    "    decoder_inputs, initial_state=decoder_states_inputs\n",
    ")\n",
    "decoder_states = [state_h_dec, state_c_dec]\n",
    "decoder_dense = model.layers[4]\n",
    "decoder_outputs = decoder_dense(decoder_outputs)\n",
    "decoder_model = keras.Model(\n",
    "    [decoder_inputs] + decoder_states_inputs, [decoder_outputs] + decoder_states\n",
    ")"
   ]
  },
  {
   "cell_type": "markdown",
   "id": "ordinary-representation",
   "metadata": {},
   "source": [
    "## Определение функций для обработки моделью одного \"сырого\" запроса и определения ошибки реконструкции и вероятностей для каждого символа"
   ]
  },
  {
   "cell_type": "code",
   "execution_count": 21,
   "id": "pacific-diagram",
   "metadata": {},
   "outputs": [],
   "source": [
    "# define functions that process one raw request by AE into it's reproduction error and\n",
    "# probabilities for each character\n",
    "\n",
    "def decode_sequence(dec_input_seq):\n",
    "    # Encode the input as state vectors.\n",
    "    states_value = encoder_model.predict(dec_input_seq[:,1:-1,:])\n",
    "\n",
    "    # Populate the first character of target sequence with the start character.\n",
    "    target_seq = dec_input_seq[:,0:1,:]\n",
    "\n",
    "    # Sampling loop for a batch of sequences\n",
    "    decoded = np.zeros(dec_input_seq[:,1:-1,:].shape)\n",
    "    for i in range(dec_input_seq[:,1:-1,:].shape[1]):\n",
    "        output_tokens, h, c = decoder_model.predict([target_seq] + states_value)\n",
    "        decoded[:,i:i+1,:] = output_tokens\n",
    "        target_seq = dec_input_seq[:,i+1:i+2,:]\n",
    "        states_value = [h, c]\n",
    "    return decoded\n",
    "\n",
    "def process_request(request):\n",
    "    req_emb = strlist_to_ohearray([request], len(request), token_index,\n",
    "                                  decoder = True, target=False)\n",
    "    req_decoded = decode_sequence(req_emb)\n",
    "    req_emb = req_emb[:,1:-1,:]\n",
    "    req_emb = req_emb.reshape((req_emb.shape[1],req_emb.shape[2]))\n",
    "    req_decoded = req_decoded.reshape((req_decoded.shape[1],req_decoded.shape[2]))\n",
    "    \n",
    "    req_indexes = []\n",
    "    for i in range(req_emb.shape[0]):\n",
    "        req_indexes += [np.argmax(req_emb[i,:])]\n",
    "    \n",
    "    decoded_probs = []\n",
    "    for i in range(req_decoded.shape[0]):\n",
    "        decoded_probs += [req_decoded[i,req_indexes[i]]]\n",
    "    \n",
    "    decoded_probs = np.array(decoded_probs)\n",
    "    \n",
    "    error = 1 - np.mean(decoded_probs)\n",
    "    \n",
    "    return decoded_probs, error\n",
    "\n",
    "def visual(request, probs):\n",
    "    for i, char in enumerate(request):\n",
    "        if probs[i]<0.5:\n",
    "            print(Back.RED + char, end = \"\")\n",
    "        else:\n",
    "            print(Back.RESET + char, end = \"\")"
   ]
  },
  {
   "cell_type": "markdown",
   "id": "middle-ballot",
   "metadata": {},
   "source": [
    "## Обработка моделью валидационных (нормальных) и тестовых (аномальных) запросов\n",
    "Занимает значительное время (порядка нескольких часов, лучше ставить на ночь)"
   ]
  },
  {
   "cell_type": "code",
   "execution_count": 16,
   "id": "linear-royalty",
   "metadata": {},
   "outputs": [
    {
     "name": "stdout",
     "output_type": "stream",
     "text": [
      "Processing validation sample 1097/1097\n",
      "Processing anomal sample 1097/1097"
     ]
    }
   ],
   "source": [
    "valid_error = []\n",
    "valid_probs = []\n",
    "for n, request in enumerate(valid_requests):\n",
    "    print('\\rProcessing validation sample {:d}/{:d}'.format(n+1, len(valid_requests)), end='')\n",
    "    decoded_probs, error = process_request(request)\n",
    "    valid_probs.append(decoded_probs)\n",
    "    valid_error.append(error)\n",
    "print()\n",
    "    \n",
    "anomal_error = []\n",
    "anomal_probs = []\n",
    "for n, request in enumerate(anomal_requests):\n",
    "    print('\\rProcessing anomal sample {:d}/{:d}'.format(n+1, len(anomal_requests)), end='')\n",
    "    decoded_probs, error = process_request(request)\n",
    "    anomal_probs.append(decoded_probs)\n",
    "    anomal_error.append(error)\n",
    "print()"
   ]
  },
  {
   "cell_type": "markdown",
   "id": "quantitative-times",
   "metadata": {},
   "source": [
    "## Сохранение результатов обработки"
   ]
  },
  {
   "cell_type": "code",
   "execution_count": 17,
   "id": "radical-recorder",
   "metadata": {},
   "outputs": [],
   "source": [
    "with open('valid_error', 'wb') as f:\n",
    "    dump(valid_error, f)\n",
    "with open('valid_probs', 'wb') as f:\n",
    "    dump(valid_probs, f)\n",
    "with open('anomal_error', 'wb') as f:\n",
    "    dump(anomal_error, f)\n",
    "with open('anomal_probs', 'wb') as f:\n",
    "    dump(anomal_probs, f)"
   ]
  },
  {
   "cell_type": "markdown",
   "id": "unnecessary-tourism",
   "metadata": {},
   "source": [
    "## Определение порогового значения ошибки для обнаружения аномалий"
   ]
  },
  {
   "cell_type": "code",
   "execution_count": 24,
   "id": "opened-density",
   "metadata": {},
   "outputs": [
    {
     "name": "stdout",
     "output_type": "stream",
     "text": [
      "0.11616830066345976\u001b[0m\n",
      "\u001b[0m"
     ]
    }
   ],
   "source": [
    "K_sigma = 6\n",
    "threshold = np.mean(valid_error) + K_sigma * np.std(valid_error)\n",
    "with open('model/threshold', 'wb') as f:\n",
    "    dump(threshold, f)## Загрузка модели с диска\n",
    "print(threshold)"
   ]
  },
  {
   "cell_type": "markdown",
   "id": "julian-concept",
   "metadata": {},
   "source": [
    "## Построение гистограммы для нормальных и аномальных запросов"
   ]
  },
  {
   "cell_type": "code",
   "execution_count": 26,
   "id": "eight-norfolk",
   "metadata": {},
   "outputs": [
    {
     "data": {
      "image/png": "[encoded data removed]",
      "text/plain": [
       "<Figure size 864x504 with 1 Axes>"
      ]
     },
     "metadata": {
      "needs_background": "light"
     },
     "output_type": "display_data"
    }
   ],
   "source": [
    "# plot histograms of valid and anomal requests by it's reproduction error\n",
    "bins = np.linspace(0,1,101)\n",
    "\n",
    "plt.figure(figsize=(12,7))\n",
    "plt.hist(valid_error, bins, label='Нормальные запросы', color = 'green')\n",
    "plt.hist(anomal_error, bins, label='Аномальные запросы', color = 'red')\n",
    "plt.axvline(threshold, label='Порог', color='blue')\n",
    "plt.legend(loc='upper right')\n",
    "plt.xlabel('Ошибка воспроизведения запроса')\n",
    "plt.ylabel('Количество запросов')\n",
    "plt.title('Гистограмма распределений нормальных и аномальных запросов\\nв зависимости от ошибки воспроизведения')\n",
    "plt.savefig('Histogram.png')\n",
    "plt.show()"
   ]
  },
  {
   "cell_type": "markdown",
   "id": "plastic-interface",
   "metadata": {},
   "source": [
    "## Вычисление метрик качества для, вывод отчета и сохранение в файл"
   ]
  },
  {
   "cell_type": "code",
   "execution_count": 20,
   "id": "boolean-morning",
   "metadata": {
    "tags": []
   },
   "outputs": [
    {
     "name": "stdout",
     "output_type": "stream",
     "text": [
      "\n",
      "\u001b[0mTest report:\u001b[0m\n",
      "\u001b[0m____________\u001b[0m\n",
      "\u001b[0mAccuracy score  :\u001b[0m \u001b[0m0.9990884229717412\u001b[0m\n",
      "\u001b[0mPrecision score :\u001b[0m \u001b[0m1.0\u001b[0m\n",
      "\u001b[0mRecall score    :\u001b[0m \u001b[0m0.9981768459434822\u001b[0m\n",
      "\u001b[0mF1 score        :\u001b[0m \u001b[0m0.9990875912408759\u001b[0m\n",
      "\u001b[0m\n",
      "\u001b[0mConfusion matrix:\u001b[0m\n",
      "\u001b[0m             pred:anomal  pred:normal\n",
      "true:anomal         1095            2\n",
      "true:normal            0         1097\u001b[0m\n",
      "\u001b[0m"
     ]
    }
   ],
   "source": [
    "# calculating quality metrics\n",
    "\n",
    "FN_ind = np.where(np.array(anomal_error)<=threshold)[0].tolist()\n",
    "FP_ind = np.where(np.array(valid_error)>threshold)[0].tolist()\n",
    "TN_ind = np.where(np.array(valid_error)<=threshold)[0].tolist()\n",
    "TP_ind = np.where(np.array(anomal_error)>threshold)[0].tolist()\n",
    "\n",
    "FN, FP, TN, TP = len(FN_ind), len(FP_ind), len(TN_ind), len(TP_ind)\n",
    "accuracy_score = (TP + TN) / (TP + TN + FP + FN)\n",
    "precision_score = TP / (TP + FP)\n",
    "recall_score = TP / (TP + FN)\n",
    "f1_score = 2 * precision_score * recall_score / (precision_score + recall_score)\n",
    "conf_matrix = pd.DataFrame(\n",
    "    [[TP, FN], [FP, TN]], \n",
    "    index=['true:anomal', 'true:normal'], \n",
    "    columns=['pred:anomal', 'pred:normal']\n",
    "    )\n",
    "\n",
    "print()\n",
    "print('Test report:')\n",
    "print('____________')\n",
    "print('Accuracy score  :', accuracy_score)\n",
    "print('Precision score :', precision_score)\n",
    "print('Recall score    :', recall_score)\n",
    "print('F1 score        :', f1_score)\n",
    "print()\n",
    "print('Confusion matrix:')\n",
    "print(conf_matrix)\n",
    "\n",
    "with open('test report.txt', 'w') as f:\n",
    "    print('Test report:', file = f)\n",
    "    print('____________', file = f)\n",
    "    print('Accuracy score  :', accuracy_score, file = f)\n",
    "    print('Precision score :', precision_score, file = f)\n",
    "    print('Recall score    :', recall_score, file = f)\n",
    "    print('F1 score        :', f1_score, file = f)\n",
    "    print('', file = f)\n",
    "    print('Confusion matrix:', file = f)\n",
    "    print(conf_matrix, file = f)"
   ]
  },
  {
   "cell_type": "markdown",
   "id": "controversial-sleeping",
   "metadata": {},
   "source": [
    "## Вывод всех FN- и FP-срабатываний, и нескольких TP-срабатываний с выделением участков аномальности запросов"
   ]
  },
  {
   "cell_type": "code",
   "execution_count": 29,
   "id": "inclusive-daughter",
   "metadata": {},
   "outputs": [
    {
     "name": "stdout",
     "output_type": "stream",
     "text": [
      "\n",
      "\u001b[0m==== FN Anomal sample 2. Error: 0.06589613067880684 ====\n",
      "\u001b[0m\n",
      "\u001b[0m\u001b[49mP\u001b[0m\u001b[0m\u001b[49mO\u001b[0m\u001b[0m\u001b[49mS\u001b[0m\u001b[0m\u001b[49mT\u001b[0m\u001b[0m\u001b[49m \u001b[0m\u001b[0m\u001b[49m/\u001b[0m\u001b[0m\u001b[49mv\u001b[0m\u001b[0m\u001b[49mu\u001b[0m\u001b[0m\u001b[49ml\u001b[0m\u001b[0m\u001b[49mn\u001b[0m\u001b[0m\u001b[49mb\u001b[0m\u001b[0m\u001b[49ma\u001b[0m\u001b[0m\u001b[49mn\u001b[0m\u001b[0m\u001b[49mk\u001b[0m\u001b[0m\u001b[49m/\u001b[0m\u001b[0m\u001b[49mo\u001b[0m\u001b[0m\u001b[49mn\u001b[0m\u001b[0m\u001b[49ml\u001b[0m\u001b[0m\u001b[49mi\u001b[0m\u001b[0m\u001b[49mn\u001b[0m\u001b[0m\u001b[49me\u001b[0m\u001b[0m\u001b[49m/\u001b[0m\u001b[0m\u001b[49ma\u001b[0m\u001b[0m\u001b[49mp\u001b[0m\u001b[0m\u001b[49mi\u001b[0m\u001b[0m\u001b[49m.\u001b[0m\u001b[0m\u001b[49mp\u001b[0m\u001b[0m\u001b[49mh\u001b[0m\u001b[0m\u001b[49mp\u001b[0m\u001b[0m\u001b[49m \u001b[0m\u001b[0m\u001b[49mH\u001b[0m\u001b[0m\u001b[49mT\u001b[0m\u001b[0m\u001b[49mT\u001b[0m\u001b[0m\u001b[49mP\u001b[0m\u001b[0m\u001b[49m/\u001b[0m\u001b[0m\u001b[49m1\u001b[0m\u001b[0m\u001b[49m.\u001b[0m\u001b[0m\u001b[49m1\u001b[0m\u001b[0m\u001b[49m\n",
      "\u001b[0m\u001b[0m\u001b[49mH\u001b[0m\u001b[0m\u001b[49mo\u001b[0m\u001b[0m\u001b[49ms\u001b[0m\u001b[0m\u001b[49mt\u001b[0m\u001b[0m\u001b[49m:\u001b[0m\u001b[0m\u001b[49m \u001b[0m\u001b[0m\u001b[49m1\u001b[0m\u001b[0m\u001b[49m0\u001b[0m\u001b[0m\u001b[49m.\u001b[0m\u001b[0m\u001b[49m0\u001b[0m\u001b[0m\u001b[49m.\u001b[0m\u001b[0m\u001b[49m2\u001b[0m\u001b[0m\u001b[49m1\u001b[0m\u001b[0m\u001b[49m2\u001b[0m\u001b[0m\u001b[49m.\u001b[0m\u001b[0m\u001b[49m2\u001b[0m\u001b[0m\u001b[49m5\u001b[0m\u001b[0m\u001b[49m\n",
      "\u001b[0m\u001b[0m\u001b[41mU\u001b[0m\u001b[0m\u001b[49ms\u001b[0m\u001b[0m\u001b[49me\u001b[0m\u001b[0m\u001b[49mr\u001b[0m\u001b[0m\u001b[49m-\u001b[0m\u001b[0m\u001b[49mA\u001b[0m\u001b[0m\u001b[49mg\u001b[0m\u001b[0m\u001b[49me\u001b[0m\u001b[0m\u001b[49mn\u001b[0m\u001b[0m\u001b[49mt\u001b[0m\u001b[0m\u001b[49m:\u001b[0m\u001b[0m\u001b[49m \u001b[0m\u001b[0m\u001b[49mM\u001b[0m\u001b[0m\u001b[49mo\u001b[0m\u001b[0m\u001b[49mz\u001b[0m\u001b[0m\u001b[49mi\u001b[0m\u001b[0m\u001b[49ml\u001b[0m\u001b[0m\u001b[49ml\u001b[0m\u001b[0m\u001b[49ma\u001b[0m\u001b[0m\u001b[49m/\u001b[0m\u001b[0m\u001b[49m5\u001b[0m\u001b[0m\u001b[49m.\u001b[0m\u001b[0m\u001b[49m0\u001b[0m\u001b[0m\u001b[49m \u001b[0m\u001b[0m\u001b[49m(\u001b[0m\u001b[0m\u001b[41mX\u001b[0m\u001b[0m\u001b[49m1\u001b[0m\u001b[0m\u001b[49m1\u001b[0m\u001b[0m\u001b[49m;\u001b[0m\u001b[0m\u001b[49m \u001b[0m\u001b[0m\u001b[49mU\u001b[0m\u001b[0m\u001b[49mb\u001b[0m\u001b[0m\u001b[49mu\u001b[0m\u001b[0m\u001b[49mn\u001b[0m\u001b[0m\u001b[49mt\u001b[0m\u001b[0m\u001b[49mu\u001b[0m\u001b[0m\u001b[49m;\u001b[0m\u001b[0m\u001b[49m \u001b[0m\u001b[0m\u001b[49mL\u001b[0m\u001b[0m\u001b[49mi\u001b[0m\u001b[0m\u001b[49mn\u001b[0m\u001b[0m\u001b[49mu\u001b[0m\u001b[0m\u001b[49mx\u001b[0m\u001b[0m\u001b[49m \u001b[0m\u001b[0m\u001b[49mx\u001b[0m\u001b[0m\u001b[49m8\u001b[0m\u001b[0m\u001b[49m6\u001b[0m\u001b[0m\u001b[49m_\u001b[0m\u001b[0m\u001b[49m6\u001b[0m\u001b[0m\u001b[49m4\u001b[0m\u001b[0m\u001b[49m;\u001b[0m\u001b[0m\u001b[49m \u001b[0m\u001b[0m\u001b[49mr\u001b[0m\u001b[0m\u001b[49mv\u001b[0m\u001b[0m\u001b[49m:\u001b[0m\u001b[0m\u001b[49m5\u001b[0m\u001b[0m\u001b[49m9\u001b[0m\u001b[0m\u001b[49m.\u001b[0m\u001b[0m\u001b[49m0\u001b[0m\u001b[0m\u001b[49m)\u001b[0m\u001b[0m\u001b[49m \u001b[0m\u001b[0m\u001b[49mG\u001b[0m\u001b[0m\u001b[49me\u001b[0m\u001b[0m\u001b[49mc\u001b[0m\u001b[0m\u001b[49mk\u001b[0m\u001b[0m\u001b[49mo\u001b[0m\u001b[0m\u001b[49m/\u001b[0m\u001b[0m\u001b[49m2\u001b[0m\u001b[0m\u001b[49m0\u001b[0m\u001b[0m\u001b[49m1\u001b[0m\u001b[0m\u001b[49m0\u001b[0m\u001b[0m\u001b[49m0\u001b[0m\u001b[0m\u001b[49m1\u001b[0m\u001b[0m\u001b[49m0\u001b[0m\u001b[0m\u001b[49m1\u001b[0m\u001b[0m\u001b[49m \u001b[0m\u001b[0m\u001b[49mF\u001b[0m\u001b[0m\u001b[49mi\u001b[0m\u001b[0m\u001b[49mr\u001b[0m\u001b[0m\u001b[49me\u001b[0m\u001b[0m\u001b[49mf\u001b[0m\u001b[0m\u001b[49mo\u001b[0m\u001b[0m\u001b[49mx\u001b[0m\u001b[0m\u001b[49m/\u001b[0m\u001b[0m\u001b[49m5\u001b[0m\u001b[0m\u001b[49m9\u001b[0m\u001b[0m\u001b[49m.\u001b[0m\u001b[0m\u001b[49m0\u001b[0m\u001b[0m\u001b[49m\n",
      "\u001b[0m\u001b[0m\u001b[49mA\u001b[0m\u001b[0m\u001b[49mc\u001b[0m\u001b[0m\u001b[49mc\u001b[0m\u001b[0m\u001b[49me\u001b[0m\u001b[0m\u001b[49mp\u001b[0m\u001b[0m\u001b[49mt\u001b[0m\u001b[0m\u001b[49m:\u001b[0m\u001b[0m\u001b[49m \u001b[0m\u001b[0m\u001b[41ma\u001b[0m\u001b[0m\u001b[49mp\u001b[0m\u001b[0m\u001b[49mp\u001b[0m\u001b[0m\u001b[49ml\u001b[0m\u001b[0m\u001b[49mi\u001b[0m\u001b[0m\u001b[49mc\u001b[0m\u001b[0m\u001b[49ma\u001b[0m\u001b[0m\u001b[49mt\u001b[0m\u001b[0m\u001b[49mi\u001b[0m\u001b[0m\u001b[49mo\u001b[0m\u001b[0m\u001b[49mn\u001b[0m\u001b[0m\u001b[49m/\u001b[0m\u001b[0m\u001b[49mj\u001b[0m\u001b[0m\u001b[49ms\u001b[0m\u001b[0m\u001b[49mo\u001b[0m\u001b[0m\u001b[49mn\u001b[0m\u001b[0m\u001b[49m,\u001b[0m\u001b[0m\u001b[49m \u001b[0m\u001b[0m\u001b[49mt\u001b[0m\u001b[0m\u001b[49me\u001b[0m\u001b[0m\u001b[49mx\u001b[0m\u001b[0m\u001b[49mt\u001b[0m\u001b[0m\u001b[49m/\u001b[0m\u001b[0m\u001b[49mj\u001b[0m\u001b[0m\u001b[49ma\u001b[0m\u001b[0m\u001b[49mv\u001b[0m\u001b[0m\u001b[49ma\u001b[0m\u001b[0m\u001b[49ms\u001b[0m\u001b[0m\u001b[49mc\u001b[0m\u001b[0m\u001b[49mr\u001b[0m\u001b[0m\u001b[49mi\u001b[0m\u001b[0m\u001b[49mp\u001b[0m\u001b[0m\u001b[49mt\u001b[0m\u001b[0m\u001b[49m,\u001b[0m\u001b[0m\u001b[49m \u001b[0m\u001b[0m\u001b[49m*\u001b[0m\u001b[0m\u001b[49m/\u001b[0m\u001b[0m\u001b[49m*\u001b[0m\u001b[0m\u001b[49m;\u001b[0m\u001b[0m\u001b[49m \u001b[0m\u001b[0m\u001b[49mq\u001b[0m\u001b[0m\u001b[49m=\u001b[0m\u001b[0m\u001b[49m0\u001b[0m\u001b[0m\u001b[49m.\u001b[0m\u001b[0m\u001b[49m0\u001b[0m\u001b[0m\u001b[49m1\u001b[0m\u001b[0m\u001b[49m\n",
      "\u001b[0m\u001b[0m\u001b[49mA\u001b[0m\u001b[0m\u001b[49mc\u001b[0m\u001b[0m\u001b[49mc\u001b[0m\u001b[0m\u001b[49me\u001b[0m\u001b[0m\u001b[49mp\u001b[0m\u001b[0m\u001b[49mt\u001b[0m\u001b[0m\u001b[49m-\u001b[0m\u001b[0m\u001b[49mL\u001b[0m\u001b[0m\u001b[49ma\u001b[0m\u001b[0m\u001b[49mn\u001b[0m\u001b[0m\u001b[49mg\u001b[0m\u001b[0m\u001b[49mu\u001b[0m\u001b[0m\u001b[49ma\u001b[0m\u001b[0m\u001b[49mg\u001b[0m\u001b[0m\u001b[49me\u001b[0m\u001b[0m\u001b[49m:\u001b[0m\u001b[0m\u001b[49m \u001b[0m\u001b[0m\u001b[49me\u001b[0m\u001b[0m\u001b[49mn\u001b[0m\u001b[0m\u001b[49m-\u001b[0m\u001b[0m\u001b[49mU\u001b[0m\u001b[0m\u001b[49mS\u001b[0m\u001b[0m\u001b[49m,\u001b[0m\u001b[0m\u001b[49me\u001b[0m\u001b[0m\u001b[49mn\u001b[0m\u001b[0m\u001b[49m;\u001b[0m\u001b[0m\u001b[49mq\u001b[0m\u001b[0m\u001b[49m=\u001b[0m\u001b[0m\u001b[49m0\u001b[0m\u001b[0m\u001b[49m.\u001b[0m\u001b[0m\u001b[49m5\u001b[0m\u001b[0m\u001b[49m\n",
      "\u001b[0m\u001b[0m\u001b[49mA\u001b[0m\u001b[0m\u001b[49mc\u001b[0m\u001b[0m\u001b[49mc\u001b[0m\u001b[0m\u001b[49me\u001b[0m\u001b[0m\u001b[49mp\u001b[0m\u001b[0m\u001b[49mt\u001b[0m\u001b[0m\u001b[49m-\u001b[0m\u001b[0m\u001b[49mE\u001b[0m\u001b[0m\u001b[49mn\u001b[0m\u001b[0m\u001b[49mc\u001b[0m\u001b[0m\u001b[49mo\u001b[0m\u001b[0m\u001b[49md\u001b[0m\u001b[0m\u001b[49mi\u001b[0m\u001b[0m\u001b[49mn\u001b[0m\u001b[0m\u001b[49mg\u001b[0m\u001b[0m\u001b[49m:\u001b[0m\u001b[0m\u001b[49m \u001b[0m\u001b[0m\u001b[49mg\u001b[0m\u001b[0m\u001b[49mz\u001b[0m\u001b[0m\u001b[49mi\u001b[0m\u001b[0m\u001b[49mp\u001b[0m\u001b[0m\u001b[49m,\u001b[0m\u001b[0m\u001b[49m \u001b[0m\u001b[0m\u001b[49md\u001b[0m\u001b[0m\u001b[49me\u001b[0m\u001b[0m\u001b[49mf\u001b[0m\u001b[0m\u001b[49ml\u001b[0m\u001b[0m\u001b[49ma\u001b[0m\u001b[0m\u001b[49mt\u001b[0m\u001b[0m\u001b[49me\u001b[0m\u001b[0m\u001b[49m\n",
      "\u001b[0m\u001b[0m\u001b[49mR\u001b[0m\u001b[0m\u001b[49me\u001b[0m\u001b[0m\u001b[49mf\u001b[0m\u001b[0m\u001b[49me\u001b[0m\u001b[0m\u001b[49mr\u001b[0m\u001b[0m\u001b[49me\u001b[0m\u001b[0m\u001b[49mr\u001b[0m\u001b[0m\u001b[49m:\u001b[0m\u001b[0m\u001b[49m \u001b[0m\u001b[0m\u001b[49mh\u001b[0m\u001b[0m\u001b[49mt\u001b[0m\u001b[0m\u001b[49mt\u001b[0m\u001b[0m\u001b[49mp\u001b[0m\u001b[0m\u001b[49m:\u001b[0m\u001b[0m\u001b[49m/\u001b[0m\u001b[0m\u001b[49m/\u001b[0m\u001b[0m\u001b[49m1\u001b[0m\u001b[0m\u001b[49m0\u001b[0m\u001b[0m\u001b[49m.\u001b[0m\u001b[0m\u001b[49m0\u001b[0m\u001b[0m\u001b[49m.\u001b[0m\u001b[0m\u001b[49m2\u001b[0m\u001b[0m\u001b[49m1\u001b[0m\u001b[0m\u001b[49m2\u001b[0m\u001b[0m\u001b[49m.\u001b[0m\u001b[0m\u001b[49m2\u001b[0m\u001b[0m\u001b[49m5\u001b[0m\u001b[0m\u001b[49m/\u001b[0m\u001b[0m\u001b[49mv\u001b[0m\u001b[0m\u001b[49mu\u001b[0m\u001b[0m\u001b[49ml\u001b[0m\u001b[0m\u001b[49mn\u001b[0m\u001b[0m\u001b[49mb\u001b[0m\u001b[0m\u001b[49ma\u001b[0m\u001b[0m\u001b[49mn\u001b[0m\u001b[0m\u001b[49mk\u001b[0m\u001b[0m\u001b[49m/\u001b[0m\u001b[0m\u001b[49mo\u001b[0m\u001b[0m\u001b[49mn\u001b[0m\u001b[0m\u001b[49ml\u001b[0m\u001b[0m\u001b[49mi\u001b[0m\u001b[0m\u001b[49mn\u001b[0m\u001b[0m\u001b[49me\u001b[0m\u001b[0m\u001b[49m/\u001b[0m\u001b[0m\u001b[41mt\u001b[0m\u001b[0m\u001b[49mr\u001b[0m\u001b[0m\u001b[49ma\u001b[0m\u001b[0m\u001b[49mn\u001b[0m\u001b[0m\u001b[49ms\u001b[0m\u001b[0m\u001b[49ma\u001b[0m\u001b[0m\u001b[49mc\u001b[0m\u001b[0m\u001b[49mt\u001b[0m\u001b[0m\u001b[49mi\u001b[0m\u001b[0m\u001b[49mo\u001b[0m\u001b[0m\u001b[49mn\u001b[0m\u001b[0m\u001b[49ms\u001b[0m\u001b[0m\u001b[49m.\u001b[0m\u001b[0m\u001b[49mp\u001b[0m\u001b[0m\u001b[49mh\u001b[0m\u001b[0m\u001b[49mp\u001b[0m\u001b[0m\u001b[49m\n",
      "\u001b[0m\u001b[0m\u001b[49mC\u001b[0m\u001b[0m\u001b[49mo\u001b[0m\u001b[0m\u001b[49mn\u001b[0m\u001b[0m\u001b[49mt\u001b[0m\u001b[0m\u001b[49me\u001b[0m\u001b[0m\u001b[49mn\u001b[0m\u001b[0m\u001b[49mt\u001b[0m\u001b[0m\u001b[49m-\u001b[0m\u001b[0m\u001b[49mT\u001b[0m\u001b[0m\u001b[49my\u001b[0m\u001b[0m\u001b[49mp\u001b[0m\u001b[0m\u001b[49me\u001b[0m\u001b[0m\u001b[49m:\u001b[0m\u001b[0m\u001b[49m \u001b[0m\u001b[0m\u001b[49ma\u001b[0m\u001b[0m\u001b[49mp\u001b[0m\u001b[0m\u001b[49mp\u001b[0m\u001b[0m\u001b[49ml\u001b[0m\u001b[0m\u001b[49mi\u001b[0m\u001b[0m\u001b[49mc\u001b[0m\u001b[0m\u001b[49ma\u001b[0m\u001b[0m\u001b[49mt\u001b[0m\u001b[0m\u001b[49mi\u001b[0m\u001b[0m\u001b[49mo\u001b[0m\u001b[0m\u001b[49mn\u001b[0m\u001b[0m\u001b[49m/\u001b[0m\u001b[0m\u001b[49mx\u001b[0m\u001b[0m\u001b[49m-\u001b[0m\u001b[0m\u001b[49mw\u001b[0m\u001b[0m\u001b[49mw\u001b[0m\u001b[0m\u001b[49mw\u001b[0m\u001b[0m\u001b[49m-\u001b[0m\u001b[0m\u001b[49mf\u001b[0m\u001b[0m\u001b[49mo\u001b[0m\u001b[0m\u001b[49mr\u001b[0m\u001b[0m\u001b[49mm\u001b[0m\u001b[0m\u001b[49m-\u001b[0m\u001b[0m\u001b[49mu\u001b[0m\u001b[0m\u001b[49mr\u001b[0m\u001b[0m\u001b[49ml\u001b[0m\u001b[0m\u001b[49me\u001b[0m\u001b[0m\u001b[49mn\u001b[0m\u001b[0m\u001b[49mc\u001b[0m\u001b[0m\u001b[49mo\u001b[0m\u001b[0m\u001b[49md\u001b[0m\u001b[0m\u001b[49me\u001b[0m\u001b[0m\u001b[49md\u001b[0m\u001b[0m\u001b[49m;\u001b[0m\u001b[0m\u001b[49m \u001b[0m\u001b[0m\u001b[49mc\u001b[0m\u001b[0m\u001b[49mh\u001b[0m\u001b[0m\u001b[49ma\u001b[0m\u001b[0m\u001b[49mr\u001b[0m\u001b[0m\u001b[49ms\u001b[0m\u001b[0m\u001b[49me\u001b[0m\u001b[0m\u001b[49mt\u001b[0m\u001b[0m\u001b[49m=\u001b[0m\u001b[0m\u001b[49mU\u001b[0m\u001b[0m\u001b[49mT\u001b[0m\u001b[0m\u001b[49mF\u001b[0m\u001b[0m\u001b[49m-\u001b[0m\u001b[0m\u001b[49m8\u001b[0m\u001b[0m\u001b[49m\n",
      "\u001b[0m\u001b[0m\u001b[49mX\u001b[0m\u001b[0m\u001b[49m-\u001b[0m\u001b[0m\u001b[49mR\u001b[0m\u001b[0m\u001b[49me\u001b[0m\u001b[0m\u001b[49mq\u001b[0m\u001b[0m\u001b[49mu\u001b[0m\u001b[0m\u001b[49me\u001b[0m\u001b[0m\u001b[49ms\u001b[0m\u001b[0m\u001b[49mt\u001b[0m\u001b[0m\u001b[49me\u001b[0m\u001b[0m\u001b[49md\u001b[0m\u001b[0m\u001b[49m-\u001b[0m\u001b[0m\u001b[49mW\u001b[0m\u001b[0m\u001b[49mi\u001b[0m\u001b[0m\u001b[49mt\u001b[0m\u001b[0m\u001b[49mh\u001b[0m\u001b[0m\u001b[49m:\u001b[0m\u001b[0m\u001b[49m \u001b[0m\u001b[0m\u001b[49mX\u001b[0m\u001b[0m\u001b[49mM\u001b[0m\u001b[0m\u001b[49mL\u001b[0m\u001b[0m\u001b[49mH\u001b[0m\u001b[0m\u001b[49mt\u001b[0m\u001b[0m\u001b[49mt\u001b[0m\u001b[0m\u001b[49mp\u001b[0m\u001b[0m\u001b[49mR\u001b[0m\u001b[0m\u001b[49me\u001b[0m\u001b[0m\u001b[49mq\u001b[0m\u001b[0m\u001b[49mu\u001b[0m\u001b[0m\u001b[49me\u001b[0m\u001b[0m\u001b[49ms\u001b[0m\u001b[0m\u001b[49mt\u001b[0m\u001b[0m\u001b[49m\n",
      "\u001b[0m\u001b[0m\u001b[49mC\u001b[0m\u001b[0m\u001b[49mo\u001b[0m\u001b[0m\u001b[49mn\u001b[0m\u001b[0m\u001b[49mt\u001b[0m\u001b[0m\u001b[49me\u001b[0m\u001b[0m\u001b[49mn\u001b[0m\u001b[0m\u001b[49mt\u001b[0m\u001b[0m\u001b[49m-\u001b[0m\u001b[0m\u001b[49mL\u001b[0m\u001b[0m\u001b[49me\u001b[0m\u001b[0m\u001b[49mn\u001b[0m\u001b[0m\u001b[49mg\u001b[0m\u001b[0m\u001b[49mt\u001b[0m\u001b[0m\u001b[49mh\u001b[0m\u001b[0m\u001b[49m:\u001b[0m\u001b[0m\u001b[49m \u001b[0m\u001b[0m\u001b[49m1\u001b[0m\u001b[0m\u001b[41m6\u001b[0m\u001b[0m\u001b[41m2\u001b[0m\u001b[0m\u001b[49m\n",
      "\u001b[0m\u001b[0m\u001b[49mC\u001b[0m\u001b[0m\u001b[49mo\u001b[0m\u001b[0m\u001b[49mo\u001b[0m\u001b[0m\u001b[49mk\u001b[0m\u001b[0m\u001b[49mi\u001b[0m\u001b[0m\u001b[49me\u001b[0m\u001b[0m\u001b[49m:\u001b[0m\u001b[0m\u001b[49m \u001b[0m\u001b[0m\u001b[49mP\u001b[0m\u001b[0m\u001b[49mH\u001b[0m\u001b[0m\u001b[49mP\u001b[0m\u001b[0m\u001b[49mS\u001b[0m\u001b[0m\u001b[49mE\u001b[0m\u001b[0m\u001b[49mS\u001b[0m\u001b[0m\u001b[49mS\u001b[0m\u001b[0m\u001b[49mI\u001b[0m\u001b[0m\u001b[49mD\u001b[0m\u001b[0m\u001b[49m=\u001b[0m\u001b[0m\u001b[49mc\u001b[0m\u001b[0m\u001b[49mh\u001b[0m\u001b[0m\u001b[49m1\u001b[0m\u001b[0m\u001b[49mu\u001b[0m\u001b[0m\u001b[49mp\u001b[0m\u001b[0m\u001b[49mt\u001b[0m\u001b[0m\u001b[49m4\u001b[0m\u001b[0m\u001b[49ml\u001b[0m\u001b[0m\u001b[49mk\u001b[0m\u001b[0m\u001b[49m9\u001b[0m\u001b[0m\u001b[49mo\u001b[0m\u001b[0m\u001b[49mn\u001b[0m\u001b[0m\u001b[49mm\u001b[0m\u001b[0m\u001b[49m6\u001b[0m\u001b[0m\u001b[49me\u001b[0m\u001b[0m\u001b[49m2\u001b[0m\u001b[0m\u001b[49m6\u001b[0m\u001b[0m\u001b[49ml\u001b[0m\u001b[0m\u001b[49mo\u001b[0m\u001b[0m\u001b[49m4\u001b[0m\u001b[0m\u001b[49ml\u001b[0m\u001b[0m\u001b[49mk\u001b[0m\u001b[0m\u001b[49mc\u001b[0m\u001b[0m\u001b[49m8\u001b[0m\u001b[0m\u001b[49m9\u001b[0m\u001b[0m\u001b[49m3\u001b[0m\u001b[0m\u001b[49m\n",
      "\u001b[0m\u001b[0m\u001b[49mC\u001b[0m\u001b[0m\u001b[49mo\u001b[0m\u001b[0m\u001b[49mn\u001b[0m\u001b[0m\u001b[49mn\u001b[0m\u001b[0m\u001b[49me\u001b[0m\u001b[0m\u001b[49mc\u001b[0m\u001b[0m\u001b[49mt\u001b[0m\u001b[0m\u001b[49mi\u001b[0m\u001b[0m\u001b[49mo\u001b[0m\u001b[0m\u001b[49mn\u001b[0m\u001b[0m\u001b[49m:\u001b[0m\u001b[0m\u001b[49m \u001b[0m\u001b[0m\u001b[49mk\u001b[0m\u001b[0m\u001b[49me\u001b[0m\u001b[0m\u001b[49me\u001b[0m\u001b[0m\u001b[49mp\u001b[0m\u001b[0m\u001b[49m-\u001b[0m\u001b[0m\u001b[49ma\u001b[0m\u001b[0m\u001b[49ml\u001b[0m\u001b[0m\u001b[49mi\u001b[0m\u001b[0m\u001b[49mv\u001b[0m\u001b[0m\u001b[49me\u001b[0m\u001b[0m\u001b[49m\n",
      "\u001b[0m\u001b[0m\u001b[49m\n",
      "\u001b[0m\u001b[0m\u001b[49mt\u001b[0m\u001b[0m\u001b[49my\u001b[0m\u001b[0m\u001b[49mp\u001b[0m\u001b[0m\u001b[49me\u001b[0m\u001b[0m\u001b[49m=\u001b[0m\u001b[0m\u001b[41mt\u001b[0m\u001b[0m\u001b[49mr\u001b[0m\u001b[0m\u001b[49ma\u001b[0m\u001b[0m\u001b[49mn\u001b[0m\u001b[0m\u001b[49ms\u001b[0m\u001b[0m\u001b[49ma\u001b[0m\u001b[0m\u001b[49mc\u001b[0m\u001b[0m\u001b[49mt\u001b[0m\u001b[0m\u001b[49mi\u001b[0m\u001b[0m\u001b[49mo\u001b[0m\u001b[0m\u001b[49mn\u001b[0m\u001b[0m\u001b[49m&\u001b[0m\u001b[0m\u001b[49ma\u001b[0m\u001b[0m\u001b[49mc\u001b[0m\u001b[0m\u001b[49mt\u001b[0m\u001b[0m\u001b[49mi\u001b[0m\u001b[0m\u001b[49mo\u001b[0m\u001b[0m\u001b[49mn\u001b[0m\u001b[0m\u001b[49m=\u001b[0m\u001b[0m\u001b[49ms\u001b[0m\u001b[0m\u001b[49me\u001b[0m\u001b[0m\u001b[49mn\u001b[0m\u001b[0m\u001b[49md\u001b[0m\u001b[0m\u001b[49m&\u001b[0m\u001b[0m\u001b[49ms\u001b[0m\u001b[0m\u001b[49me\u001b[0m\u001b[0m\u001b[49mn\u001b[0m\u001b[0m\u001b[49md\u001b[0m\u001b[0m\u001b[49me\u001b[0m\u001b[0m\u001b[49mr\u001b[0m\u001b[0m\u001b[49m=\u001b[0m\u001b[0m\u001b[49mD\u001b[0m\u001b[0m\u001b[49mE\u001b[0m\u001b[0m\u001b[49m0\u001b[0m\u001b[0m\u001b[49m0\u001b[0m\u001b[0m\u001b[49m0\u001b[0m\u001b[0m\u001b[49m0\u001b[0m\u001b[0m\u001b[49m0\u001b[0m\u001b[0m\u001b[49m1\u001b[0m\u001b[0m\u001b[49m1\u001b[0m\u001b[0m\u001b[49m1\u001b[0m\u001b[0m\u001b[49m1\u001b[0m\u001b[0m\u001b[49m1\u001b[0m\u001b[0m\u001b[49m2\u001b[0m\u001b[0m\u001b[49m2\u001b[0m\u001b[0m\u001b[49m2\u001b[0m\u001b[0m\u001b[49m2\u001b[0m\u001b[0m\u001b[49m2\u001b[0m\u001b[0m\u001b[49m3\u001b[0m\u001b[0m\u001b[49m3\u001b[0m\u001b[0m\u001b[49m3\u001b[0m\u001b[0m\u001b[49m3\u001b[0m\u001b[0m\u001b[49m3\u001b[0m\u001b[0m\u001b[49m&\u001b[0m\u001b[0m\u001b[49mr\u001b[0m\u001b[0m\u001b[49me\u001b[0m\u001b[0m\u001b[49mc\u001b[0m\u001b[0m\u001b[49mi\u001b[0m\u001b[0m\u001b[49mp\u001b[0m\u001b[0m\u001b[49mi\u001b[0m\u001b[0m\u001b[49me\u001b[0m\u001b[0m\u001b[49mn\u001b[0m\u001b[0m\u001b[49mt\u001b[0m\u001b[0m\u001b[49m=\u001b[0m\u001b[0m\u001b[49mD\u001b[0m\u001b[0m\u001b[49mE\u001b[0m\u001b[0m\u001b[41m1\u001b[0m\u001b[0m\u001b[49m1\u001b[0m\u001b[0m\u001b[49m1\u001b[0m\u001b[0m\u001b[49m1\u001b[0m\u001b[0m\u001b[49m1\u001b[0m\u001b[0m\u001b[41m6\u001b[0m\u001b[0m\u001b[49m5\u001b[0m\u001b[0m\u001b[49m6\u001b[0m\u001b[0m\u001b[49m5\u001b[0m\u001b[0m\u001b[49m6\u001b[0m\u001b[0m\u001b[49m7\u001b[0m\u001b[0m\u001b[49m4\u001b[0m\u001b[0m\u001b[49m7\u001b[0m\u001b[0m\u001b[49m4\u001b[0m\u001b[0m\u001b[49m7\u001b[0m\u001b[0m\u001b[49m8\u001b[0m\u001b[0m\u001b[49m3\u001b[0m\u001b[0m\u001b[49m8\u001b[0m\u001b[0m\u001b[49m3\u001b[0m\u001b[0m\u001b[41m8\u001b[0m\u001b[0m\u001b[49m&\u001b[0m\u001b[0m\u001b[49mc\u001b[0m\u001b[0m\u001b[49mr\u001b[0m\u001b[0m\u001b[49me\u001b[0m\u001b[0m\u001b[49md\u001b[0m\u001b[0m\u001b[49mi\u001b[0m\u001b[0m\u001b[49mt\u001b[0m\u001b[0m\u001b[49mc\u001b[0m\u001b[0m\u001b[49ma\u001b[0m\u001b[0m\u001b[49mr\u001b[0m\u001b[0m\u001b[49md\u001b[0m\u001b[0m\u001b[49m=\u001b[0m\u001b[0m\u001b[41m1\u001b[0m\u001b[0m\u001b[49m2\u001b[0m\u001b[0m\u001b[49m3\u001b[0m\u001b[0m\u001b[41m4\u001b[0m\u001b[0m\u001b[49m-\u001b[0m\u001b[0m\u001b[49m6\u001b[0m\u001b[0m\u001b[49m5\u001b[0m\u001b[0m\u001b[49m7\u001b[0m\u001b[0m\u001b[41m9\u001b[0m\u001b[0m\u001b[49m-\u001b[0m\u001b[0m\u001b[41m3\u001b[0m\u001b[0m\u001b[49m5\u001b[0m\u001b[0m\u001b[49m1\u001b[0m\u001b[0m\u001b[49m4\u001b[0m\u001b[0m\u001b[49m-\u001b[0m\u001b[0m\u001b[41m6\u001b[0m\u001b[0m\u001b[41m4\u001b[0m\u001b[0m\u001b[49m7\u001b[0m\u001b[0m\u001b[41m5\u001b[0m\u001b[0m\u001b[49m&\u001b[0m\u001b[0m\u001b[49ma\u001b[0m\u001b[0m\u001b[49mm\u001b[0m\u001b[0m\u001b[49mo\u001b[0m\u001b[0m\u001b[49mu\u001b[0m\u001b[0m\u001b[49mn\u001b[0m\u001b[0m\u001b[49mt\u001b[0m\u001b[0m\u001b[49m=\u001b[0m\u001b[0m\u001b[41m2\u001b[0m\u001b[0m\u001b[41m&\u001b[0m\u001b[0m\u001b[49mc\u001b[0m\u001b[0m\u001b[49mo\u001b[0m\u001b[0m\u001b[49mm\u001b[0m\u001b[0m\u001b[49mm\u001b[0m\u001b[0m\u001b[49me\u001b[0m\u001b[0m\u001b[49mn\u001b[0m\u001b[0m\u001b[49mt\u001b[0m\u001b[0m\u001b[49m=\u001b[0m\u001b[0m\u001b[41m<\u001b[0m\u001b[0m\u001b[41ms\u001b[0m\u001b[0m\u001b[41mv\u001b[0m\u001b[0m\u001b[41mg\u001b[0m\u001b[0m\u001b[41m \u001b[0m\u001b[0m\u001b[41mo\u001b[0m\u001b[0m\u001b[49mn\u001b[0m\u001b[0m\u001b[41ml\u001b[0m\u001b[0m\u001b[41mo\u001b[0m\u001b[0m\u001b[41ma\u001b[0m\u001b[0m\u001b[41md\u001b[0m\u001b[0m\u001b[41m=\u001b[0m\u001b[0m\u001b[41ma\u001b[0m\u001b[0m\u001b[41ml\u001b[0m\u001b[0m\u001b[41me\u001b[0m\u001b[0m\u001b[41mr\u001b[0m\u001b[0m\u001b[41mt\u001b[0m\u001b[0m\u001b[41m(\u001b[0m\u001b[0m\u001b[41m1\u001b[0m\u001b[0m\u001b[41m)\u001b[0m\u001b[0m\u001b[41m>\u001b[0m\u001b[0m\n",
      "\n",
      "\u001b[0m\n",
      "\u001b[0m==== FN Anomal sample 1044. Error: 0.1004049601073208 ====\n",
      "\u001b[0m\n",
      "\u001b[0m\u001b[41mG\u001b[0m\u001b[0m\u001b[41mE\u001b[0m\u001b[0m\u001b[49mT\u001b[0m\u001b[0m\u001b[49m \u001b[0m\u001b[0m\u001b[49m/\u001b[0m\u001b[0m\u001b[41mv\u001b[0m\u001b[0m\u001b[49mu\u001b[0m\u001b[0m\u001b[49ml\u001b[0m\u001b[0m\u001b[49mn\u001b[0m\u001b[0m\u001b[49mb\u001b[0m\u001b[0m\u001b[49ma\u001b[0m\u001b[0m\u001b[49mn\u001b[0m\u001b[0m\u001b[49mk\u001b[0m\u001b[0m\u001b[49m/\u001b[0m\u001b[0m\u001b[49mo\u001b[0m\u001b[0m\u001b[49mn\u001b[0m\u001b[0m\u001b[49ml\u001b[0m\u001b[0m\u001b[49mi\u001b[0m\u001b[0m\u001b[49mn\u001b[0m\u001b[0m\u001b[49me\u001b[0m\u001b[0m\u001b[49m/\u001b[0m\u001b[0m\u001b[41mu\u001b[0m\u001b[0m\u001b[49ms\u001b[0m\u001b[0m\u001b[49me\u001b[0m\u001b[0m\u001b[49mr\u001b[0m\u001b[0m\u001b[49mi\u001b[0m\u001b[0m\u001b[49mn\u001b[0m\u001b[0m\u001b[49mf\u001b[0m\u001b[0m\u001b[49mo\u001b[0m\u001b[0m\u001b[49m.\u001b[0m\u001b[0m\u001b[49mp\u001b[0m\u001b[0m\u001b[49mh\u001b[0m\u001b[0m\u001b[49mp\u001b[0m\u001b[0m\u001b[49m \u001b[0m\u001b[0m\u001b[49mH\u001b[0m\u001b[0m\u001b[49mT\u001b[0m\u001b[0m\u001b[49mT\u001b[0m\u001b[0m\u001b[49mP\u001b[0m\u001b[0m\u001b[49m/\u001b[0m\u001b[0m\u001b[49m1\u001b[0m\u001b[0m\u001b[49m.\u001b[0m\u001b[0m\u001b[49m1\u001b[0m\u001b[0m\u001b[49m\n",
      "\u001b[0m\u001b[0m\u001b[41mH\u001b[0m\u001b[0m\u001b[49mo\u001b[0m\u001b[0m\u001b[49ms\u001b[0m\u001b[0m\u001b[49mt\u001b[0m\u001b[0m\u001b[49m:\u001b[0m\u001b[0m\u001b[49m \u001b[0m\u001b[0m\u001b[49m1\u001b[0m\u001b[0m\u001b[49m0\u001b[0m\u001b[0m\u001b[49m.\u001b[0m\u001b[0m\u001b[49m0\u001b[0m\u001b[0m\u001b[49m.\u001b[0m\u001b[0m\u001b[49m2\u001b[0m\u001b[0m\u001b[49m1\u001b[0m\u001b[0m\u001b[49m2\u001b[0m\u001b[0m\u001b[49m.\u001b[0m\u001b[0m\u001b[49m2\u001b[0m\u001b[0m\u001b[49m5\u001b[0m\u001b[0m\u001b[49m\n",
      "\u001b[0m\u001b[0m\u001b[49mC\u001b[0m\u001b[0m\u001b[49mo\u001b[0m\u001b[0m\u001b[49mn\u001b[0m\u001b[0m\u001b[49mn\u001b[0m\u001b[0m\u001b[49me\u001b[0m\u001b[0m\u001b[49mc\u001b[0m\u001b[0m\u001b[49mt\u001b[0m\u001b[0m\u001b[49mi\u001b[0m\u001b[0m\u001b[49mo\u001b[0m\u001b[0m\u001b[49mn\u001b[0m\u001b[0m\u001b[49m:\u001b[0m\u001b[0m\u001b[49m \u001b[0m\u001b[0m\u001b[41mc\u001b[0m\u001b[0m\u001b[49ml\u001b[0m\u001b[0m\u001b[49mo\u001b[0m\u001b[0m\u001b[49ms\u001b[0m\u001b[0m\u001b[49me\u001b[0m\u001b[0m\n",
      "\n",
      "\u001b[0m\n",
      "\u001b[0m==== TP Anomal sample 63. Error: 0.2536321723990459 ====\n",
      "\u001b[0m\n",
      "\u001b[0m\u001b[41mP\u001b[0m\u001b[0m\u001b[49mO\u001b[0m\u001b[0m\u001b[49mS\u001b[0m\u001b[0m\u001b[49mT\u001b[0m\u001b[0m\u001b[49m \u001b[0m\u001b[0m\u001b[49m/\u001b[0m\u001b[0m\u001b[49mv\u001b[0m\u001b[0m\u001b[49mu\u001b[0m\u001b[0m\u001b[49ml\u001b[0m\u001b[0m\u001b[49mn\u001b[0m\u001b[0m\u001b[49mb\u001b[0m\u001b[0m\u001b[49ma\u001b[0m\u001b[0m\u001b[49mn\u001b[0m\u001b[0m\u001b[49mk\u001b[0m\u001b[0m\u001b[49m/\u001b[0m\u001b[0m\u001b[49mo\u001b[0m\u001b[0m\u001b[49mn\u001b[0m\u001b[0m\u001b[49ml\u001b[0m\u001b[0m\u001b[49mi\u001b[0m\u001b[0m\u001b[49mn\u001b[0m\u001b[0m\u001b[49me\u001b[0m\u001b[0m\u001b[49m/\u001b[0m\u001b[0m\u001b[49ma\u001b[0m\u001b[0m\u001b[49mp\u001b[0m\u001b[0m\u001b[49mi\u001b[0m\u001b[0m\u001b[49m.\u001b[0m\u001b[0m\u001b[49mp\u001b[0m\u001b[0m\u001b[49mh\u001b[0m\u001b[0m\u001b[49mp\u001b[0m\u001b[0m\u001b[49m \u001b[0m\u001b[0m\u001b[49mH\u001b[0m\u001b[0m\u001b[49mT\u001b[0m\u001b[0m\u001b[49mT\u001b[0m\u001b[0m\u001b[49mP\u001b[0m\u001b[0m\u001b[49m/\u001b[0m\u001b[0m\u001b[49m1\u001b[0m\u001b[0m\u001b[49m.\u001b[0m\u001b[0m\u001b[49m1\u001b[0m\u001b[0m\u001b[49m\n",
      "\u001b[0m\u001b[0m\u001b[49mH\u001b[0m\u001b[0m\u001b[49mo\u001b[0m\u001b[0m\u001b[49ms\u001b[0m\u001b[0m\u001b[49mt\u001b[0m\u001b[0m\u001b[49m:\u001b[0m\u001b[0m\u001b[49m \u001b[0m\u001b[0m\u001b[49m1\u001b[0m\u001b[0m\u001b[49m0\u001b[0m\u001b[0m\u001b[49m.\u001b[0m\u001b[0m\u001b[49m0\u001b[0m\u001b[0m\u001b[49m.\u001b[0m\u001b[0m\u001b[49m2\u001b[0m\u001b[0m\u001b[49m1\u001b[0m\u001b[0m\u001b[49m2\u001b[0m\u001b[0m\u001b[49m.\u001b[0m\u001b[0m\u001b[49m2\u001b[0m\u001b[0m\u001b[49m5\u001b[0m\u001b[0m\u001b[49m\n",
      "\u001b[0m\u001b[0m\u001b[49mC\u001b[0m\u001b[0m\u001b[49mo\u001b[0m\u001b[0m\u001b[49mn\u001b[0m\u001b[0m\u001b[49mn\u001b[0m\u001b[0m\u001b[49me\u001b[0m\u001b[0m\u001b[49mc\u001b[0m\u001b[0m\u001b[49mt\u001b[0m\u001b[0m\u001b[49mi\u001b[0m\u001b[0m\u001b[49mo\u001b[0m\u001b[0m\u001b[49mn\u001b[0m\u001b[0m\u001b[49m:\u001b[0m\u001b[0m\u001b[49m \u001b[0m\u001b[0m\u001b[41mk\u001b[0m\u001b[0m\u001b[49me\u001b[0m\u001b[0m\u001b[49me\u001b[0m\u001b[0m\u001b[49mp\u001b[0m\u001b[0m\u001b[49m-\u001b[0m\u001b[0m\u001b[49ma\u001b[0m\u001b[0m\u001b[49ml\u001b[0m\u001b[0m\u001b[49mi\u001b[0m\u001b[0m\u001b[49mv\u001b[0m\u001b[0m\u001b[49me\u001b[0m\u001b[0m\u001b[49m\n",
      "\u001b[0m\u001b[0m\u001b[49mC\u001b[0m\u001b[0m\u001b[49mo\u001b[0m\u001b[0m\u001b[49mn\u001b[0m\u001b[0m\u001b[49mt\u001b[0m\u001b[0m\u001b[49me\u001b[0m\u001b[0m\u001b[49mn\u001b[0m\u001b[0m\u001b[49mt\u001b[0m\u001b[0m\u001b[49m-\u001b[0m\u001b[0m\u001b[49mL\u001b[0m\u001b[0m\u001b[49me\u001b[0m\u001b[0m\u001b[49mn\u001b[0m\u001b[0m\u001b[49mg\u001b[0m\u001b[0m\u001b[49mt\u001b[0m\u001b[0m\u001b[49mh\u001b[0m\u001b[0m\u001b[49m:\u001b[0m\u001b[0m\u001b[49m \u001b[0m\u001b[0m\u001b[49m1\u001b[0m\u001b[0m\u001b[41m6\u001b[0m\u001b[0m\u001b[41m6\u001b[0m\u001b[0m\u001b[49m\n",
      "\u001b[0m\u001b[0m\u001b[49mA\u001b[0m\u001b[0m\u001b[49mc\u001b[0m\u001b[0m\u001b[49mc\u001b[0m\u001b[0m\u001b[49me\u001b[0m\u001b[0m\u001b[49mp\u001b[0m\u001b[0m\u001b[49mt\u001b[0m\u001b[0m\u001b[49m:\u001b[0m\u001b[0m\u001b[49m \u001b[0m\u001b[0m\u001b[49ma\u001b[0m\u001b[0m\u001b[49mp\u001b[0m\u001b[0m\u001b[49mp\u001b[0m\u001b[0m\u001b[49ml\u001b[0m\u001b[0m\u001b[49mi\u001b[0m\u001b[0m\u001b[49mc\u001b[0m\u001b[0m\u001b[49ma\u001b[0m\u001b[0m\u001b[49mt\u001b[0m\u001b[0m\u001b[49mi\u001b[0m\u001b[0m\u001b[49mo\u001b[0m\u001b[0m\u001b[49mn\u001b[0m\u001b[0m\u001b[49m/\u001b[0m\u001b[0m\u001b[49mj\u001b[0m\u001b[0m\u001b[49ms\u001b[0m\u001b[0m\u001b[49mo\u001b[0m\u001b[0m\u001b[49mn\u001b[0m\u001b[0m\u001b[49m,\u001b[0m\u001b[0m\u001b[49m \u001b[0m\u001b[0m\u001b[49mt\u001b[0m\u001b[0m\u001b[49me\u001b[0m\u001b[0m\u001b[49mx\u001b[0m\u001b[0m\u001b[49mt\u001b[0m\u001b[0m\u001b[49m/\u001b[0m\u001b[0m\u001b[49mj\u001b[0m\u001b[0m\u001b[49ma\u001b[0m\u001b[0m\u001b[49mv\u001b[0m\u001b[0m\u001b[49ma\u001b[0m\u001b[0m\u001b[49ms\u001b[0m\u001b[0m\u001b[49mc\u001b[0m\u001b[0m\u001b[49mr\u001b[0m\u001b[0m\u001b[49mi\u001b[0m\u001b[0m\u001b[49mp\u001b[0m\u001b[0m\u001b[49mt\u001b[0m\u001b[0m\u001b[49m,\u001b[0m\u001b[0m\u001b[49m \u001b[0m\u001b[0m\u001b[49m*\u001b[0m\u001b[0m\u001b[49m/\u001b[0m\u001b[0m\u001b[49m*\u001b[0m\u001b[0m\u001b[49m;\u001b[0m\u001b[0m\u001b[49m \u001b[0m\u001b[0m\u001b[49mq\u001b[0m\u001b[0m\u001b[49m=\u001b[0m\u001b[0m\u001b[49m0\u001b[0m\u001b[0m\u001b[49m.\u001b[0m\u001b[0m\u001b[49m0\u001b[0m\u001b[0m\u001b[49m1\u001b[0m\u001b[0m\u001b[49m\n",
      "\u001b[0m\u001b[0m\u001b[49mO\u001b[0m\u001b[0m\u001b[49mr\u001b[0m\u001b[0m\u001b[49mi\u001b[0m\u001b[0m\u001b[49mg\u001b[0m\u001b[0m\u001b[49mi\u001b[0m\u001b[0m\u001b[49mn\u001b[0m\u001b[0m\u001b[49m:\u001b[0m\u001b[0m\u001b[49m \u001b[0m\u001b[0m\u001b[49mh\u001b[0m\u001b[0m\u001b[49mt\u001b[0m\u001b[0m\u001b[49mt\u001b[0m\u001b[0m\u001b[49mp\u001b[0m\u001b[0m\u001b[49m:\u001b[0m\u001b[0m\u001b[49m/\u001b[0m\u001b[0m\u001b[49m/\u001b[0m\u001b[0m\u001b[49m1\u001b[0m\u001b[0m\u001b[49m0\u001b[0m\u001b[0m\u001b[49m.\u001b[0m\u001b[0m\u001b[49m0\u001b[0m\u001b[0m\u001b[49m.\u001b[0m\u001b[0m\u001b[49m2\u001b[0m\u001b[0m\u001b[49m1\u001b[0m\u001b[0m\u001b[49m2\u001b[0m\u001b[0m\u001b[49m.\u001b[0m\u001b[0m\u001b[49m2\u001b[0m\u001b[0m\u001b[49m5\u001b[0m\u001b[0m\u001b[49m\n",
      "\u001b[0m\u001b[0m\u001b[49mX\u001b[0m\u001b[0m\u001b[49m-\u001b[0m\u001b[0m\u001b[49mR\u001b[0m\u001b[0m\u001b[49me\u001b[0m\u001b[0m\u001b[49mq\u001b[0m\u001b[0m\u001b[49mu\u001b[0m\u001b[0m\u001b[49me\u001b[0m\u001b[0m\u001b[49ms\u001b[0m\u001b[0m\u001b[49mt\u001b[0m\u001b[0m\u001b[49me\u001b[0m\u001b[0m\u001b[49md\u001b[0m\u001b[0m\u001b[49m-\u001b[0m\u001b[0m\u001b[49mW\u001b[0m\u001b[0m\u001b[49mi\u001b[0m\u001b[0m\u001b[49mt\u001b[0m\u001b[0m\u001b[49mh\u001b[0m\u001b[0m\u001b[49m:\u001b[0m\u001b[0m\u001b[49m \u001b[0m\u001b[0m\u001b[49mX\u001b[0m\u001b[0m\u001b[49mM\u001b[0m\u001b[0m\u001b[49mL\u001b[0m\u001b[0m\u001b[49mH\u001b[0m\u001b[0m\u001b[49mt\u001b[0m\u001b[0m\u001b[49mt\u001b[0m\u001b[0m\u001b[49mp\u001b[0m\u001b[0m\u001b[49mR\u001b[0m\u001b[0m\u001b[49me\u001b[0m\u001b[0m\u001b[49mq\u001b[0m\u001b[0m\u001b[49mu\u001b[0m\u001b[0m\u001b[49me\u001b[0m\u001b[0m\u001b[49ms\u001b[0m\u001b[0m\u001b[49mt\u001b[0m\u001b[0m\u001b[49m\n",
      "\u001b[0m\u001b[0m\u001b[49mU\u001b[0m\u001b[0m\u001b[49ms\u001b[0m\u001b[0m\u001b[49me\u001b[0m\u001b[0m\u001b[49mr\u001b[0m\u001b[0m\u001b[49m-\u001b[0m\u001b[0m\u001b[49mA\u001b[0m\u001b[0m\u001b[49mg\u001b[0m\u001b[0m\u001b[49me\u001b[0m\u001b[0m\u001b[49mn\u001b[0m\u001b[0m\u001b[49mt\u001b[0m\u001b[0m\u001b[49m:\u001b[0m\u001b[0m\u001b[49m \u001b[0m\u001b[0m\u001b[49mM\u001b[0m\u001b[0m\u001b[49mo\u001b[0m\u001b[0m\u001b[49mz\u001b[0m\u001b[0m\u001b[49mi\u001b[0m\u001b[0m\u001b[49ml\u001b[0m\u001b[0m\u001b[49ml\u001b[0m\u001b[0m\u001b[49ma\u001b[0m\u001b[0m\u001b[49m/\u001b[0m\u001b[0m\u001b[49m5\u001b[0m\u001b[0m\u001b[49m.\u001b[0m\u001b[0m\u001b[49m0\u001b[0m\u001b[0m\u001b[49m \u001b[0m\u001b[0m\u001b[49m(\u001b[0m\u001b[0m\u001b[41mX\u001b[0m\u001b[0m\u001b[49m1\u001b[0m\u001b[0m\u001b[49m1\u001b[0m\u001b[0m\u001b[49m;\u001b[0m\u001b[0m\u001b[49m \u001b[0m\u001b[0m\u001b[41mL\u001b[0m\u001b[0m\u001b[49mi\u001b[0m\u001b[0m\u001b[49mn\u001b[0m\u001b[0m\u001b[49mu\u001b[0m\u001b[0m\u001b[49mx\u001b[0m\u001b[0m\u001b[49m \u001b[0m\u001b[0m\u001b[49mx\u001b[0m\u001b[0m\u001b[49m8\u001b[0m\u001b[0m\u001b[49m6\u001b[0m\u001b[0m\u001b[49m_\u001b[0m\u001b[0m\u001b[49m6\u001b[0m\u001b[0m\u001b[49m4\u001b[0m\u001b[0m\u001b[49m)\u001b[0m\u001b[0m\u001b[49m \u001b[0m\u001b[0m\u001b[49mA\u001b[0m\u001b[0m\u001b[49mp\u001b[0m\u001b[0m\u001b[49mp\u001b[0m\u001b[0m\u001b[49ml\u001b[0m\u001b[0m\u001b[49me\u001b[0m\u001b[0m\u001b[49mW\u001b[0m\u001b[0m\u001b[49me\u001b[0m\u001b[0m\u001b[49mb\u001b[0m\u001b[0m\u001b[49mK\u001b[0m\u001b[0m\u001b[49mi\u001b[0m\u001b[0m\u001b[49mt\u001b[0m\u001b[0m\u001b[49m/\u001b[0m\u001b[0m\u001b[49m5\u001b[0m\u001b[0m\u001b[49m3\u001b[0m\u001b[0m\u001b[49m7\u001b[0m\u001b[0m\u001b[49m.\u001b[0m\u001b[0m\u001b[49m3\u001b[0m\u001b[0m\u001b[49m6\u001b[0m\u001b[0m\u001b[49m \u001b[0m\u001b[0m\u001b[49m(\u001b[0m\u001b[0m\u001b[49mK\u001b[0m\u001b[0m\u001b[49mH\u001b[0m\u001b[0m\u001b[49mT\u001b[0m\u001b[0m\u001b[49mM\u001b[0m\u001b[0m\u001b[49mL\u001b[0m\u001b[0m\u001b[49m,\u001b[0m\u001b[0m\u001b[49m \u001b[0m\u001b[0m\u001b[49ml\u001b[0m\u001b[0m\u001b[49mi\u001b[0m\u001b[0m\u001b[49mk\u001b[0m\u001b[0m\u001b[49me\u001b[0m\u001b[0m\u001b[49m \u001b[0m\u001b[0m\u001b[49mG\u001b[0m\u001b[0m\u001b[49me\u001b[0m\u001b[0m\u001b[49mc\u001b[0m\u001b[0m\u001b[49mk\u001b[0m\u001b[0m\u001b[49mo\u001b[0m\u001b[0m\u001b[49m)\u001b[0m\u001b[0m\u001b[49m \u001b[0m\u001b[0m\u001b[49mC\u001b[0m\u001b[0m\u001b[49mh\u001b[0m\u001b[0m\u001b[49mr\u001b[0m\u001b[0m\u001b[49mo\u001b[0m\u001b[0m\u001b[49mm\u001b[0m\u001b[0m\u001b[49me\u001b[0m\u001b[0m\u001b[49m/\u001b[0m\u001b[0m\u001b[49m6\u001b[0m\u001b[0m\u001b[41m6\u001b[0m\u001b[0m\u001b[41m.\u001b[0m\u001b[0m\u001b[49m0\u001b[0m\u001b[0m\u001b[49m.\u001b[0m\u001b[0m\u001b[49m3\u001b[0m\u001b[0m\u001b[41m3\u001b[0m\u001b[0m\u001b[41m5\u001b[0m\u001b[0m\u001b[41m9\u001b[0m\u001b[0m\u001b[49m.\u001b[0m\u001b[0m\u001b[49m1\u001b[0m\u001b[0m\u001b[41m3\u001b[0m\u001b[0m\u001b[41m9\u001b[0m\u001b[0m\u001b[49m \u001b[0m\u001b[0m\u001b[49mS\u001b[0m\u001b[0m\u001b[49ma\u001b[0m\u001b[0m\u001b[49mf\u001b[0m\u001b[0m\u001b[49ma\u001b[0m\u001b[0m\u001b[49mr\u001b[0m\u001b[0m\u001b[49mi\u001b[0m\u001b[0m\u001b[49m/\u001b[0m\u001b[0m\u001b[49m5\u001b[0m\u001b[0m\u001b[49m3\u001b[0m\u001b[0m\u001b[49m7\u001b[0m\u001b[0m\u001b[49m.\u001b[0m\u001b[0m\u001b[49m3\u001b[0m\u001b[0m\u001b[49m6\u001b[0m\u001b[0m\u001b[49m\n",
      "\u001b[0m\u001b[0m\u001b[49mC\u001b[0m\u001b[0m\u001b[49mo\u001b[0m\u001b[0m\u001b[49mn\u001b[0m\u001b[0m\u001b[49mt\u001b[0m\u001b[0m\u001b[49me\u001b[0m\u001b[0m\u001b[49mn\u001b[0m\u001b[0m\u001b[49mt\u001b[0m\u001b[0m\u001b[49m-\u001b[0m\u001b[0m\u001b[49mT\u001b[0m\u001b[0m\u001b[49my\u001b[0m\u001b[0m\u001b[49mp\u001b[0m\u001b[0m\u001b[49me\u001b[0m\u001b[0m\u001b[49m:\u001b[0m\u001b[0m\u001b[49m \u001b[0m\u001b[0m\u001b[49ma\u001b[0m\u001b[0m\u001b[49mp\u001b[0m\u001b[0m\u001b[49mp\u001b[0m\u001b[0m\u001b[49ml\u001b[0m\u001b[0m\u001b[49mi\u001b[0m\u001b[0m\u001b[49mc\u001b[0m\u001b[0m\u001b[49ma\u001b[0m\u001b[0m\u001b[49mt\u001b[0m\u001b[0m\u001b[49mi\u001b[0m\u001b[0m\u001b[49mo\u001b[0m\u001b[0m\u001b[49mn\u001b[0m\u001b[0m\u001b[49m/\u001b[0m\u001b[0m\u001b[49mx\u001b[0m\u001b[0m\u001b[49m-\u001b[0m\u001b[0m\u001b[49mw\u001b[0m\u001b[0m\u001b[49mw\u001b[0m\u001b[0m\u001b[49mw\u001b[0m\u001b[0m\u001b[49m-\u001b[0m\u001b[0m\u001b[49mf\u001b[0m\u001b[0m\u001b[49mo\u001b[0m\u001b[0m\u001b[49mr\u001b[0m\u001b[0m\u001b[49mm\u001b[0m\u001b[0m\u001b[49m-\u001b[0m\u001b[0m\u001b[49mu\u001b[0m\u001b[0m\u001b[49mr\u001b[0m\u001b[0m\u001b[49ml\u001b[0m\u001b[0m\u001b[49me\u001b[0m\u001b[0m\u001b[49mn\u001b[0m\u001b[0m\u001b[49mc\u001b[0m\u001b[0m\u001b[49mo\u001b[0m\u001b[0m\u001b[49md\u001b[0m\u001b[0m\u001b[49me\u001b[0m\u001b[0m\u001b[49md\u001b[0m\u001b[0m\u001b[49m;\u001b[0m\u001b[0m\u001b[49m \u001b[0m\u001b[0m\u001b[49mc\u001b[0m\u001b[0m\u001b[49mh\u001b[0m\u001b[0m\u001b[49ma\u001b[0m\u001b[0m\u001b[49mr\u001b[0m\u001b[0m\u001b[49ms\u001b[0m\u001b[0m\u001b[49me\u001b[0m\u001b[0m\u001b[49mt\u001b[0m\u001b[0m\u001b[49m=\u001b[0m\u001b[0m\u001b[49mU\u001b[0m\u001b[0m\u001b[49mT\u001b[0m\u001b[0m\u001b[49mF\u001b[0m\u001b[0m\u001b[49m-\u001b[0m\u001b[0m\u001b[49m8\u001b[0m\u001b[0m\u001b[49m\n",
      "\u001b[0m\u001b[0m\u001b[41mD\u001b[0m\u001b[0m\u001b[41mN\u001b[0m\u001b[0m\u001b[41mT\u001b[0m\u001b[0m\u001b[41m:\u001b[0m\u001b[0m\u001b[49m \u001b[0m\u001b[0m\u001b[41m1\u001b[0m\u001b[0m\u001b[41m\n",
      "\u001b[0m\u001b[0m\u001b[41mR\u001b[0m\u001b[0m\u001b[41me\u001b[0m\u001b[0m\u001b[41mf\u001b[0m\u001b[0m\u001b[49me\u001b[0m\u001b[0m\u001b[49mr\u001b[0m\u001b[0m\u001b[41me\u001b[0m\u001b[0m\u001b[41mr\u001b[0m\u001b[0m\u001b[49m:\u001b[0m\u001b[0m\u001b[49m \u001b[0m\u001b[0m\u001b[49mh\u001b[0m\u001b[0m\u001b[49mt\u001b[0m\u001b[0m\u001b[49mt\u001b[0m\u001b[0m\u001b[49mp\u001b[0m\u001b[0m\u001b[49m:\u001b[0m\u001b[0m\u001b[49m/\u001b[0m\u001b[0m\u001b[49m/\u001b[0m\u001b[0m\u001b[49m1\u001b[0m\u001b[0m\u001b[49m0\u001b[0m\u001b[0m\u001b[49m.\u001b[0m\u001b[0m\u001b[49m0\u001b[0m\u001b[0m\u001b[49m.\u001b[0m\u001b[0m\u001b[49m2\u001b[0m\u001b[0m\u001b[49m1\u001b[0m\u001b[0m\u001b[49m2\u001b[0m\u001b[0m\u001b[49m.\u001b[0m\u001b[0m\u001b[49m2\u001b[0m\u001b[0m\u001b[49m5\u001b[0m\u001b[0m\u001b[49m/\u001b[0m\u001b[0m\u001b[49mv\u001b[0m\u001b[0m\u001b[49mu\u001b[0m\u001b[0m\u001b[49ml\u001b[0m\u001b[0m\u001b[49mn\u001b[0m\u001b[0m\u001b[49mb\u001b[0m\u001b[0m\u001b[49ma\u001b[0m\u001b[0m\u001b[49mn\u001b[0m\u001b[0m\u001b[49mk\u001b[0m\u001b[0m\u001b[49m/\u001b[0m\u001b[0m\u001b[49mo\u001b[0m\u001b[0m\u001b[49mn\u001b[0m\u001b[0m\u001b[49ml\u001b[0m\u001b[0m\u001b[49mi\u001b[0m\u001b[0m\u001b[49mn\u001b[0m\u001b[0m\u001b[49me\u001b[0m\u001b[0m\u001b[49m/\u001b[0m\u001b[0m\u001b[41mu\u001b[0m\u001b[0m\u001b[49ms\u001b[0m\u001b[0m\u001b[49me\u001b[0m\u001b[0m\u001b[49mr\u001b[0m\u001b[0m\u001b[49mi\u001b[0m\u001b[0m\u001b[49mn\u001b[0m\u001b[0m\u001b[49mf\u001b[0m\u001b[0m\u001b[49mo\u001b[0m\u001b[0m\u001b[49m.\u001b[0m\u001b[0m\u001b[49mp\u001b[0m\u001b[0m\u001b[49mh\u001b[0m\u001b[0m\u001b[49mp\u001b[0m\u001b[0m\u001b[49m\n",
      "\u001b[0m\u001b[0m\u001b[49mA\u001b[0m\u001b[0m\u001b[49mc\u001b[0m\u001b[0m\u001b[49mc\u001b[0m\u001b[0m\u001b[49me\u001b[0m\u001b[0m\u001b[49mp\u001b[0m\u001b[0m\u001b[49mt\u001b[0m\u001b[0m\u001b[49m-\u001b[0m\u001b[0m\u001b[49mE\u001b[0m\u001b[0m\u001b[49mn\u001b[0m\u001b[0m\u001b[49mc\u001b[0m\u001b[0m\u001b[49mo\u001b[0m\u001b[0m\u001b[49md\u001b[0m\u001b[0m\u001b[49mi\u001b[0m\u001b[0m\u001b[49mn\u001b[0m\u001b[0m\u001b[49mg\u001b[0m\u001b[0m\u001b[49m:\u001b[0m\u001b[0m\u001b[49m \u001b[0m\u001b[0m\u001b[49mg\u001b[0m\u001b[0m\u001b[49mz\u001b[0m\u001b[0m\u001b[49mi\u001b[0m\u001b[0m\u001b[49mp\u001b[0m\u001b[0m\u001b[49m,\u001b[0m\u001b[0m\u001b[49m \u001b[0m\u001b[0m\u001b[49md\u001b[0m\u001b[0m\u001b[49me\u001b[0m\u001b[0m\u001b[49mf\u001b[0m\u001b[0m\u001b[49ml\u001b[0m\u001b[0m\u001b[49ma\u001b[0m\u001b[0m\u001b[49mt\u001b[0m\u001b[0m\u001b[49me\u001b[0m\u001b[0m\u001b[49m\n",
      "\u001b[0m\u001b[0m\u001b[49mA\u001b[0m\u001b[0m\u001b[49mc\u001b[0m\u001b[0m\u001b[49mc\u001b[0m\u001b[0m\u001b[49me\u001b[0m\u001b[0m\u001b[49mp\u001b[0m\u001b[0m\u001b[49mt\u001b[0m\u001b[0m\u001b[49m-\u001b[0m\u001b[0m\u001b[49mL\u001b[0m\u001b[0m\u001b[49ma\u001b[0m\u001b[0m\u001b[49mn\u001b[0m\u001b[0m\u001b[49mg\u001b[0m\u001b[0m\u001b[49mu\u001b[0m\u001b[0m\u001b[49ma\u001b[0m\u001b[0m\u001b[49mg\u001b[0m\u001b[0m\u001b[49me\u001b[0m\u001b[0m\u001b[49m:\u001b[0m\u001b[0m\u001b[49m \u001b[0m\u001b[0m\u001b[49me\u001b[0m\u001b[0m\u001b[49mn\u001b[0m\u001b[0m\u001b[49m-\u001b[0m\u001b[0m\u001b[49mU\u001b[0m\u001b[0m\u001b[49mS\u001b[0m\u001b[0m\u001b[49m,\u001b[0m\u001b[0m\u001b[49me\u001b[0m\u001b[0m\u001b[49mn\u001b[0m\u001b[0m\u001b[49m;\u001b[0m\u001b[0m\u001b[49mq\u001b[0m\u001b[0m\u001b[49m=\u001b[0m\u001b[0m\u001b[49m0\u001b[0m\u001b[0m\u001b[49m.\u001b[0m\u001b[0m\u001b[49m9\u001b[0m\u001b[0m\u001b[41m,\u001b[0m\u001b[0m\u001b[41mr\u001b[0m\u001b[0m\u001b[49mu\u001b[0m\u001b[0m\u001b[49m;\u001b[0m\u001b[0m\u001b[49mq\u001b[0m\u001b[0m\u001b[49m=\u001b[0m\u001b[0m\u001b[49m0\u001b[0m\u001b[0m\u001b[49m.\u001b[0m\u001b[0m\u001b[49m8\u001b[0m\u001b[0m\u001b[41m\n",
      "\u001b[0m\u001b[0m\u001b[41mC\u001b[0m\u001b[0m\u001b[49mo\u001b[0m\u001b[0m\u001b[41mo\u001b[0m\u001b[0m\u001b[41mk\u001b[0m\u001b[0m\u001b[49mi\u001b[0m\u001b[0m\u001b[49me\u001b[0m\u001b[0m\u001b[49m:\u001b[0m\u001b[0m\u001b[49m \u001b[0m\u001b[0m\u001b[49mP\u001b[0m\u001b[0m\u001b[49mH\u001b[0m\u001b[0m\u001b[49mP\u001b[0m\u001b[0m\u001b[49mS\u001b[0m\u001b[0m\u001b[49mE\u001b[0m\u001b[0m\u001b[49mS\u001b[0m\u001b[0m\u001b[49mS\u001b[0m\u001b[0m\u001b[49mI\u001b[0m\u001b[0m\u001b[49mD\u001b[0m\u001b[0m\u001b[49m=\u001b[0m\u001b[0m\u001b[41m7\u001b[0m\u001b[0m\u001b[41mb\u001b[0m\u001b[0m\u001b[41mg\u001b[0m\u001b[0m\u001b[41mg\u001b[0m\u001b[0m\u001b[41m5\u001b[0m\u001b[0m\u001b[41mt\u001b[0m\u001b[0m\u001b[41ma\u001b[0m\u001b[0m\u001b[41ml\u001b[0m\u001b[0m\u001b[41md\u001b[0m\u001b[0m\u001b[41m4\u001b[0m\u001b[0m\u001b[41ma\u001b[0m\u001b[0m\u001b[41me\u001b[0m\u001b[0m\u001b[41ma\u001b[0m\u001b[0m\u001b[41m8\u001b[0m\u001b[0m\u001b[41m0\u001b[0m\u001b[0m\u001b[41m7\u001b[0m\u001b[0m\u001b[41m9\u001b[0m\u001b[0m\u001b[41m0\u001b[0m\u001b[0m\u001b[41mi\u001b[0m\u001b[0m\u001b[41mt\u001b[0m\u001b[0m\u001b[49m7\u001b[0m\u001b[0m\u001b[41ms\u001b[0m\u001b[0m\u001b[41m1\u001b[0m\u001b[0m\u001b[41mc\u001b[0m\u001b[0m\u001b[41mc\u001b[0m\u001b[0m\u001b[41m1\u001b[0m\u001b[0m\u001b[49m\n",
      "\u001b[0m\u001b[0m\u001b[41m\n",
      "\u001b[0m\u001b[0m\u001b[49mt\u001b[0m\u001b[0m\u001b[49my\u001b[0m\u001b[0m\u001b[49mp\u001b[0m\u001b[0m\u001b[49me\u001b[0m\u001b[0m\u001b[49m=\u001b[0m\u001b[0m\u001b[41mu\u001b[0m\u001b[0m\u001b[49ms\u001b[0m\u001b[0m\u001b[49me\u001b[0m\u001b[0m\u001b[49mr\u001b[0m\u001b[0m\u001b[41m%\u001b[0m\u001b[0m\u001b[41m2\u001b[0m\u001b[0m\u001b[41m6\u001b[0m\u001b[0m\u001b[41me\u001b[0m\u001b[0m\u001b[49mc\u001b[0m\u001b[0m\u001b[41mh\u001b[0m\u001b[0m\u001b[41mo\u001b[0m\u001b[0m\u001b[41m%\u001b[0m\u001b[0m\u001b[41m2\u001b[0m\u001b[0m\u001b[41m0\u001b[0m\u001b[0m\u001b[41mu\u001b[0m\u001b[0m\u001b[41mw\u001b[0m\u001b[0m\u001b[41me\u001b[0m\u001b[0m\u001b[41mu\u001b[0m\u001b[0m\u001b[41m3\u001b[0m\u001b[0m\u001b[41mh\u001b[0m\u001b[0m\u001b[41mp\u001b[0m\u001b[0m\u001b[41mh\u001b[0m\u001b[0m\u001b[41m3\u001b[0m\u001b[0m\u001b[41ml\u001b[0m\u001b[0m\u001b[41m%\u001b[0m\u001b[0m\u001b[41m2\u001b[0m\u001b[0m\u001b[41m0\u001b[0m\u001b[0m\u001b[41mu\u001b[0m\u001b[0m\u001b[41m3\u001b[0m\u001b[0m\u001b[41mo\u001b[0m\u001b[0m\u001b[41m2\u001b[0m\u001b[0m\u001b[41mo\u001b[0m\u001b[0m\u001b[41mm\u001b[0m\u001b[0m\u001b[41m3\u001b[0m\u001b[0m\u001b[41md\u001b[0m\u001b[0m\u001b[41mp\u001b[0m\u001b[0m\u001b[49mi\u001b[0m\u001b[0m\u001b[41m%\u001b[0m\u001b[0m\u001b[41m2\u001b[0m\u001b[0m\u001b[41m6\u001b[0m\u001b[0m\u001b[49m&\u001b[0m\u001b[0m\u001b[41ma\u001b[0m\u001b[0m\u001b[41mc\u001b[0m\u001b[0m\u001b[41mt\u001b[0m\u001b[0m\u001b[41mi\u001b[0m\u001b[0m\u001b[49mo\u001b[0m\u001b[0m\u001b[49mn\u001b[0m\u001b[0m\u001b[41m=\u001b[0m\u001b[0m\u001b[41mi\u001b[0m\u001b[0m\u001b[41mn\u001b[0m\u001b[0m\u001b[41mf\u001b[0m\u001b[0m\u001b[49mo\u001b[0m\u001b[0m\u001b[41mu\u001b[0m\u001b[0m\u001b[41mp\u001b[0m\u001b[0m\u001b[41md\u001b[0m\u001b[0m\u001b[41ma\u001b[0m\u001b[0m\u001b[41mt\u001b[0m\u001b[0m\u001b[41me\u001b[0m\u001b[0m\u001b[41m&\u001b[0m\u001b[0m\u001b[41mf\u001b[0m\u001b[0m\u001b[41mi\u001b[0m\u001b[0m\u001b[41mr\u001b[0m\u001b[0m\u001b[41ms\u001b[0m\u001b[0m\u001b[41mt\u001b[0m\u001b[0m\u001b[41mn\u001b[0m\u001b[0m\u001b[49ma\u001b[0m\u001b[0m\u001b[41mm\u001b[0m\u001b[0m\u001b[49me\u001b[0m\u001b[0m\u001b[49m=\u001b[0m\u001b[0m\u001b[41mJ\u001b[0m\u001b[0m\u001b[41mo\u001b[0m\u001b[0m\u001b[41mh\u001b[0m\u001b[0m\u001b[41mn\u001b[0m\u001b[0m\u001b[41m&\u001b[0m\u001b[0m\u001b[41ml\u001b[0m\u001b[0m\u001b[49ma\u001b[0m\u001b[0m\u001b[49ms\u001b[0m\u001b[0m\u001b[49mt\u001b[0m\u001b[0m\u001b[41mn\u001b[0m\u001b[0m\u001b[49ma\u001b[0m\u001b[0m\u001b[49mm\u001b[0m\u001b[0m\u001b[49me\u001b[0m\u001b[0m\u001b[49m=\u001b[0m\u001b[0m\u001b[41mD\u001b[0m\u001b[0m\u001b[41mo\u001b[0m\u001b[0m\u001b[41me\u001b[0m\u001b[0m\u001b[41m&\u001b[0m\u001b[0m\u001b[41mp\u001b[0m\u001b[0m\u001b[41mh\u001b[0m\u001b[0m\u001b[41mo\u001b[0m\u001b[0m\u001b[41mn\u001b[0m\u001b[0m\u001b[41me\u001b[0m\u001b[0m\u001b[41m=\u001b[0m\u001b[0m\u001b[41m7\u001b[0m\u001b[0m\u001b[41m9\u001b[0m\u001b[0m\u001b[41m0\u001b[0m\u001b[0m\u001b[41m3\u001b[0m\u001b[0m\u001b[41m5\u001b[0m\u001b[0m\u001b[41m2\u001b[0m\u001b[0m\u001b[41m2\u001b[0m\u001b[0m\u001b[41m2\u001b[0m\u001b[0m\u001b[41m2\u001b[0m\u001b[0m\u001b[41m1\u001b[0m\u001b[0m\u001b[41m2\u001b[0m\u001b[0m\u001b[49m&\u001b[0m\u001b[0m\u001b[41me\u001b[0m\u001b[0m\u001b[41mm\u001b[0m\u001b[0m\u001b[41ma\u001b[0m\u001b[0m\u001b[41mi\u001b[0m\u001b[0m\u001b[41ml\u001b[0m\u001b[0m\u001b[49m=\u001b[0m\u001b[0m\u001b[41mj\u001b[0m\u001b[0m\u001b[41m.\u001b[0m\u001b[0m\u001b[41md\u001b[0m\u001b[0m\u001b[41mo\u001b[0m\u001b[0m\u001b[41me\u001b[0m\u001b[0m\u001b[41m%\u001b[0m\u001b[0m\u001b[41m4\u001b[0m\u001b[0m\u001b[41m0\u001b[0m\u001b[0m\u001b[41mv\u001b[0m\u001b[0m\u001b[41mu\u001b[0m\u001b[0m\u001b[49ml\u001b[0m\u001b[0m\u001b[41mn\u001b[0m\u001b[0m\u001b[41mb\u001b[0m\u001b[0m\u001b[41ma\u001b[0m\u001b[0m\u001b[41mn\u001b[0m\u001b[0m\u001b[41mk\u001b[0m\u001b[0m\u001b[41m.\u001b[0m\u001b[0m\u001b[41md\u001b[0m\u001b[0m\u001b[41me\u001b[0m\u001b[0m\u001b[41m&\u001b[0m\u001b[0m\u001b[41mb\u001b[0m\u001b[0m\u001b[41mi\u001b[0m\u001b[0m\u001b[41mr\u001b[0m\u001b[0m\u001b[49mt\u001b[0m\u001b[0m\u001b[49mh\u001b[0m\u001b[0m\u001b[41md\u001b[0m\u001b[0m\u001b[49ma\u001b[0m\u001b[0m\u001b[41mt\u001b[0m\u001b[0m\u001b[49me\u001b[0m\u001b[0m\u001b[49m=\u001b[0m\u001b[0m\u001b[41m1\u001b[0m\u001b[0m\u001b[41m9\u001b[0m\u001b[0m\u001b[41m8\u001b[0m\u001b[0m\u001b[41m4\u001b[0m\u001b[0m\u001b[41m-\u001b[0m\u001b[0m\u001b[41m0\u001b[0m\u001b[0m\u001b[41m4\u001b[0m\u001b[0m\u001b[41m-\u001b[0m\u001b[0m\u001b[41m0\u001b[0m\u001b[0m\u001b[41m4\u001b[0m\u001b[0m\u001b[41m&\u001b[0m\u001b[0m\u001b[41ma\u001b[0m\u001b[0m\u001b[41mb\u001b[0m\u001b[0m\u001b[41mo\u001b[0m\u001b[0m\u001b[41mu\u001b[0m\u001b[0m\u001b[41mt\u001b[0m\u001b[0m\u001b[49m=\u001b[0m\u001b[0m\u001b[41mH\u001b[0m\u001b[0m\u001b[41mi\u001b[0m\u001b[0m\u001b[41m!\u001b[0m\u001b[0m\n",
      "\n",
      "\u001b[0m\n",
      "\u001b[0m==== TP Anomal sample 1051. Error: 0.2104434665376691 ====\n",
      "\u001b[0m\n",
      "\u001b[0m\u001b[41mP\u001b[0m\u001b[0m\u001b[49mO\u001b[0m\u001b[0m\u001b[49mS\u001b[0m\u001b[0m\u001b[49mT\u001b[0m\u001b[0m\u001b[49m \u001b[0m\u001b[0m\u001b[49m/\u001b[0m\u001b[0m\u001b[49mv\u001b[0m\u001b[0m\u001b[49mu\u001b[0m\u001b[0m\u001b[49ml\u001b[0m\u001b[0m\u001b[49mn\u001b[0m\u001b[0m\u001b[49mb\u001b[0m\u001b[0m\u001b[49ma\u001b[0m\u001b[0m\u001b[49mn\u001b[0m\u001b[0m\u001b[49mk\u001b[0m\u001b[0m\u001b[49m/\u001b[0m\u001b[0m\u001b[49mo\u001b[0m\u001b[0m\u001b[49mn\u001b[0m\u001b[0m\u001b[49ml\u001b[0m\u001b[0m\u001b[49mi\u001b[0m\u001b[0m\u001b[49mn\u001b[0m\u001b[0m\u001b[49me\u001b[0m\u001b[0m\u001b[49m/\u001b[0m\u001b[0m\u001b[49ma\u001b[0m\u001b[0m\u001b[49mp\u001b[0m\u001b[0m\u001b[49mi\u001b[0m\u001b[0m\u001b[49m.\u001b[0m\u001b[0m\u001b[49mp\u001b[0m\u001b[0m\u001b[49mh\u001b[0m\u001b[0m\u001b[49mp\u001b[0m\u001b[0m\u001b[49m \u001b[0m\u001b[0m\u001b[49mH\u001b[0m\u001b[0m\u001b[49mT\u001b[0m\u001b[0m\u001b[49mT\u001b[0m\u001b[0m\u001b[49mP\u001b[0m\u001b[0m\u001b[49m/\u001b[0m\u001b[0m\u001b[49m1\u001b[0m\u001b[0m\u001b[49m.\u001b[0m\u001b[0m\u001b[49m1\u001b[0m\u001b[0m\u001b[49m\n",
      "\u001b[0m\u001b[0m\u001b[49mH\u001b[0m\u001b[0m\u001b[49mo\u001b[0m\u001b[0m\u001b[49ms\u001b[0m\u001b[0m\u001b[49mt\u001b[0m\u001b[0m\u001b[49m:\u001b[0m\u001b[0m\u001b[49m \u001b[0m\u001b[0m\u001b[49m1\u001b[0m\u001b[0m\u001b[49m0\u001b[0m\u001b[0m\u001b[49m.\u001b[0m\u001b[0m\u001b[49m0\u001b[0m\u001b[0m\u001b[49m.\u001b[0m\u001b[0m\u001b[49m2\u001b[0m\u001b[0m\u001b[49m1\u001b[0m\u001b[0m\u001b[49m2\u001b[0m\u001b[0m\u001b[49m.\u001b[0m\u001b[0m\u001b[49m2\u001b[0m\u001b[0m\u001b[49m5\u001b[0m\u001b[0m\u001b[49m\n",
      "\u001b[0m\u001b[0m\u001b[49mC\u001b[0m\u001b[0m\u001b[49mo\u001b[0m\u001b[0m\u001b[49mn\u001b[0m\u001b[0m\u001b[49mn\u001b[0m\u001b[0m\u001b[49me\u001b[0m\u001b[0m\u001b[49mc\u001b[0m\u001b[0m\u001b[49mt\u001b[0m\u001b[0m\u001b[49mi\u001b[0m\u001b[0m\u001b[49mo\u001b[0m\u001b[0m\u001b[49mn\u001b[0m\u001b[0m\u001b[49m:\u001b[0m\u001b[0m\u001b[49m \u001b[0m\u001b[0m\u001b[41mk\u001b[0m\u001b[0m\u001b[49me\u001b[0m\u001b[0m\u001b[49me\u001b[0m\u001b[0m\u001b[49mp\u001b[0m\u001b[0m\u001b[49m-\u001b[0m\u001b[0m\u001b[49ma\u001b[0m\u001b[0m\u001b[49ml\u001b[0m\u001b[0m\u001b[49mi\u001b[0m\u001b[0m\u001b[49mv\u001b[0m\u001b[0m\u001b[49me\u001b[0m\u001b[0m\u001b[49m\n",
      "\u001b[0m\u001b[0m\u001b[49mC\u001b[0m\u001b[0m\u001b[49mo\u001b[0m\u001b[0m\u001b[49mn\u001b[0m\u001b[0m\u001b[49mt\u001b[0m\u001b[0m\u001b[49me\u001b[0m\u001b[0m\u001b[49mn\u001b[0m\u001b[0m\u001b[49mt\u001b[0m\u001b[0m\u001b[49m-\u001b[0m\u001b[0m\u001b[49mL\u001b[0m\u001b[0m\u001b[49me\u001b[0m\u001b[0m\u001b[49mn\u001b[0m\u001b[0m\u001b[49mg\u001b[0m\u001b[0m\u001b[49mt\u001b[0m\u001b[0m\u001b[49mh\u001b[0m\u001b[0m\u001b[49m:\u001b[0m\u001b[0m\u001b[49m \u001b[0m\u001b[0m\u001b[49m1\u001b[0m\u001b[0m\u001b[41m3\u001b[0m\u001b[0m\u001b[41m0\u001b[0m\u001b[0m\u001b[49m\n",
      "\u001b[0m\u001b[0m\u001b[49mA\u001b[0m\u001b[0m\u001b[49mc\u001b[0m\u001b[0m\u001b[49mc\u001b[0m\u001b[0m\u001b[49me\u001b[0m\u001b[0m\u001b[49mp\u001b[0m\u001b[0m\u001b[49mt\u001b[0m\u001b[0m\u001b[49m:\u001b[0m\u001b[0m\u001b[49m \u001b[0m\u001b[0m\u001b[49ma\u001b[0m\u001b[0m\u001b[49mp\u001b[0m\u001b[0m\u001b[49mp\u001b[0m\u001b[0m\u001b[49ml\u001b[0m\u001b[0m\u001b[49mi\u001b[0m\u001b[0m\u001b[49mc\u001b[0m\u001b[0m\u001b[49ma\u001b[0m\u001b[0m\u001b[49mt\u001b[0m\u001b[0m\u001b[49mi\u001b[0m\u001b[0m\u001b[49mo\u001b[0m\u001b[0m\u001b[49mn\u001b[0m\u001b[0m\u001b[49m/\u001b[0m\u001b[0m\u001b[49mj\u001b[0m\u001b[0m\u001b[49ms\u001b[0m\u001b[0m\u001b[49mo\u001b[0m\u001b[0m\u001b[49mn\u001b[0m\u001b[0m\u001b[49m,\u001b[0m\u001b[0m\u001b[49m \u001b[0m\u001b[0m\u001b[49mt\u001b[0m\u001b[0m\u001b[49me\u001b[0m\u001b[0m\u001b[49mx\u001b[0m\u001b[0m\u001b[49mt\u001b[0m\u001b[0m\u001b[49m/\u001b[0m\u001b[0m\u001b[49mj\u001b[0m\u001b[0m\u001b[49ma\u001b[0m\u001b[0m\u001b[49mv\u001b[0m\u001b[0m\u001b[49ma\u001b[0m\u001b[0m\u001b[49ms\u001b[0m\u001b[0m\u001b[49mc\u001b[0m\u001b[0m\u001b[49mr\u001b[0m\u001b[0m\u001b[49mi\u001b[0m\u001b[0m\u001b[49mp\u001b[0m\u001b[0m\u001b[49mt\u001b[0m\u001b[0m\u001b[49m,\u001b[0m\u001b[0m\u001b[49m \u001b[0m\u001b[0m\u001b[49m*\u001b[0m\u001b[0m\u001b[49m/\u001b[0m\u001b[0m\u001b[49m*\u001b[0m\u001b[0m\u001b[49m;\u001b[0m\u001b[0m\u001b[49m \u001b[0m\u001b[0m\u001b[49mq\u001b[0m\u001b[0m\u001b[49m=\u001b[0m\u001b[0m\u001b[49m0\u001b[0m\u001b[0m\u001b[49m.\u001b[0m\u001b[0m\u001b[49m0\u001b[0m\u001b[0m\u001b[49m1\u001b[0m\u001b[0m\u001b[49m\n",
      "\u001b[0m\u001b[0m\u001b[49mO\u001b[0m\u001b[0m\u001b[49mr\u001b[0m\u001b[0m\u001b[49mi\u001b[0m\u001b[0m\u001b[49mg\u001b[0m\u001b[0m\u001b[49mi\u001b[0m\u001b[0m\u001b[49mn\u001b[0m\u001b[0m\u001b[49m:\u001b[0m\u001b[0m\u001b[49m \u001b[0m\u001b[0m\u001b[49mh\u001b[0m\u001b[0m\u001b[49mt\u001b[0m\u001b[0m\u001b[49mt\u001b[0m\u001b[0m\u001b[49mp\u001b[0m\u001b[0m\u001b[49m:\u001b[0m\u001b[0m\u001b[49m/\u001b[0m\u001b[0m\u001b[49m/\u001b[0m\u001b[0m\u001b[49m1\u001b[0m\u001b[0m\u001b[49m0\u001b[0m\u001b[0m\u001b[49m.\u001b[0m\u001b[0m\u001b[49m0\u001b[0m\u001b[0m\u001b[49m.\u001b[0m\u001b[0m\u001b[49m2\u001b[0m\u001b[0m\u001b[49m1\u001b[0m\u001b[0m\u001b[49m2\u001b[0m\u001b[0m\u001b[49m.\u001b[0m\u001b[0m\u001b[49m2\u001b[0m\u001b[0m\u001b[49m5\u001b[0m\u001b[0m\u001b[49m\n",
      "\u001b[0m\u001b[0m\u001b[49mX\u001b[0m\u001b[0m\u001b[49m-\u001b[0m\u001b[0m\u001b[49mR\u001b[0m\u001b[0m\u001b[49me\u001b[0m\u001b[0m\u001b[49mq\u001b[0m\u001b[0m\u001b[49mu\u001b[0m\u001b[0m\u001b[49me\u001b[0m\u001b[0m\u001b[49ms\u001b[0m\u001b[0m\u001b[49mt\u001b[0m\u001b[0m\u001b[49me\u001b[0m\u001b[0m\u001b[49md\u001b[0m\u001b[0m\u001b[49m-\u001b[0m\u001b[0m\u001b[49mW\u001b[0m\u001b[0m\u001b[49mi\u001b[0m\u001b[0m\u001b[49mt\u001b[0m\u001b[0m\u001b[49mh\u001b[0m\u001b[0m\u001b[49m:\u001b[0m\u001b[0m\u001b[49m \u001b[0m\u001b[0m\u001b[49mX\u001b[0m\u001b[0m\u001b[49mM\u001b[0m\u001b[0m\u001b[49mL\u001b[0m\u001b[0m\u001b[49mH\u001b[0m\u001b[0m\u001b[49mt\u001b[0m\u001b[0m\u001b[49mt\u001b[0m\u001b[0m\u001b[49mp\u001b[0m\u001b[0m\u001b[49mR\u001b[0m\u001b[0m\u001b[49me\u001b[0m\u001b[0m\u001b[49mq\u001b[0m\u001b[0m\u001b[49mu\u001b[0m\u001b[0m\u001b[49me\u001b[0m\u001b[0m\u001b[49ms\u001b[0m\u001b[0m\u001b[49mt\u001b[0m\u001b[0m\u001b[49m\n",
      "\u001b[0m\u001b[0m\u001b[49mU\u001b[0m\u001b[0m\u001b[49ms\u001b[0m\u001b[0m\u001b[49me\u001b[0m\u001b[0m\u001b[49mr\u001b[0m\u001b[0m\u001b[49m-\u001b[0m\u001b[0m\u001b[49mA\u001b[0m\u001b[0m\u001b[49mg\u001b[0m\u001b[0m\u001b[49me\u001b[0m\u001b[0m\u001b[49mn\u001b[0m\u001b[0m\u001b[49mt\u001b[0m\u001b[0m\u001b[49m:\u001b[0m\u001b[0m\u001b[49m \u001b[0m\u001b[0m\u001b[49mM\u001b[0m\u001b[0m\u001b[49mo\u001b[0m\u001b[0m\u001b[49mz\u001b[0m\u001b[0m\u001b[49mi\u001b[0m\u001b[0m\u001b[49ml\u001b[0m\u001b[0m\u001b[49ml\u001b[0m\u001b[0m\u001b[49ma\u001b[0m\u001b[0m\u001b[49m/\u001b[0m\u001b[0m\u001b[49m5\u001b[0m\u001b[0m\u001b[49m.\u001b[0m\u001b[0m\u001b[49m0\u001b[0m\u001b[0m\u001b[49m \u001b[0m\u001b[0m\u001b[49m(\u001b[0m\u001b[0m\u001b[41mX\u001b[0m\u001b[0m\u001b[49m1\u001b[0m\u001b[0m\u001b[49m1\u001b[0m\u001b[0m\u001b[49m;\u001b[0m\u001b[0m\u001b[49m \u001b[0m\u001b[0m\u001b[41mL\u001b[0m\u001b[0m\u001b[49mi\u001b[0m\u001b[0m\u001b[49mn\u001b[0m\u001b[0m\u001b[49mu\u001b[0m\u001b[0m\u001b[49mx\u001b[0m\u001b[0m\u001b[49m \u001b[0m\u001b[0m\u001b[49mx\u001b[0m\u001b[0m\u001b[49m8\u001b[0m\u001b[0m\u001b[49m6\u001b[0m\u001b[0m\u001b[49m_\u001b[0m\u001b[0m\u001b[49m6\u001b[0m\u001b[0m\u001b[49m4\u001b[0m\u001b[0m\u001b[49m)\u001b[0m\u001b[0m\u001b[49m \u001b[0m\u001b[0m\u001b[49mA\u001b[0m\u001b[0m\u001b[49mp\u001b[0m\u001b[0m\u001b[49mp\u001b[0m\u001b[0m\u001b[49ml\u001b[0m\u001b[0m\u001b[49me\u001b[0m\u001b[0m\u001b[49mW\u001b[0m\u001b[0m\u001b[49me\u001b[0m\u001b[0m\u001b[49mb\u001b[0m\u001b[0m\u001b[49mK\u001b[0m\u001b[0m\u001b[49mi\u001b[0m\u001b[0m\u001b[49mt\u001b[0m\u001b[0m\u001b[49m/\u001b[0m\u001b[0m\u001b[49m5\u001b[0m\u001b[0m\u001b[49m3\u001b[0m\u001b[0m\u001b[49m7\u001b[0m\u001b[0m\u001b[49m.\u001b[0m\u001b[0m\u001b[49m3\u001b[0m\u001b[0m\u001b[49m6\u001b[0m\u001b[0m\u001b[49m \u001b[0m\u001b[0m\u001b[49m(\u001b[0m\u001b[0m\u001b[49mK\u001b[0m\u001b[0m\u001b[49mH\u001b[0m\u001b[0m\u001b[49mT\u001b[0m\u001b[0m\u001b[49mM\u001b[0m\u001b[0m\u001b[49mL\u001b[0m\u001b[0m\u001b[49m,\u001b[0m\u001b[0m\u001b[49m \u001b[0m\u001b[0m\u001b[49ml\u001b[0m\u001b[0m\u001b[49mi\u001b[0m\u001b[0m\u001b[49mk\u001b[0m\u001b[0m\u001b[49me\u001b[0m\u001b[0m\u001b[49m \u001b[0m\u001b[0m\u001b[49mG\u001b[0m\u001b[0m\u001b[49me\u001b[0m\u001b[0m\u001b[49mc\u001b[0m\u001b[0m\u001b[49mk\u001b[0m\u001b[0m\u001b[49mo\u001b[0m\u001b[0m\u001b[49m)\u001b[0m\u001b[0m\u001b[49m \u001b[0m\u001b[0m\u001b[49mC\u001b[0m\u001b[0m\u001b[49mh\u001b[0m\u001b[0m\u001b[49mr\u001b[0m\u001b[0m\u001b[49mo\u001b[0m\u001b[0m\u001b[49mm\u001b[0m\u001b[0m\u001b[49me\u001b[0m\u001b[0m\u001b[49m/\u001b[0m\u001b[0m\u001b[49m6\u001b[0m\u001b[0m\u001b[41m6\u001b[0m\u001b[0m\u001b[41m.\u001b[0m\u001b[0m\u001b[49m0\u001b[0m\u001b[0m\u001b[49m.\u001b[0m\u001b[0m\u001b[49m3\u001b[0m\u001b[0m\u001b[41m3\u001b[0m\u001b[0m\u001b[41m5\u001b[0m\u001b[0m\u001b[41m9\u001b[0m\u001b[0m\u001b[49m.\u001b[0m\u001b[0m\u001b[49m1\u001b[0m\u001b[0m\u001b[41m3\u001b[0m\u001b[0m\u001b[41m9\u001b[0m\u001b[0m\u001b[49m \u001b[0m\u001b[0m\u001b[49mS\u001b[0m\u001b[0m\u001b[49ma\u001b[0m\u001b[0m\u001b[49mf\u001b[0m\u001b[0m\u001b[49ma\u001b[0m\u001b[0m\u001b[49mr\u001b[0m\u001b[0m\u001b[49mi\u001b[0m\u001b[0m\u001b[49m/\u001b[0m\u001b[0m\u001b[49m5\u001b[0m\u001b[0m\u001b[49m3\u001b[0m\u001b[0m\u001b[49m7\u001b[0m\u001b[0m\u001b[49m.\u001b[0m\u001b[0m\u001b[49m3\u001b[0m\u001b[0m\u001b[49m6\u001b[0m\u001b[0m\u001b[49m\n",
      "\u001b[0m\u001b[0m\u001b[49mC\u001b[0m\u001b[0m\u001b[49mo\u001b[0m\u001b[0m\u001b[49mn\u001b[0m\u001b[0m\u001b[49mt\u001b[0m\u001b[0m\u001b[49me\u001b[0m\u001b[0m\u001b[49mn\u001b[0m\u001b[0m\u001b[49mt\u001b[0m\u001b[0m\u001b[49m-\u001b[0m\u001b[0m\u001b[49mT\u001b[0m\u001b[0m\u001b[49my\u001b[0m\u001b[0m\u001b[49mp\u001b[0m\u001b[0m\u001b[49me\u001b[0m\u001b[0m\u001b[49m:\u001b[0m\u001b[0m\u001b[49m \u001b[0m\u001b[0m\u001b[49ma\u001b[0m\u001b[0m\u001b[49mp\u001b[0m\u001b[0m\u001b[49mp\u001b[0m\u001b[0m\u001b[49ml\u001b[0m\u001b[0m\u001b[49mi\u001b[0m\u001b[0m\u001b[49mc\u001b[0m\u001b[0m\u001b[49ma\u001b[0m\u001b[0m\u001b[49mt\u001b[0m\u001b[0m\u001b[49mi\u001b[0m\u001b[0m\u001b[49mo\u001b[0m\u001b[0m\u001b[49mn\u001b[0m\u001b[0m\u001b[49m/\u001b[0m\u001b[0m\u001b[49mx\u001b[0m\u001b[0m\u001b[49m-\u001b[0m\u001b[0m\u001b[49mw\u001b[0m\u001b[0m\u001b[49mw\u001b[0m\u001b[0m\u001b[49mw\u001b[0m\u001b[0m\u001b[49m-\u001b[0m\u001b[0m\u001b[49mf\u001b[0m\u001b[0m\u001b[49mo\u001b[0m\u001b[0m\u001b[49mr\u001b[0m\u001b[0m\u001b[49mm\u001b[0m\u001b[0m\u001b[49m-\u001b[0m\u001b[0m\u001b[49mu\u001b[0m\u001b[0m\u001b[49mr\u001b[0m\u001b[0m\u001b[49ml\u001b[0m\u001b[0m\u001b[49me\u001b[0m\u001b[0m\u001b[49mn\u001b[0m\u001b[0m\u001b[49mc\u001b[0m\u001b[0m\u001b[49mo\u001b[0m\u001b[0m\u001b[49md\u001b[0m\u001b[0m\u001b[49me\u001b[0m\u001b[0m\u001b[49md\u001b[0m\u001b[0m\u001b[49m;\u001b[0m\u001b[0m\u001b[49m \u001b[0m\u001b[0m\u001b[49mc\u001b[0m\u001b[0m\u001b[49mh\u001b[0m\u001b[0m\u001b[49ma\u001b[0m\u001b[0m\u001b[49mr\u001b[0m\u001b[0m\u001b[49ms\u001b[0m\u001b[0m\u001b[49me\u001b[0m\u001b[0m\u001b[49mt\u001b[0m\u001b[0m\u001b[49m=\u001b[0m\u001b[0m\u001b[49mU\u001b[0m\u001b[0m\u001b[49mT\u001b[0m\u001b[0m\u001b[49mF\u001b[0m\u001b[0m\u001b[49m-\u001b[0m\u001b[0m\u001b[49m8\u001b[0m\u001b[0m\u001b[49m\n",
      "\u001b[0m\u001b[0m\u001b[41mD\u001b[0m\u001b[0m\u001b[41mN\u001b[0m\u001b[0m\u001b[41mT\u001b[0m\u001b[0m\u001b[41m:\u001b[0m\u001b[0m\u001b[49m \u001b[0m\u001b[0m\u001b[41m1\u001b[0m\u001b[0m\u001b[41m\n",
      "\u001b[0m\u001b[0m\u001b[41mR\u001b[0m\u001b[0m\u001b[41me\u001b[0m\u001b[0m\u001b[41mf\u001b[0m\u001b[0m\u001b[49me\u001b[0m\u001b[0m\u001b[49mr\u001b[0m\u001b[0m\u001b[41me\u001b[0m\u001b[0m\u001b[41mr\u001b[0m\u001b[0m\u001b[49m:\u001b[0m\u001b[0m\u001b[49m \u001b[0m\u001b[0m\u001b[49mh\u001b[0m\u001b[0m\u001b[49mt\u001b[0m\u001b[0m\u001b[49mt\u001b[0m\u001b[0m\u001b[49mp\u001b[0m\u001b[0m\u001b[49m:\u001b[0m\u001b[0m\u001b[49m/\u001b[0m\u001b[0m\u001b[49m/\u001b[0m\u001b[0m\u001b[49m1\u001b[0m\u001b[0m\u001b[49m0\u001b[0m\u001b[0m\u001b[49m.\u001b[0m\u001b[0m\u001b[49m0\u001b[0m\u001b[0m\u001b[49m.\u001b[0m\u001b[0m\u001b[49m2\u001b[0m\u001b[0m\u001b[49m1\u001b[0m\u001b[0m\u001b[49m2\u001b[0m\u001b[0m\u001b[49m.\u001b[0m\u001b[0m\u001b[49m2\u001b[0m\u001b[0m\u001b[49m5\u001b[0m\u001b[0m\u001b[49m/\u001b[0m\u001b[0m\u001b[49mv\u001b[0m\u001b[0m\u001b[49mu\u001b[0m\u001b[0m\u001b[49ml\u001b[0m\u001b[0m\u001b[49mn\u001b[0m\u001b[0m\u001b[49mb\u001b[0m\u001b[0m\u001b[49ma\u001b[0m\u001b[0m\u001b[49mn\u001b[0m\u001b[0m\u001b[49mk\u001b[0m\u001b[0m\u001b[49m/\u001b[0m\u001b[0m\u001b[49mo\u001b[0m\u001b[0m\u001b[49mn\u001b[0m\u001b[0m\u001b[49ml\u001b[0m\u001b[0m\u001b[49mi\u001b[0m\u001b[0m\u001b[49mn\u001b[0m\u001b[0m\u001b[49me\u001b[0m\u001b[0m\u001b[49m/\u001b[0m\u001b[0m\u001b[41mu\u001b[0m\u001b[0m\u001b[49ms\u001b[0m\u001b[0m\u001b[49me\u001b[0m\u001b[0m\u001b[49mr\u001b[0m\u001b[0m\u001b[49mi\u001b[0m\u001b[0m\u001b[49mn\u001b[0m\u001b[0m\u001b[49mf\u001b[0m\u001b[0m\u001b[49mo\u001b[0m\u001b[0m\u001b[49m.\u001b[0m\u001b[0m\u001b[49mp\u001b[0m\u001b[0m\u001b[49mh\u001b[0m\u001b[0m\u001b[49mp\u001b[0m\u001b[0m\u001b[49m\n",
      "\u001b[0m\u001b[0m\u001b[49mA\u001b[0m\u001b[0m\u001b[49mc\u001b[0m\u001b[0m\u001b[49mc\u001b[0m\u001b[0m\u001b[49me\u001b[0m\u001b[0m\u001b[49mp\u001b[0m\u001b[0m\u001b[49mt\u001b[0m\u001b[0m\u001b[49m-\u001b[0m\u001b[0m\u001b[49mE\u001b[0m\u001b[0m\u001b[49mn\u001b[0m\u001b[0m\u001b[49mc\u001b[0m\u001b[0m\u001b[49mo\u001b[0m\u001b[0m\u001b[49md\u001b[0m\u001b[0m\u001b[49mi\u001b[0m\u001b[0m\u001b[49mn\u001b[0m\u001b[0m\u001b[49mg\u001b[0m\u001b[0m\u001b[49m:\u001b[0m\u001b[0m\u001b[49m \u001b[0m\u001b[0m\u001b[49mg\u001b[0m\u001b[0m\u001b[49mz\u001b[0m\u001b[0m\u001b[49mi\u001b[0m\u001b[0m\u001b[49mp\u001b[0m\u001b[0m\u001b[49m,\u001b[0m\u001b[0m\u001b[49m \u001b[0m\u001b[0m\u001b[49md\u001b[0m\u001b[0m\u001b[49me\u001b[0m\u001b[0m\u001b[49mf\u001b[0m\u001b[0m\u001b[49ml\u001b[0m\u001b[0m\u001b[49ma\u001b[0m\u001b[0m\u001b[49mt\u001b[0m\u001b[0m\u001b[49me\u001b[0m\u001b[0m\u001b[49m\n",
      "\u001b[0m\u001b[0m\u001b[49mA\u001b[0m\u001b[0m\u001b[49mc\u001b[0m\u001b[0m\u001b[49mc\u001b[0m\u001b[0m\u001b[49me\u001b[0m\u001b[0m\u001b[49mp\u001b[0m\u001b[0m\u001b[49mt\u001b[0m\u001b[0m\u001b[49m-\u001b[0m\u001b[0m\u001b[49mL\u001b[0m\u001b[0m\u001b[49ma\u001b[0m\u001b[0m\u001b[49mn\u001b[0m\u001b[0m\u001b[49mg\u001b[0m\u001b[0m\u001b[49mu\u001b[0m\u001b[0m\u001b[49ma\u001b[0m\u001b[0m\u001b[49mg\u001b[0m\u001b[0m\u001b[49me\u001b[0m\u001b[0m\u001b[49m:\u001b[0m\u001b[0m\u001b[49m \u001b[0m\u001b[0m\u001b[49me\u001b[0m\u001b[0m\u001b[49mn\u001b[0m\u001b[0m\u001b[49m-\u001b[0m\u001b[0m\u001b[49mU\u001b[0m\u001b[0m\u001b[49mS\u001b[0m\u001b[0m\u001b[49m,\u001b[0m\u001b[0m\u001b[49me\u001b[0m\u001b[0m\u001b[49mn\u001b[0m\u001b[0m\u001b[49m;\u001b[0m\u001b[0m\u001b[49mq\u001b[0m\u001b[0m\u001b[49m=\u001b[0m\u001b[0m\u001b[49m0\u001b[0m\u001b[0m\u001b[49m.\u001b[0m\u001b[0m\u001b[49m9\u001b[0m\u001b[0m\u001b[41m,\u001b[0m\u001b[0m\u001b[41mr\u001b[0m\u001b[0m\u001b[49mu\u001b[0m\u001b[0m\u001b[49m;\u001b[0m\u001b[0m\u001b[49mq\u001b[0m\u001b[0m\u001b[49m=\u001b[0m\u001b[0m\u001b[49m0\u001b[0m\u001b[0m\u001b[49m.\u001b[0m\u001b[0m\u001b[49m8\u001b[0m\u001b[0m\u001b[41m\n",
      "\u001b[0m\u001b[0m\u001b[41mC\u001b[0m\u001b[0m\u001b[49mo\u001b[0m\u001b[0m\u001b[41mo\u001b[0m\u001b[0m\u001b[41mk\u001b[0m\u001b[0m\u001b[49mi\u001b[0m\u001b[0m\u001b[49me\u001b[0m\u001b[0m\u001b[49m:\u001b[0m\u001b[0m\u001b[49m \u001b[0m\u001b[0m\u001b[49mP\u001b[0m\u001b[0m\u001b[49mH\u001b[0m\u001b[0m\u001b[49mP\u001b[0m\u001b[0m\u001b[49mS\u001b[0m\u001b[0m\u001b[49mE\u001b[0m\u001b[0m\u001b[49mS\u001b[0m\u001b[0m\u001b[49mS\u001b[0m\u001b[0m\u001b[49mI\u001b[0m\u001b[0m\u001b[49mD\u001b[0m\u001b[0m\u001b[49m=\u001b[0m\u001b[0m\u001b[41m7\u001b[0m\u001b[0m\u001b[41mb\u001b[0m\u001b[0m\u001b[41mg\u001b[0m\u001b[0m\u001b[41mg\u001b[0m\u001b[0m\u001b[41m5\u001b[0m\u001b[0m\u001b[41mt\u001b[0m\u001b[0m\u001b[41ma\u001b[0m\u001b[0m\u001b[41ml\u001b[0m\u001b[0m\u001b[41md\u001b[0m\u001b[0m\u001b[41m4\u001b[0m\u001b[0m\u001b[41ma\u001b[0m\u001b[0m\u001b[41me\u001b[0m\u001b[0m\u001b[41ma\u001b[0m\u001b[0m\u001b[41m8\u001b[0m\u001b[0m\u001b[41m0\u001b[0m\u001b[0m\u001b[41m7\u001b[0m\u001b[0m\u001b[41m9\u001b[0m\u001b[0m\u001b[41m0\u001b[0m\u001b[0m\u001b[41mi\u001b[0m\u001b[0m\u001b[41mt\u001b[0m\u001b[0m\u001b[49m7\u001b[0m\u001b[0m\u001b[41ms\u001b[0m\u001b[0m\u001b[41m1\u001b[0m\u001b[0m\u001b[41mc\u001b[0m\u001b[0m\u001b[41mc\u001b[0m\u001b[0m\u001b[41m1\u001b[0m\u001b[0m\u001b[49m\n",
      "\u001b[0m\u001b[0m\u001b[41m\n",
      "\u001b[0m\u001b[0m\u001b[49mt\u001b[0m\u001b[0m\u001b[49my\u001b[0m\u001b[0m\u001b[49mp\u001b[0m\u001b[0m\u001b[49me\u001b[0m\u001b[0m\u001b[49m=\u001b[0m\u001b[0m\u001b[41mu\u001b[0m\u001b[0m\u001b[49ms\u001b[0m\u001b[0m\u001b[49me\u001b[0m\u001b[0m\u001b[49mr\u001b[0m\u001b[0m\u001b[49m&\u001b[0m\u001b[0m\u001b[49ma\u001b[0m\u001b[0m\u001b[49mc\u001b[0m\u001b[0m\u001b[49mt\u001b[0m\u001b[0m\u001b[49mi\u001b[0m\u001b[0m\u001b[49mo\u001b[0m\u001b[0m\u001b[49mn\u001b[0m\u001b[0m\u001b[49m=\u001b[0m\u001b[0m\u001b[41mi\u001b[0m\u001b[0m\u001b[41mn\u001b[0m\u001b[0m\u001b[41mf\u001b[0m\u001b[0m\u001b[49mo\u001b[0m\u001b[0m\u001b[41mu\u001b[0m\u001b[0m\u001b[41mp\u001b[0m\u001b[0m\u001b[41md\u001b[0m\u001b[0m\u001b[41ma\u001b[0m\u001b[0m\u001b[41mt\u001b[0m\u001b[0m\u001b[41me\u001b[0m\u001b[0m\u001b[41m&\u001b[0m\u001b[0m\u001b[41mf\u001b[0m\u001b[0m\u001b[49mi\u001b[0m\u001b[0m\u001b[49mr\u001b[0m\u001b[0m\u001b[41ms\u001b[0m\u001b[0m\u001b[41mt\u001b[0m\u001b[0m\u001b[41mn\u001b[0m\u001b[0m\u001b[41ma\u001b[0m\u001b[0m\u001b[49mm\u001b[0m\u001b[0m\u001b[49me\u001b[0m\u001b[0m\u001b[41m=\u001b[0m\u001b[0m\u001b[41mJ\u001b[0m\u001b[0m\u001b[41mo\u001b[0m\u001b[0m\u001b[41mh\u001b[0m\u001b[0m\u001b[41mn\u001b[0m\u001b[0m\u001b[49m&\u001b[0m\u001b[0m\u001b[49ml\u001b[0m\u001b[0m\u001b[49ma\u001b[0m\u001b[0m\u001b[49ms\u001b[0m\u001b[0m\u001b[49mt\u001b[0m\u001b[0m\u001b[49mn\u001b[0m\u001b[0m\u001b[49ma\u001b[0m\u001b[0m\u001b[49mm\u001b[0m\u001b[0m\u001b[49me\u001b[0m\u001b[0m\u001b[49m=\u001b[0m\u001b[0m\u001b[41mD\u001b[0m\u001b[0m\u001b[41mo\u001b[0m\u001b[0m\u001b[41me\u001b[0m\u001b[0m\u001b[41m&\u001b[0m\u001b[0m\u001b[41mp\u001b[0m\u001b[0m\u001b[41mh\u001b[0m\u001b[0m\u001b[41mo\u001b[0m\u001b[0m\u001b[49mn\u001b[0m\u001b[0m\u001b[41me\u001b[0m\u001b[0m\u001b[41m=\u001b[0m\u001b[0m\u001b[41m7\u001b[0m\u001b[0m\u001b[41m9\u001b[0m\u001b[0m\u001b[41m0\u001b[0m\u001b[0m\u001b[41m3\u001b[0m\u001b[0m\u001b[41m5\u001b[0m\u001b[0m\u001b[41m2\u001b[0m\u001b[0m\u001b[41m2\u001b[0m\u001b[0m\u001b[41m2\u001b[0m\u001b[0m\u001b[41m2\u001b[0m\u001b[0m\u001b[41m1\u001b[0m\u001b[0m\u001b[41m2\u001b[0m\u001b[0m\u001b[41m&\u001b[0m\u001b[0m\u001b[41me\u001b[0m\u001b[0m\u001b[41mm\u001b[0m\u001b[0m\u001b[41ma\u001b[0m\u001b[0m\u001b[41mi\u001b[0m\u001b[0m\u001b[41ml\u001b[0m\u001b[0m\u001b[41m=\u001b[0m\u001b[0m\u001b[41mj\u001b[0m\u001b[0m\u001b[41m.\u001b[0m\u001b[0m\u001b[41md\u001b[0m\u001b[0m\u001b[41mo\u001b[0m\u001b[0m\u001b[41me\u001b[0m\u001b[0m\u001b[41m%\u001b[0m\u001b[0m\u001b[41m4\u001b[0m\u001b[0m\u001b[41m0\u001b[0m\u001b[0m\u001b[41mv\u001b[0m\u001b[0m\u001b[41mu\u001b[0m\u001b[0m\u001b[49ml\u001b[0m\u001b[0m\u001b[41mn\u001b[0m\u001b[0m\u001b[41mb\u001b[0m\u001b[0m\u001b[41ma\u001b[0m\u001b[0m\u001b[41mn\u001b[0m\u001b[0m\u001b[41mk\u001b[0m\u001b[0m\u001b[41m.\u001b[0m\u001b[0m\u001b[41md\u001b[0m\u001b[0m\u001b[41me\u001b[0m\u001b[0m\u001b[41m&\u001b[0m\u001b[0m\u001b[41mb\u001b[0m\u001b[0m\u001b[41mi\u001b[0m\u001b[0m\u001b[41mr\u001b[0m\u001b[0m\u001b[49mt\u001b[0m\u001b[0m\u001b[49mh\u001b[0m\u001b[0m\u001b[41md\u001b[0m\u001b[0m\u001b[49ma\u001b[0m\u001b[0m\u001b[41mt\u001b[0m\u001b[0m\u001b[49me\u001b[0m\u001b[0m\u001b[49m=\u001b[0m\u001b[0m\u001b[41m1\u001b[0m\u001b[0m\u001b[41m9\u001b[0m\u001b[0m\u001b[41m8\u001b[0m\u001b[0m\u001b[41m4\u001b[0m\u001b[0m\u001b[41m-\u001b[0m\u001b[0m\u001b[41m0\u001b[0m\u001b[0m\u001b[41m4\u001b[0m\u001b[0m\u001b[41m-\u001b[0m\u001b[0m\u001b[41m0\u001b[0m\u001b[0m\u001b[41m4\u001b[0m\u001b[0m\u001b[41m&\u001b[0m\u001b[0m\u001b[41ma\u001b[0m\u001b[0m\u001b[41mb\u001b[0m\u001b[0m\u001b[41mo\u001b[0m\u001b[0m\u001b[41mu\u001b[0m\u001b[0m\u001b[41mt\u001b[0m\u001b[0m\u001b[49m=\u001b[0m\u001b[0m\u001b[41mH\u001b[0m\u001b[0m\u001b[41mi\u001b[0m\u001b[0m\u001b[41m!\u001b[0m\u001b[0m\n",
      "\n",
      "\u001b[0m\n",
      "\u001b[0m==== TP Anomal sample 682. Error: 0.24361106095522822 ====\n",
      "\u001b[0m\n",
      "\u001b[0m\u001b[41mP\u001b[0m\u001b[0m\u001b[49mO\u001b[0m\u001b[0m\u001b[49mS\u001b[0m\u001b[0m\u001b[49mT\u001b[0m\u001b[0m\u001b[49m \u001b[0m\u001b[0m\u001b[49m/\u001b[0m\u001b[0m\u001b[49mv\u001b[0m\u001b[0m\u001b[49mu\u001b[0m\u001b[0m\u001b[49ml\u001b[0m\u001b[0m\u001b[49mn\u001b[0m\u001b[0m\u001b[49mb\u001b[0m\u001b[0m\u001b[49ma\u001b[0m\u001b[0m\u001b[49mn\u001b[0m\u001b[0m\u001b[49mk\u001b[0m\u001b[0m\u001b[49m/\u001b[0m\u001b[0m\u001b[49mo\u001b[0m\u001b[0m\u001b[49mn\u001b[0m\u001b[0m\u001b[49ml\u001b[0m\u001b[0m\u001b[49mi\u001b[0m\u001b[0m\u001b[49mn\u001b[0m\u001b[0m\u001b[49me\u001b[0m\u001b[0m\u001b[49m/\u001b[0m\u001b[0m\u001b[49ma\u001b[0m\u001b[0m\u001b[49mp\u001b[0m\u001b[0m\u001b[49mi\u001b[0m\u001b[0m\u001b[49m.\u001b[0m\u001b[0m\u001b[49mp\u001b[0m\u001b[0m\u001b[49mh\u001b[0m\u001b[0m\u001b[49mp\u001b[0m\u001b[0m\u001b[49m \u001b[0m\u001b[0m\u001b[49mH\u001b[0m\u001b[0m\u001b[49mT\u001b[0m\u001b[0m\u001b[49mT\u001b[0m\u001b[0m\u001b[49mP\u001b[0m\u001b[0m\u001b[49m/\u001b[0m\u001b[0m\u001b[49m1\u001b[0m\u001b[0m\u001b[49m.\u001b[0m\u001b[0m\u001b[49m1\u001b[0m\u001b[0m\u001b[49m\n",
      "\u001b[0m\u001b[0m\u001b[49mH\u001b[0m\u001b[0m\u001b[49mo\u001b[0m\u001b[0m\u001b[49ms\u001b[0m\u001b[0m\u001b[49mt\u001b[0m\u001b[0m\u001b[49m:\u001b[0m\u001b[0m\u001b[49m \u001b[0m\u001b[0m\u001b[49m1\u001b[0m\u001b[0m\u001b[49m0\u001b[0m\u001b[0m\u001b[49m.\u001b[0m\u001b[0m\u001b[49m0\u001b[0m\u001b[0m\u001b[49m.\u001b[0m\u001b[0m\u001b[49m2\u001b[0m\u001b[0m\u001b[49m1\u001b[0m\u001b[0m\u001b[49m2\u001b[0m\u001b[0m\u001b[49m.\u001b[0m\u001b[0m\u001b[49m2\u001b[0m\u001b[0m\u001b[49m5\u001b[0m\u001b[0m\u001b[49m\n",
      "\u001b[0m\u001b[0m\u001b[49mC\u001b[0m\u001b[0m\u001b[49mo\u001b[0m\u001b[0m\u001b[49mn\u001b[0m\u001b[0m\u001b[49mn\u001b[0m\u001b[0m\u001b[49me\u001b[0m\u001b[0m\u001b[49mc\u001b[0m\u001b[0m\u001b[49mt\u001b[0m\u001b[0m\u001b[49mi\u001b[0m\u001b[0m\u001b[49mo\u001b[0m\u001b[0m\u001b[49mn\u001b[0m\u001b[0m\u001b[49m:\u001b[0m\u001b[0m\u001b[49m \u001b[0m\u001b[0m\u001b[41mk\u001b[0m\u001b[0m\u001b[49me\u001b[0m\u001b[0m\u001b[49me\u001b[0m\u001b[0m\u001b[49mp\u001b[0m\u001b[0m\u001b[49m-\u001b[0m\u001b[0m\u001b[49ma\u001b[0m\u001b[0m\u001b[49ml\u001b[0m\u001b[0m\u001b[49mi\u001b[0m\u001b[0m\u001b[49mv\u001b[0m\u001b[0m\u001b[49me\u001b[0m\u001b[0m\u001b[49m\n",
      "\u001b[0m\u001b[0m\u001b[49mC\u001b[0m\u001b[0m\u001b[49mo\u001b[0m\u001b[0m\u001b[49mn\u001b[0m\u001b[0m\u001b[49mt\u001b[0m\u001b[0m\u001b[49me\u001b[0m\u001b[0m\u001b[49mn\u001b[0m\u001b[0m\u001b[49mt\u001b[0m\u001b[0m\u001b[49m-\u001b[0m\u001b[0m\u001b[49mL\u001b[0m\u001b[0m\u001b[49me\u001b[0m\u001b[0m\u001b[49mn\u001b[0m\u001b[0m\u001b[49mg\u001b[0m\u001b[0m\u001b[49mt\u001b[0m\u001b[0m\u001b[49mh\u001b[0m\u001b[0m\u001b[49m:\u001b[0m\u001b[0m\u001b[49m \u001b[0m\u001b[0m\u001b[49m1\u001b[0m\u001b[0m\u001b[41m6\u001b[0m\u001b[0m\u001b[41m3\u001b[0m\u001b[0m\u001b[49m\n",
      "\u001b[0m\u001b[0m\u001b[49mA\u001b[0m\u001b[0m\u001b[49mc\u001b[0m\u001b[0m\u001b[49mc\u001b[0m\u001b[0m\u001b[49me\u001b[0m\u001b[0m\u001b[49mp\u001b[0m\u001b[0m\u001b[49mt\u001b[0m\u001b[0m\u001b[49m:\u001b[0m\u001b[0m\u001b[49m \u001b[0m\u001b[0m\u001b[49ma\u001b[0m\u001b[0m\u001b[49mp\u001b[0m\u001b[0m\u001b[49mp\u001b[0m\u001b[0m\u001b[49ml\u001b[0m\u001b[0m\u001b[49mi\u001b[0m\u001b[0m\u001b[49mc\u001b[0m\u001b[0m\u001b[49ma\u001b[0m\u001b[0m\u001b[49mt\u001b[0m\u001b[0m\u001b[49mi\u001b[0m\u001b[0m\u001b[49mo\u001b[0m\u001b[0m\u001b[49mn\u001b[0m\u001b[0m\u001b[49m/\u001b[0m\u001b[0m\u001b[49mj\u001b[0m\u001b[0m\u001b[49ms\u001b[0m\u001b[0m\u001b[49mo\u001b[0m\u001b[0m\u001b[49mn\u001b[0m\u001b[0m\u001b[49m,\u001b[0m\u001b[0m\u001b[49m \u001b[0m\u001b[0m\u001b[49mt\u001b[0m\u001b[0m\u001b[49me\u001b[0m\u001b[0m\u001b[49mx\u001b[0m\u001b[0m\u001b[49mt\u001b[0m\u001b[0m\u001b[49m/\u001b[0m\u001b[0m\u001b[49mj\u001b[0m\u001b[0m\u001b[49ma\u001b[0m\u001b[0m\u001b[49mv\u001b[0m\u001b[0m\u001b[49ma\u001b[0m\u001b[0m\u001b[49ms\u001b[0m\u001b[0m\u001b[49mc\u001b[0m\u001b[0m\u001b[49mr\u001b[0m\u001b[0m\u001b[49mi\u001b[0m\u001b[0m\u001b[49mp\u001b[0m\u001b[0m\u001b[49mt\u001b[0m\u001b[0m\u001b[49m,\u001b[0m\u001b[0m\u001b[49m \u001b[0m\u001b[0m\u001b[49m*\u001b[0m\u001b[0m\u001b[49m/\u001b[0m\u001b[0m\u001b[49m*\u001b[0m\u001b[0m\u001b[49m;\u001b[0m\u001b[0m\u001b[49m \u001b[0m\u001b[0m\u001b[49mq\u001b[0m\u001b[0m\u001b[49m=\u001b[0m\u001b[0m\u001b[49m0\u001b[0m\u001b[0m\u001b[49m.\u001b[0m\u001b[0m\u001b[49m0\u001b[0m\u001b[0m\u001b[49m1\u001b[0m\u001b[0m\u001b[49m\n",
      "\u001b[0m\u001b[0m\u001b[49mO\u001b[0m\u001b[0m\u001b[49mr\u001b[0m\u001b[0m\u001b[49mi\u001b[0m\u001b[0m\u001b[49mg\u001b[0m\u001b[0m\u001b[49mi\u001b[0m\u001b[0m\u001b[49mn\u001b[0m\u001b[0m\u001b[49m:\u001b[0m\u001b[0m\u001b[49m \u001b[0m\u001b[0m\u001b[49mh\u001b[0m\u001b[0m\u001b[49mt\u001b[0m\u001b[0m\u001b[49mt\u001b[0m\u001b[0m\u001b[49mp\u001b[0m\u001b[0m\u001b[49m:\u001b[0m\u001b[0m\u001b[49m/\u001b[0m\u001b[0m\u001b[49m/\u001b[0m\u001b[0m\u001b[49m1\u001b[0m\u001b[0m\u001b[49m0\u001b[0m\u001b[0m\u001b[49m.\u001b[0m\u001b[0m\u001b[49m0\u001b[0m\u001b[0m\u001b[49m.\u001b[0m\u001b[0m\u001b[49m2\u001b[0m\u001b[0m\u001b[49m1\u001b[0m\u001b[0m\u001b[49m2\u001b[0m\u001b[0m\u001b[49m.\u001b[0m\u001b[0m\u001b[49m2\u001b[0m\u001b[0m\u001b[49m5\u001b[0m\u001b[0m\u001b[49m\n",
      "\u001b[0m\u001b[0m\u001b[49mX\u001b[0m\u001b[0m\u001b[49m-\u001b[0m\u001b[0m\u001b[49mR\u001b[0m\u001b[0m\u001b[49me\u001b[0m\u001b[0m\u001b[49mq\u001b[0m\u001b[0m\u001b[49mu\u001b[0m\u001b[0m\u001b[49me\u001b[0m\u001b[0m\u001b[49ms\u001b[0m\u001b[0m\u001b[49mt\u001b[0m\u001b[0m\u001b[49me\u001b[0m\u001b[0m\u001b[49md\u001b[0m\u001b[0m\u001b[49m-\u001b[0m\u001b[0m\u001b[49mW\u001b[0m\u001b[0m\u001b[49mi\u001b[0m\u001b[0m\u001b[49mt\u001b[0m\u001b[0m\u001b[49mh\u001b[0m\u001b[0m\u001b[49m:\u001b[0m\u001b[0m\u001b[49m \u001b[0m\u001b[0m\u001b[49mX\u001b[0m\u001b[0m\u001b[49mM\u001b[0m\u001b[0m\u001b[49mL\u001b[0m\u001b[0m\u001b[49mH\u001b[0m\u001b[0m\u001b[49mt\u001b[0m\u001b[0m\u001b[49mt\u001b[0m\u001b[0m\u001b[49mp\u001b[0m\u001b[0m\u001b[49mR\u001b[0m\u001b[0m\u001b[49me\u001b[0m\u001b[0m\u001b[49mq\u001b[0m\u001b[0m\u001b[49mu\u001b[0m\u001b[0m\u001b[49me\u001b[0m\u001b[0m\u001b[49ms\u001b[0m\u001b[0m\u001b[49mt\u001b[0m\u001b[0m\u001b[49m\n",
      "\u001b[0m\u001b[0m\u001b[49mU\u001b[0m\u001b[0m\u001b[49ms\u001b[0m\u001b[0m\u001b[49me\u001b[0m\u001b[0m\u001b[49mr\u001b[0m\u001b[0m\u001b[49m-\u001b[0m\u001b[0m\u001b[49mA\u001b[0m\u001b[0m\u001b[49mg\u001b[0m\u001b[0m\u001b[49me\u001b[0m\u001b[0m\u001b[49mn\u001b[0m\u001b[0m\u001b[49mt\u001b[0m\u001b[0m\u001b[49m:\u001b[0m\u001b[0m\u001b[49m \u001b[0m\u001b[0m\u001b[49mM\u001b[0m\u001b[0m\u001b[49mo\u001b[0m\u001b[0m\u001b[49mz\u001b[0m\u001b[0m\u001b[49mi\u001b[0m\u001b[0m\u001b[49ml\u001b[0m\u001b[0m\u001b[49ml\u001b[0m\u001b[0m\u001b[49ma\u001b[0m\u001b[0m\u001b[49m/\u001b[0m\u001b[0m\u001b[49m5\u001b[0m\u001b[0m\u001b[49m.\u001b[0m\u001b[0m\u001b[49m0\u001b[0m\u001b[0m\u001b[49m \u001b[0m\u001b[0m\u001b[49m(\u001b[0m\u001b[0m\u001b[41mX\u001b[0m\u001b[0m\u001b[49m1\u001b[0m\u001b[0m\u001b[49m1\u001b[0m\u001b[0m\u001b[49m;\u001b[0m\u001b[0m\u001b[49m \u001b[0m\u001b[0m\u001b[41mL\u001b[0m\u001b[0m\u001b[49mi\u001b[0m\u001b[0m\u001b[49mn\u001b[0m\u001b[0m\u001b[49mu\u001b[0m\u001b[0m\u001b[49mx\u001b[0m\u001b[0m\u001b[49m \u001b[0m\u001b[0m\u001b[49mx\u001b[0m\u001b[0m\u001b[49m8\u001b[0m\u001b[0m\u001b[49m6\u001b[0m\u001b[0m\u001b[49m_\u001b[0m\u001b[0m\u001b[49m6\u001b[0m\u001b[0m\u001b[49m4\u001b[0m\u001b[0m\u001b[49m)\u001b[0m\u001b[0m\u001b[49m \u001b[0m\u001b[0m\u001b[49mA\u001b[0m\u001b[0m\u001b[49mp\u001b[0m\u001b[0m\u001b[49mp\u001b[0m\u001b[0m\u001b[49ml\u001b[0m\u001b[0m\u001b[49me\u001b[0m\u001b[0m\u001b[49mW\u001b[0m\u001b[0m\u001b[49me\u001b[0m\u001b[0m\u001b[49mb\u001b[0m\u001b[0m\u001b[49mK\u001b[0m\u001b[0m\u001b[49mi\u001b[0m\u001b[0m\u001b[49mt\u001b[0m\u001b[0m\u001b[49m/\u001b[0m\u001b[0m\u001b[49m5\u001b[0m\u001b[0m\u001b[49m3\u001b[0m\u001b[0m\u001b[49m7\u001b[0m\u001b[0m\u001b[49m.\u001b[0m\u001b[0m\u001b[49m3\u001b[0m\u001b[0m\u001b[49m6\u001b[0m\u001b[0m\u001b[49m \u001b[0m\u001b[0m\u001b[49m(\u001b[0m\u001b[0m\u001b[49mK\u001b[0m\u001b[0m\u001b[49mH\u001b[0m\u001b[0m\u001b[49mT\u001b[0m\u001b[0m\u001b[49mM\u001b[0m\u001b[0m\u001b[49mL\u001b[0m\u001b[0m\u001b[49m,\u001b[0m\u001b[0m\u001b[49m \u001b[0m\u001b[0m\u001b[49ml\u001b[0m\u001b[0m\u001b[49mi\u001b[0m\u001b[0m\u001b[49mk\u001b[0m\u001b[0m\u001b[49me\u001b[0m\u001b[0m\u001b[49m \u001b[0m\u001b[0m\u001b[49mG\u001b[0m\u001b[0m\u001b[49me\u001b[0m\u001b[0m\u001b[49mc\u001b[0m\u001b[0m\u001b[49mk\u001b[0m\u001b[0m\u001b[49mo\u001b[0m\u001b[0m\u001b[49m)\u001b[0m\u001b[0m\u001b[49m \u001b[0m\u001b[0m\u001b[49mC\u001b[0m\u001b[0m\u001b[49mh\u001b[0m\u001b[0m\u001b[49mr\u001b[0m\u001b[0m\u001b[49mo\u001b[0m\u001b[0m\u001b[49mm\u001b[0m\u001b[0m\u001b[49me\u001b[0m\u001b[0m\u001b[49m/\u001b[0m\u001b[0m\u001b[49m6\u001b[0m\u001b[0m\u001b[41m6\u001b[0m\u001b[0m\u001b[41m.\u001b[0m\u001b[0m\u001b[49m0\u001b[0m\u001b[0m\u001b[49m.\u001b[0m\u001b[0m\u001b[49m3\u001b[0m\u001b[0m\u001b[41m3\u001b[0m\u001b[0m\u001b[41m5\u001b[0m\u001b[0m\u001b[41m9\u001b[0m\u001b[0m\u001b[49m.\u001b[0m\u001b[0m\u001b[49m1\u001b[0m\u001b[0m\u001b[41m3\u001b[0m\u001b[0m\u001b[41m9\u001b[0m\u001b[0m\u001b[49m \u001b[0m\u001b[0m\u001b[49mS\u001b[0m\u001b[0m\u001b[49ma\u001b[0m\u001b[0m\u001b[49mf\u001b[0m\u001b[0m\u001b[49ma\u001b[0m\u001b[0m\u001b[49mr\u001b[0m\u001b[0m\u001b[49mi\u001b[0m\u001b[0m\u001b[49m/\u001b[0m\u001b[0m\u001b[49m5\u001b[0m\u001b[0m\u001b[49m3\u001b[0m\u001b[0m\u001b[49m7\u001b[0m\u001b[0m\u001b[49m.\u001b[0m\u001b[0m\u001b[49m3\u001b[0m\u001b[0m\u001b[49m6\u001b[0m\u001b[0m\u001b[49m\n",
      "\u001b[0m\u001b[0m\u001b[49mC\u001b[0m\u001b[0m\u001b[49mo\u001b[0m\u001b[0m\u001b[49mn\u001b[0m\u001b[0m\u001b[49mt\u001b[0m\u001b[0m\u001b[49me\u001b[0m\u001b[0m\u001b[49mn\u001b[0m\u001b[0m\u001b[49mt\u001b[0m\u001b[0m\u001b[49m-\u001b[0m\u001b[0m\u001b[49mT\u001b[0m\u001b[0m\u001b[49my\u001b[0m\u001b[0m\u001b[49mp\u001b[0m\u001b[0m\u001b[49me\u001b[0m\u001b[0m\u001b[49m:\u001b[0m\u001b[0m\u001b[49m \u001b[0m\u001b[0m\u001b[49ma\u001b[0m\u001b[0m\u001b[49mp\u001b[0m\u001b[0m\u001b[49mp\u001b[0m\u001b[0m\u001b[49ml\u001b[0m\u001b[0m\u001b[49mi\u001b[0m\u001b[0m\u001b[49mc\u001b[0m\u001b[0m\u001b[49ma\u001b[0m\u001b[0m\u001b[49mt\u001b[0m\u001b[0m\u001b[49mi\u001b[0m\u001b[0m\u001b[49mo\u001b[0m\u001b[0m\u001b[49mn\u001b[0m\u001b[0m\u001b[49m/\u001b[0m\u001b[0m\u001b[49mx\u001b[0m\u001b[0m\u001b[49m-\u001b[0m\u001b[0m\u001b[49mw\u001b[0m\u001b[0m\u001b[49mw\u001b[0m\u001b[0m\u001b[49mw\u001b[0m\u001b[0m\u001b[49m-\u001b[0m\u001b[0m\u001b[49mf\u001b[0m\u001b[0m\u001b[49mo\u001b[0m\u001b[0m\u001b[49mr\u001b[0m\u001b[0m\u001b[49mm\u001b[0m\u001b[0m\u001b[49m-\u001b[0m\u001b[0m\u001b[49mu\u001b[0m\u001b[0m\u001b[49mr\u001b[0m\u001b[0m\u001b[49ml\u001b[0m\u001b[0m\u001b[49me\u001b[0m\u001b[0m\u001b[49mn\u001b[0m\u001b[0m\u001b[49mc\u001b[0m\u001b[0m\u001b[49mo\u001b[0m\u001b[0m\u001b[49md\u001b[0m\u001b[0m\u001b[49me\u001b[0m\u001b[0m\u001b[49md\u001b[0m\u001b[0m\u001b[49m;\u001b[0m\u001b[0m\u001b[49m \u001b[0m\u001b[0m\u001b[49mc\u001b[0m\u001b[0m\u001b[49mh\u001b[0m\u001b[0m\u001b[49ma\u001b[0m\u001b[0m\u001b[49mr\u001b[0m\u001b[0m\u001b[49ms\u001b[0m\u001b[0m\u001b[49me\u001b[0m\u001b[0m\u001b[49mt\u001b[0m\u001b[0m\u001b[49m=\u001b[0m\u001b[0m\u001b[49mU\u001b[0m\u001b[0m\u001b[49mT\u001b[0m\u001b[0m\u001b[49mF\u001b[0m\u001b[0m\u001b[49m-\u001b[0m\u001b[0m\u001b[49m8\u001b[0m\u001b[0m\u001b[49m\n",
      "\u001b[0m\u001b[0m\u001b[41mD\u001b[0m\u001b[0m\u001b[41mN\u001b[0m\u001b[0m\u001b[41mT\u001b[0m\u001b[0m\u001b[41m:\u001b[0m\u001b[0m\u001b[49m \u001b[0m\u001b[0m\u001b[41m1\u001b[0m\u001b[0m\u001b[41m\n",
      "\u001b[0m\u001b[0m\u001b[41mR\u001b[0m\u001b[0m\u001b[41me\u001b[0m\u001b[0m\u001b[41mf\u001b[0m\u001b[0m\u001b[49me\u001b[0m\u001b[0m\u001b[49mr\u001b[0m\u001b[0m\u001b[41me\u001b[0m\u001b[0m\u001b[41mr\u001b[0m\u001b[0m\u001b[49m:\u001b[0m\u001b[0m\u001b[49m \u001b[0m\u001b[0m\u001b[49mh\u001b[0m\u001b[0m\u001b[49mt\u001b[0m\u001b[0m\u001b[49mt\u001b[0m\u001b[0m\u001b[49mp\u001b[0m\u001b[0m\u001b[49m:\u001b[0m\u001b[0m\u001b[49m/\u001b[0m\u001b[0m\u001b[49m/\u001b[0m\u001b[0m\u001b[49m1\u001b[0m\u001b[0m\u001b[49m0\u001b[0m\u001b[0m\u001b[49m.\u001b[0m\u001b[0m\u001b[49m0\u001b[0m\u001b[0m\u001b[49m.\u001b[0m\u001b[0m\u001b[49m2\u001b[0m\u001b[0m\u001b[49m1\u001b[0m\u001b[0m\u001b[49m2\u001b[0m\u001b[0m\u001b[49m.\u001b[0m\u001b[0m\u001b[49m2\u001b[0m\u001b[0m\u001b[49m5\u001b[0m\u001b[0m\u001b[49m/\u001b[0m\u001b[0m\u001b[49mv\u001b[0m\u001b[0m\u001b[49mu\u001b[0m\u001b[0m\u001b[49ml\u001b[0m\u001b[0m\u001b[49mn\u001b[0m\u001b[0m\u001b[49mb\u001b[0m\u001b[0m\u001b[49ma\u001b[0m\u001b[0m\u001b[49mn\u001b[0m\u001b[0m\u001b[49mk\u001b[0m\u001b[0m\u001b[49m/\u001b[0m\u001b[0m\u001b[49mo\u001b[0m\u001b[0m\u001b[49mn\u001b[0m\u001b[0m\u001b[49ml\u001b[0m\u001b[0m\u001b[49mi\u001b[0m\u001b[0m\u001b[49mn\u001b[0m\u001b[0m\u001b[49me\u001b[0m\u001b[0m\u001b[49m/\u001b[0m\u001b[0m\u001b[41mu\u001b[0m\u001b[0m\u001b[49ms\u001b[0m\u001b[0m\u001b[49me\u001b[0m\u001b[0m\u001b[49mr\u001b[0m\u001b[0m\u001b[49mi\u001b[0m\u001b[0m\u001b[49mn\u001b[0m\u001b[0m\u001b[49mf\u001b[0m\u001b[0m\u001b[49mo\u001b[0m\u001b[0m\u001b[49m.\u001b[0m\u001b[0m\u001b[49mp\u001b[0m\u001b[0m\u001b[49mh\u001b[0m\u001b[0m\u001b[49mp\u001b[0m\u001b[0m\u001b[49m\n",
      "\u001b[0m\u001b[0m\u001b[49mA\u001b[0m\u001b[0m\u001b[49mc\u001b[0m\u001b[0m\u001b[49mc\u001b[0m\u001b[0m\u001b[49me\u001b[0m\u001b[0m\u001b[49mp\u001b[0m\u001b[0m\u001b[49mt\u001b[0m\u001b[0m\u001b[49m-\u001b[0m\u001b[0m\u001b[49mE\u001b[0m\u001b[0m\u001b[49mn\u001b[0m\u001b[0m\u001b[49mc\u001b[0m\u001b[0m\u001b[49mo\u001b[0m\u001b[0m\u001b[49md\u001b[0m\u001b[0m\u001b[49mi\u001b[0m\u001b[0m\u001b[49mn\u001b[0m\u001b[0m\u001b[49mg\u001b[0m\u001b[0m\u001b[49m:\u001b[0m\u001b[0m\u001b[49m \u001b[0m\u001b[0m\u001b[49mg\u001b[0m\u001b[0m\u001b[49mz\u001b[0m\u001b[0m\u001b[49mi\u001b[0m\u001b[0m\u001b[49mp\u001b[0m\u001b[0m\u001b[49m,\u001b[0m\u001b[0m\u001b[49m \u001b[0m\u001b[0m\u001b[49md\u001b[0m\u001b[0m\u001b[49me\u001b[0m\u001b[0m\u001b[49mf\u001b[0m\u001b[0m\u001b[49ml\u001b[0m\u001b[0m\u001b[49ma\u001b[0m\u001b[0m\u001b[49mt\u001b[0m\u001b[0m\u001b[49me\u001b[0m\u001b[0m\u001b[49m\n",
      "\u001b[0m\u001b[0m\u001b[49mA\u001b[0m\u001b[0m\u001b[49mc\u001b[0m\u001b[0m\u001b[49mc\u001b[0m\u001b[0m\u001b[49me\u001b[0m\u001b[0m\u001b[49mp\u001b[0m\u001b[0m\u001b[49mt\u001b[0m\u001b[0m\u001b[49m-\u001b[0m\u001b[0m\u001b[49mL\u001b[0m\u001b[0m\u001b[49ma\u001b[0m\u001b[0m\u001b[49mn\u001b[0m\u001b[0m\u001b[49mg\u001b[0m\u001b[0m\u001b[49mu\u001b[0m\u001b[0m\u001b[49ma\u001b[0m\u001b[0m\u001b[49mg\u001b[0m\u001b[0m\u001b[49me\u001b[0m\u001b[0m\u001b[49m:\u001b[0m\u001b[0m\u001b[49m \u001b[0m\u001b[0m\u001b[49me\u001b[0m\u001b[0m\u001b[49mn\u001b[0m\u001b[0m\u001b[49m-\u001b[0m\u001b[0m\u001b[49mU\u001b[0m\u001b[0m\u001b[49mS\u001b[0m\u001b[0m\u001b[49m,\u001b[0m\u001b[0m\u001b[49me\u001b[0m\u001b[0m\u001b[49mn\u001b[0m\u001b[0m\u001b[49m;\u001b[0m\u001b[0m\u001b[49mq\u001b[0m\u001b[0m\u001b[49m=\u001b[0m\u001b[0m\u001b[49m0\u001b[0m\u001b[0m\u001b[49m.\u001b[0m\u001b[0m\u001b[49m9\u001b[0m\u001b[0m\u001b[41m,\u001b[0m\u001b[0m\u001b[41mr\u001b[0m\u001b[0m\u001b[49mu\u001b[0m\u001b[0m\u001b[49m;\u001b[0m\u001b[0m\u001b[49mq\u001b[0m\u001b[0m\u001b[49m=\u001b[0m\u001b[0m\u001b[49m0\u001b[0m\u001b[0m\u001b[49m.\u001b[0m\u001b[0m\u001b[49m8\u001b[0m\u001b[0m\u001b[41m\n",
      "\u001b[0m\u001b[0m\u001b[41mC\u001b[0m\u001b[0m\u001b[49mo\u001b[0m\u001b[0m\u001b[41mo\u001b[0m\u001b[0m\u001b[41mk\u001b[0m\u001b[0m\u001b[49mi\u001b[0m\u001b[0m\u001b[49me\u001b[0m\u001b[0m\u001b[49m:\u001b[0m\u001b[0m\u001b[49m \u001b[0m\u001b[0m\u001b[49mP\u001b[0m\u001b[0m\u001b[49mH\u001b[0m\u001b[0m\u001b[49mP\u001b[0m\u001b[0m\u001b[49mS\u001b[0m\u001b[0m\u001b[49mE\u001b[0m\u001b[0m\u001b[49mS\u001b[0m\u001b[0m\u001b[49mS\u001b[0m\u001b[0m\u001b[49mI\u001b[0m\u001b[0m\u001b[49mD\u001b[0m\u001b[0m\u001b[49m=\u001b[0m\u001b[0m\u001b[41m7\u001b[0m\u001b[0m\u001b[41mb\u001b[0m\u001b[0m\u001b[41mg\u001b[0m\u001b[0m\u001b[41mg\u001b[0m\u001b[0m\u001b[41m5\u001b[0m\u001b[0m\u001b[41mt\u001b[0m\u001b[0m\u001b[41ma\u001b[0m\u001b[0m\u001b[41ml\u001b[0m\u001b[0m\u001b[41md\u001b[0m\u001b[0m\u001b[41m4\u001b[0m\u001b[0m\u001b[41ma\u001b[0m\u001b[0m\u001b[41me\u001b[0m\u001b[0m\u001b[41ma\u001b[0m\u001b[0m\u001b[41m8\u001b[0m\u001b[0m\u001b[41m0\u001b[0m\u001b[0m\u001b[41m7\u001b[0m\u001b[0m\u001b[41m9\u001b[0m\u001b[0m\u001b[41m0\u001b[0m\u001b[0m\u001b[41mi\u001b[0m\u001b[0m\u001b[41mt\u001b[0m\u001b[0m\u001b[49m7\u001b[0m\u001b[0m\u001b[41ms\u001b[0m\u001b[0m\u001b[41m1\u001b[0m\u001b[0m\u001b[41mc\u001b[0m\u001b[0m\u001b[41mc\u001b[0m\u001b[0m\u001b[41m1\u001b[0m\u001b[0m\u001b[49m\n",
      "\u001b[0m\u001b[0m\u001b[41m\n",
      "\u001b[0m\u001b[0m\u001b[49mt\u001b[0m\u001b[0m\u001b[49my\u001b[0m\u001b[0m\u001b[49mp\u001b[0m\u001b[0m\u001b[49me\u001b[0m\u001b[0m\u001b[49m=\u001b[0m\u001b[0m\u001b[41mu\u001b[0m\u001b[0m\u001b[49ms\u001b[0m\u001b[0m\u001b[49me\u001b[0m\u001b[0m\u001b[49mr\u001b[0m\u001b[0m\u001b[49m&\u001b[0m\u001b[0m\u001b[49ma\u001b[0m\u001b[0m\u001b[49mc\u001b[0m\u001b[0m\u001b[49mt\u001b[0m\u001b[0m\u001b[49mi\u001b[0m\u001b[0m\u001b[49mo\u001b[0m\u001b[0m\u001b[49mn\u001b[0m\u001b[0m\u001b[49m=\u001b[0m\u001b[0m\u001b[41mi\u001b[0m\u001b[0m\u001b[41mn\u001b[0m\u001b[0m\u001b[41mf\u001b[0m\u001b[0m\u001b[49mo\u001b[0m\u001b[0m\u001b[41mu\u001b[0m\u001b[0m\u001b[41mp\u001b[0m\u001b[0m\u001b[41md\u001b[0m\u001b[0m\u001b[41ma\u001b[0m\u001b[0m\u001b[41mt\u001b[0m\u001b[0m\u001b[41me\u001b[0m\u001b[0m\u001b[41m&\u001b[0m\u001b[0m\u001b[41mf\u001b[0m\u001b[0m\u001b[49mi\u001b[0m\u001b[0m\u001b[49mr\u001b[0m\u001b[0m\u001b[41ms\u001b[0m\u001b[0m\u001b[41mt\u001b[0m\u001b[0m\u001b[41mn\u001b[0m\u001b[0m\u001b[41ma\u001b[0m\u001b[0m\u001b[49mm\u001b[0m\u001b[0m\u001b[49me\u001b[0m\u001b[0m\u001b[41m=\u001b[0m\u001b[0m\u001b[41mJ\u001b[0m\u001b[0m\u001b[41mo\u001b[0m\u001b[0m\u001b[41mh\u001b[0m\u001b[0m\u001b[41mn\u001b[0m\u001b[0m\u001b[49m&\u001b[0m\u001b[0m\u001b[49ml\u001b[0m\u001b[0m\u001b[49ma\u001b[0m\u001b[0m\u001b[49ms\u001b[0m\u001b[0m\u001b[49mt\u001b[0m\u001b[0m\u001b[49mn\u001b[0m\u001b[0m\u001b[49ma\u001b[0m\u001b[0m\u001b[49mm\u001b[0m\u001b[0m\u001b[49me\u001b[0m\u001b[0m\u001b[49m=\u001b[0m\u001b[0m\u001b[41mD\u001b[0m\u001b[0m\u001b[41mo\u001b[0m\u001b[0m\u001b[41me\u001b[0m\u001b[0m\u001b[41m&\u001b[0m\u001b[0m\u001b[41mp\u001b[0m\u001b[0m\u001b[41mh\u001b[0m\u001b[0m\u001b[41mo\u001b[0m\u001b[0m\u001b[49mn\u001b[0m\u001b[0m\u001b[41me\u001b[0m\u001b[0m\u001b[41m=\u001b[0m\u001b[0m\u001b[41m7\u001b[0m\u001b[0m\u001b[41m9\u001b[0m\u001b[0m\u001b[41m0\u001b[0m\u001b[0m\u001b[41m3\u001b[0m\u001b[0m\u001b[41m5\u001b[0m\u001b[0m\u001b[41m2\u001b[0m\u001b[0m\u001b[41m2\u001b[0m\u001b[0m\u001b[41m2\u001b[0m\u001b[0m\u001b[41m2\u001b[0m\u001b[0m\u001b[41m1\u001b[0m\u001b[0m\u001b[41m2\u001b[0m\u001b[0m\u001b[41m&\u001b[0m\u001b[0m\u001b[41me\u001b[0m\u001b[0m\u001b[41mm\u001b[0m\u001b[0m\u001b[41ma\u001b[0m\u001b[0m\u001b[41mi\u001b[0m\u001b[0m\u001b[41ml\u001b[0m\u001b[0m\u001b[41m=\u001b[0m\u001b[0m\u001b[41mj\u001b[0m\u001b[0m\u001b[41m.\u001b[0m\u001b[0m\u001b[41md\u001b[0m\u001b[0m\u001b[41mo\u001b[0m\u001b[0m\u001b[41me\u001b[0m\u001b[0m\u001b[41m%\u001b[0m\u001b[0m\u001b[41m4\u001b[0m\u001b[0m\u001b[41m0\u001b[0m\u001b[0m\u001b[41mv\u001b[0m\u001b[0m\u001b[41mu\u001b[0m\u001b[0m\u001b[49ml\u001b[0m\u001b[0m\u001b[41mn\u001b[0m\u001b[0m\u001b[41mb\u001b[0m\u001b[0m\u001b[41ma\u001b[0m\u001b[0m\u001b[41mn\u001b[0m\u001b[0m\u001b[41mk\u001b[0m\u001b[0m\u001b[41m.\u001b[0m\u001b[0m\u001b[41md\u001b[0m\u001b[0m\u001b[41me\u001b[0m\u001b[0m\u001b[41m&\u001b[0m\u001b[0m\u001b[41mb\u001b[0m\u001b[0m\u001b[41mi\u001b[0m\u001b[0m\u001b[41mr\u001b[0m\u001b[0m\u001b[49mt\u001b[0m\u001b[0m\u001b[49mh\u001b[0m\u001b[0m\u001b[41md\u001b[0m\u001b[0m\u001b[49ma\u001b[0m\u001b[0m\u001b[41mt\u001b[0m\u001b[0m\u001b[49me\u001b[0m\u001b[0m\u001b[49m=\u001b[0m\u001b[0m\u001b[41m1\u001b[0m\u001b[0m\u001b[41m9\u001b[0m\u001b[0m\u001b[41m8\u001b[0m\u001b[0m\u001b[41m4\u001b[0m\u001b[0m\u001b[41m-\u001b[0m\u001b[0m\u001b[41m0\u001b[0m\u001b[0m\u001b[41m4\u001b[0m\u001b[0m\u001b[41m-\u001b[0m\u001b[0m\u001b[41m0\u001b[0m\u001b[0m\u001b[41m4\u001b[0m\u001b[0m\u001b[41m&\u001b[0m\u001b[0m\u001b[41ma\u001b[0m\u001b[0m\u001b[41mb\u001b[0m\u001b[0m\u001b[41mo\u001b[0m\u001b[0m\u001b[41mu\u001b[0m\u001b[0m\u001b[41mt\u001b[0m\u001b[0m\u001b[49m=\u001b[0m\u001b[0m\u001b[41mH\u001b[0m\u001b[0m\u001b[41mi\u001b[0m\u001b[0m\u001b[41m!\u001b[0m\u001b[0m\u001b[41m8\u001b[0m\u001b[0m\u001b[41m0\u001b[0m\u001b[0m\u001b[41m4\u001b[0m\u001b[0m\u001b[41m6\u001b[0m\u001b[0m\u001b[41m7\u001b[0m\u001b[0m\u001b[41m9\u001b[0m\u001b[0m\u001b[41m3\u001b[0m\u001b[0m\u001b[41m3\u001b[0m\u001b[0m\u001b[41m'\u001b[0m\u001b[0m\u001b[41m%\u001b[0m\u001b[0m\u001b[41m2\u001b[0m\u001b[0m\u001b[41m0\u001b[0m\u001b[0m\u001b[41mo\u001b[0m\u001b[0m\u001b[41mr\u001b[0m\u001b[0m\u001b[41m%\u001b[0m\u001b[0m\u001b[41m2\u001b[0m\u001b[0m\u001b[41m0\u001b[0m\u001b[0m\u001b[41m1\u001b[0m\u001b[0m\u001b[41m2\u001b[0m\u001b[0m\u001b[41m2\u001b[0m\u001b[0m\u001b[41m9\u001b[0m\u001b[0m\u001b[41m%\u001b[0m\u001b[0m\u001b[41m3\u001b[0m\u001b[0m\u001b[41md\u001b[0m\u001b[0m\u001b[41m1\u001b[0m\u001b[0m\u001b[41m2\u001b[0m\u001b[0m\u001b[41m2\u001b[0m\u001b[0m\u001b[41m9\u001b[0m\u001b[0m\u001b[41m-\u001b[0m\u001b[0m\u001b[41m-\u001b[0m\u001b[0m\u001b[41m%\u001b[0m\u001b[0m\u001b[41m2\u001b[0m\u001b[0m\u001b[41m0\u001b[0m\u001b[0m\n",
      "\n",
      "\u001b[0m\n",
      "\u001b[0m==== TP Anomal sample 667. Error: 0.3593235936369066 ====\n",
      "\u001b[0m\n",
      "\u001b[0m\u001b[41mP\u001b[0m\u001b[0m\u001b[41mO\u001b[0m\u001b[0m\u001b[49mS\u001b[0m\u001b[0m\u001b[41mT\u001b[0m\u001b[0m\u001b[49m \u001b[0m\u001b[0m\u001b[49m/\u001b[0m\u001b[0m\u001b[49mv\u001b[0m\u001b[0m\u001b[49mu\u001b[0m\u001b[0m\u001b[49ml\u001b[0m\u001b[0m\u001b[49mn\u001b[0m\u001b[0m\u001b[49mb\u001b[0m\u001b[0m\u001b[49ma\u001b[0m\u001b[0m\u001b[49mn\u001b[0m\u001b[0m\u001b[49mk\u001b[0m\u001b[0m\u001b[49m/\u001b[0m\u001b[0m\u001b[49mo\u001b[0m\u001b[0m\u001b[49mn\u001b[0m\u001b[0m\u001b[49ml\u001b[0m\u001b[0m\u001b[49mi\u001b[0m\u001b[0m\u001b[49mn\u001b[0m\u001b[0m\u001b[49me\u001b[0m\u001b[0m\u001b[49m/\u001b[0m\u001b[0m\u001b[49ma\u001b[0m\u001b[0m\u001b[49mp\u001b[0m\u001b[0m\u001b[49mi\u001b[0m\u001b[0m\u001b[49m.\u001b[0m\u001b[0m\u001b[49mp\u001b[0m\u001b[0m\u001b[49mh\u001b[0m\u001b[0m\u001b[49mp\u001b[0m\u001b[0m\u001b[49m \u001b[0m\u001b[0m\u001b[49mH\u001b[0m\u001b[0m\u001b[49mT\u001b[0m\u001b[0m\u001b[49mT\u001b[0m\u001b[0m\u001b[49mP\u001b[0m\u001b[0m\u001b[49m/\u001b[0m\u001b[0m\u001b[49m1\u001b[0m\u001b[0m\u001b[49m.\u001b[0m\u001b[0m\u001b[49m1\u001b[0m\u001b[0m\u001b[49m\n",
      "\u001b[0m\u001b[0m\u001b[49mH\u001b[0m\u001b[0m\u001b[49mo\u001b[0m\u001b[0m\u001b[49ms\u001b[0m\u001b[0m\u001b[49mt\u001b[0m\u001b[0m\u001b[49m:\u001b[0m\u001b[0m\u001b[49m \u001b[0m\u001b[0m\u001b[49m1\u001b[0m\u001b[0m\u001b[49m0\u001b[0m\u001b[0m\u001b[49m.\u001b[0m\u001b[0m\u001b[49m0\u001b[0m\u001b[0m\u001b[49m.\u001b[0m\u001b[0m\u001b[49m2\u001b[0m\u001b[0m\u001b[49m1\u001b[0m\u001b[0m\u001b[49m2\u001b[0m\u001b[0m\u001b[49m.\u001b[0m\u001b[0m\u001b[49m2\u001b[0m\u001b[0m\u001b[49m5\u001b[0m\u001b[0m\u001b[49m\n",
      "\u001b[0m\u001b[0m\u001b[49mC\u001b[0m\u001b[0m\u001b[49mo\u001b[0m\u001b[0m\u001b[49mn\u001b[0m\u001b[0m\u001b[49mn\u001b[0m\u001b[0m\u001b[49me\u001b[0m\u001b[0m\u001b[49mc\u001b[0m\u001b[0m\u001b[49mt\u001b[0m\u001b[0m\u001b[49mi\u001b[0m\u001b[0m\u001b[49mo\u001b[0m\u001b[0m\u001b[49mn\u001b[0m\u001b[0m\u001b[49m:\u001b[0m\u001b[0m\u001b[49m \u001b[0m\u001b[0m\u001b[41mk\u001b[0m\u001b[0m\u001b[49me\u001b[0m\u001b[0m\u001b[49me\u001b[0m\u001b[0m\u001b[49mp\u001b[0m\u001b[0m\u001b[49m-\u001b[0m\u001b[0m\u001b[49ma\u001b[0m\u001b[0m\u001b[49ml\u001b[0m\u001b[0m\u001b[49mi\u001b[0m\u001b[0m\u001b[49mv\u001b[0m\u001b[0m\u001b[49me\u001b[0m\u001b[0m\u001b[49m\n",
      "\u001b[0m\u001b[0m\u001b[49mC\u001b[0m\u001b[0m\u001b[49mo\u001b[0m\u001b[0m\u001b[49mn\u001b[0m\u001b[0m\u001b[49mt\u001b[0m\u001b[0m\u001b[49me\u001b[0m\u001b[0m\u001b[49mn\u001b[0m\u001b[0m\u001b[49mt\u001b[0m\u001b[0m\u001b[49m-\u001b[0m\u001b[0m\u001b[49mL\u001b[0m\u001b[0m\u001b[49me\u001b[0m\u001b[0m\u001b[49mn\u001b[0m\u001b[0m\u001b[49mg\u001b[0m\u001b[0m\u001b[49mt\u001b[0m\u001b[0m\u001b[49mh\u001b[0m\u001b[0m\u001b[49m:\u001b[0m\u001b[0m\u001b[49m \u001b[0m\u001b[0m\u001b[41m2\u001b[0m\u001b[0m\u001b[41m9\u001b[0m\u001b[0m\u001b[41m9\u001b[0m\u001b[0m\u001b[49m\n",
      "\u001b[0m\u001b[0m\u001b[49mA\u001b[0m\u001b[0m\u001b[49mc\u001b[0m\u001b[0m\u001b[49mc\u001b[0m\u001b[0m\u001b[49me\u001b[0m\u001b[0m\u001b[49mp\u001b[0m\u001b[0m\u001b[49mt\u001b[0m\u001b[0m\u001b[49m:\u001b[0m\u001b[0m\u001b[49m \u001b[0m\u001b[0m\u001b[49ma\u001b[0m\u001b[0m\u001b[49mp\u001b[0m\u001b[0m\u001b[49mp\u001b[0m\u001b[0m\u001b[49ml\u001b[0m\u001b[0m\u001b[49mi\u001b[0m\u001b[0m\u001b[49mc\u001b[0m\u001b[0m\u001b[49ma\u001b[0m\u001b[0m\u001b[49mt\u001b[0m\u001b[0m\u001b[49mi\u001b[0m\u001b[0m\u001b[49mo\u001b[0m\u001b[0m\u001b[49mn\u001b[0m\u001b[0m\u001b[49m/\u001b[0m\u001b[0m\u001b[49mj\u001b[0m\u001b[0m\u001b[49ms\u001b[0m\u001b[0m\u001b[49mo\u001b[0m\u001b[0m\u001b[49mn\u001b[0m\u001b[0m\u001b[49m,\u001b[0m\u001b[0m\u001b[49m \u001b[0m\u001b[0m\u001b[49mt\u001b[0m\u001b[0m\u001b[49me\u001b[0m\u001b[0m\u001b[49mx\u001b[0m\u001b[0m\u001b[49mt\u001b[0m\u001b[0m\u001b[49m/\u001b[0m\u001b[0m\u001b[49mj\u001b[0m\u001b[0m\u001b[49ma\u001b[0m\u001b[0m\u001b[49mv\u001b[0m\u001b[0m\u001b[49ma\u001b[0m\u001b[0m\u001b[49ms\u001b[0m\u001b[0m\u001b[49mc\u001b[0m\u001b[0m\u001b[49mr\u001b[0m\u001b[0m\u001b[49mi\u001b[0m\u001b[0m\u001b[49mp\u001b[0m\u001b[0m\u001b[49mt\u001b[0m\u001b[0m\u001b[49m,\u001b[0m\u001b[0m\u001b[49m \u001b[0m\u001b[0m\u001b[49m*\u001b[0m\u001b[0m\u001b[49m/\u001b[0m\u001b[0m\u001b[49m*\u001b[0m\u001b[0m\u001b[49m;\u001b[0m\u001b[0m\u001b[49m \u001b[0m\u001b[0m\u001b[49mq\u001b[0m\u001b[0m\u001b[49m=\u001b[0m\u001b[0m\u001b[49m0\u001b[0m\u001b[0m\u001b[49m.\u001b[0m\u001b[0m\u001b[49m0\u001b[0m\u001b[0m\u001b[49m1\u001b[0m\u001b[0m\u001b[49m\n",
      "\u001b[0m\u001b[0m\u001b[49mO\u001b[0m\u001b[0m\u001b[49mr\u001b[0m\u001b[0m\u001b[49mi\u001b[0m\u001b[0m\u001b[49mg\u001b[0m\u001b[0m\u001b[49mi\u001b[0m\u001b[0m\u001b[49mn\u001b[0m\u001b[0m\u001b[49m:\u001b[0m\u001b[0m\u001b[49m \u001b[0m\u001b[0m\u001b[49mh\u001b[0m\u001b[0m\u001b[49mt\u001b[0m\u001b[0m\u001b[49mt\u001b[0m\u001b[0m\u001b[49mp\u001b[0m\u001b[0m\u001b[49m:\u001b[0m\u001b[0m\u001b[49m/\u001b[0m\u001b[0m\u001b[49m/\u001b[0m\u001b[0m\u001b[49m1\u001b[0m\u001b[0m\u001b[49m0\u001b[0m\u001b[0m\u001b[49m.\u001b[0m\u001b[0m\u001b[49m0\u001b[0m\u001b[0m\u001b[49m.\u001b[0m\u001b[0m\u001b[49m2\u001b[0m\u001b[0m\u001b[49m1\u001b[0m\u001b[0m\u001b[49m2\u001b[0m\u001b[0m\u001b[49m.\u001b[0m\u001b[0m\u001b[49m2\u001b[0m\u001b[0m\u001b[49m5\u001b[0m\u001b[0m\u001b[49m\n",
      "\u001b[0m\u001b[0m\u001b[49mX\u001b[0m\u001b[0m\u001b[49m-\u001b[0m\u001b[0m\u001b[49mR\u001b[0m\u001b[0m\u001b[49me\u001b[0m\u001b[0m\u001b[49mq\u001b[0m\u001b[0m\u001b[49mu\u001b[0m\u001b[0m\u001b[49me\u001b[0m\u001b[0m\u001b[49ms\u001b[0m\u001b[0m\u001b[49mt\u001b[0m\u001b[0m\u001b[49me\u001b[0m\u001b[0m\u001b[49md\u001b[0m\u001b[0m\u001b[49m-\u001b[0m\u001b[0m\u001b[49mW\u001b[0m\u001b[0m\u001b[49mi\u001b[0m\u001b[0m\u001b[49mt\u001b[0m\u001b[0m\u001b[49mh\u001b[0m\u001b[0m\u001b[49m:\u001b[0m\u001b[0m\u001b[49m \u001b[0m\u001b[0m\u001b[49mX\u001b[0m\u001b[0m\u001b[49mM\u001b[0m\u001b[0m\u001b[49mL\u001b[0m\u001b[0m\u001b[49mH\u001b[0m\u001b[0m\u001b[49mt\u001b[0m\u001b[0m\u001b[49mt\u001b[0m\u001b[0m\u001b[49mp\u001b[0m\u001b[0m\u001b[49mR\u001b[0m\u001b[0m\u001b[49me\u001b[0m\u001b[0m\u001b[49mq\u001b[0m\u001b[0m\u001b[49mu\u001b[0m\u001b[0m\u001b[49me\u001b[0m\u001b[0m\u001b[49ms\u001b[0m\u001b[0m\u001b[49mt\u001b[0m\u001b[0m\u001b[49m\n",
      "\u001b[0m\u001b[0m\u001b[49mU\u001b[0m\u001b[0m\u001b[49ms\u001b[0m\u001b[0m\u001b[49me\u001b[0m\u001b[0m\u001b[49mr\u001b[0m\u001b[0m\u001b[49m-\u001b[0m\u001b[0m\u001b[49mA\u001b[0m\u001b[0m\u001b[49mg\u001b[0m\u001b[0m\u001b[49me\u001b[0m\u001b[0m\u001b[49mn\u001b[0m\u001b[0m\u001b[49mt\u001b[0m\u001b[0m\u001b[49m:\u001b[0m\u001b[0m\u001b[49m \u001b[0m\u001b[0m\u001b[49mM\u001b[0m\u001b[0m\u001b[49mo\u001b[0m\u001b[0m\u001b[49mz\u001b[0m\u001b[0m\u001b[49mi\u001b[0m\u001b[0m\u001b[49ml\u001b[0m\u001b[0m\u001b[49ml\u001b[0m\u001b[0m\u001b[49ma\u001b[0m\u001b[0m\u001b[49m/\u001b[0m\u001b[0m\u001b[49m5\u001b[0m\u001b[0m\u001b[49m.\u001b[0m\u001b[0m\u001b[49m0\u001b[0m\u001b[0m\u001b[49m \u001b[0m\u001b[0m\u001b[49m(\u001b[0m\u001b[0m\u001b[41mX\u001b[0m\u001b[0m\u001b[49m1\u001b[0m\u001b[0m\u001b[49m1\u001b[0m\u001b[0m\u001b[49m;\u001b[0m\u001b[0m\u001b[49m \u001b[0m\u001b[0m\u001b[41mL\u001b[0m\u001b[0m\u001b[49mi\u001b[0m\u001b[0m\u001b[49mn\u001b[0m\u001b[0m\u001b[49mu\u001b[0m\u001b[0m\u001b[49mx\u001b[0m\u001b[0m\u001b[49m \u001b[0m\u001b[0m\u001b[49mx\u001b[0m\u001b[0m\u001b[49m8\u001b[0m\u001b[0m\u001b[49m6\u001b[0m\u001b[0m\u001b[49m_\u001b[0m\u001b[0m\u001b[49m6\u001b[0m\u001b[0m\u001b[49m4\u001b[0m\u001b[0m\u001b[49m)\u001b[0m\u001b[0m\u001b[49m \u001b[0m\u001b[0m\u001b[49mA\u001b[0m\u001b[0m\u001b[49mp\u001b[0m\u001b[0m\u001b[49mp\u001b[0m\u001b[0m\u001b[49ml\u001b[0m\u001b[0m\u001b[49me\u001b[0m\u001b[0m\u001b[49mW\u001b[0m\u001b[0m\u001b[49me\u001b[0m\u001b[0m\u001b[49mb\u001b[0m\u001b[0m\u001b[49mK\u001b[0m\u001b[0m\u001b[49mi\u001b[0m\u001b[0m\u001b[49mt\u001b[0m\u001b[0m\u001b[49m/\u001b[0m\u001b[0m\u001b[49m5\u001b[0m\u001b[0m\u001b[49m3\u001b[0m\u001b[0m\u001b[49m7\u001b[0m\u001b[0m\u001b[49m.\u001b[0m\u001b[0m\u001b[49m3\u001b[0m\u001b[0m\u001b[49m6\u001b[0m\u001b[0m\u001b[49m \u001b[0m\u001b[0m\u001b[49m(\u001b[0m\u001b[0m\u001b[49mK\u001b[0m\u001b[0m\u001b[49mH\u001b[0m\u001b[0m\u001b[49mT\u001b[0m\u001b[0m\u001b[49mM\u001b[0m\u001b[0m\u001b[49mL\u001b[0m\u001b[0m\u001b[49m,\u001b[0m\u001b[0m\u001b[49m \u001b[0m\u001b[0m\u001b[49ml\u001b[0m\u001b[0m\u001b[49mi\u001b[0m\u001b[0m\u001b[49mk\u001b[0m\u001b[0m\u001b[49me\u001b[0m\u001b[0m\u001b[49m \u001b[0m\u001b[0m\u001b[49mG\u001b[0m\u001b[0m\u001b[49me\u001b[0m\u001b[0m\u001b[49mc\u001b[0m\u001b[0m\u001b[49mk\u001b[0m\u001b[0m\u001b[49mo\u001b[0m\u001b[0m\u001b[49m)\u001b[0m\u001b[0m\u001b[49m \u001b[0m\u001b[0m\u001b[49mC\u001b[0m\u001b[0m\u001b[49mh\u001b[0m\u001b[0m\u001b[49mr\u001b[0m\u001b[0m\u001b[49mo\u001b[0m\u001b[0m\u001b[49mm\u001b[0m\u001b[0m\u001b[49me\u001b[0m\u001b[0m\u001b[49m/\u001b[0m\u001b[0m\u001b[49m6\u001b[0m\u001b[0m\u001b[41m6\u001b[0m\u001b[0m\u001b[41m.\u001b[0m\u001b[0m\u001b[49m0\u001b[0m\u001b[0m\u001b[49m.\u001b[0m\u001b[0m\u001b[49m3\u001b[0m\u001b[0m\u001b[41m3\u001b[0m\u001b[0m\u001b[41m5\u001b[0m\u001b[0m\u001b[41m9\u001b[0m\u001b[0m\u001b[49m.\u001b[0m\u001b[0m\u001b[49m1\u001b[0m\u001b[0m\u001b[41m3\u001b[0m\u001b[0m\u001b[41m9\u001b[0m\u001b[0m\u001b[49m \u001b[0m\u001b[0m\u001b[49mS\u001b[0m\u001b[0m\u001b[49ma\u001b[0m\u001b[0m\u001b[49mf\u001b[0m\u001b[0m\u001b[49ma\u001b[0m\u001b[0m\u001b[49mr\u001b[0m\u001b[0m\u001b[49mi\u001b[0m\u001b[0m\u001b[49m/\u001b[0m\u001b[0m\u001b[49m5\u001b[0m\u001b[0m\u001b[49m3\u001b[0m\u001b[0m\u001b[49m7\u001b[0m\u001b[0m\u001b[49m.\u001b[0m\u001b[0m\u001b[49m3\u001b[0m\u001b[0m\u001b[49m6\u001b[0m\u001b[0m\u001b[49m\n",
      "\u001b[0m\u001b[0m\u001b[49mC\u001b[0m\u001b[0m\u001b[49mo\u001b[0m\u001b[0m\u001b[49mn\u001b[0m\u001b[0m\u001b[49mt\u001b[0m\u001b[0m\u001b[49me\u001b[0m\u001b[0m\u001b[49mn\u001b[0m\u001b[0m\u001b[49mt\u001b[0m\u001b[0m\u001b[49m-\u001b[0m\u001b[0m\u001b[49mT\u001b[0m\u001b[0m\u001b[49my\u001b[0m\u001b[0m\u001b[49mp\u001b[0m\u001b[0m\u001b[49me\u001b[0m\u001b[0m\u001b[49m:\u001b[0m\u001b[0m\u001b[49m \u001b[0m\u001b[0m\u001b[49ma\u001b[0m\u001b[0m\u001b[49mp\u001b[0m\u001b[0m\u001b[49mp\u001b[0m\u001b[0m\u001b[49ml\u001b[0m\u001b[0m\u001b[49mi\u001b[0m\u001b[0m\u001b[49mc\u001b[0m\u001b[0m\u001b[49ma\u001b[0m\u001b[0m\u001b[49mt\u001b[0m\u001b[0m\u001b[49mi\u001b[0m\u001b[0m\u001b[49mo\u001b[0m\u001b[0m\u001b[49mn\u001b[0m\u001b[0m\u001b[49m/\u001b[0m\u001b[0m\u001b[49mx\u001b[0m\u001b[0m\u001b[49m-\u001b[0m\u001b[0m\u001b[49mw\u001b[0m\u001b[0m\u001b[49mw\u001b[0m\u001b[0m\u001b[49mw\u001b[0m\u001b[0m\u001b[49m-\u001b[0m\u001b[0m\u001b[49mf\u001b[0m\u001b[0m\u001b[49mo\u001b[0m\u001b[0m\u001b[49mr\u001b[0m\u001b[0m\u001b[49mm\u001b[0m\u001b[0m\u001b[49m-\u001b[0m\u001b[0m\u001b[49mu\u001b[0m\u001b[0m\u001b[49mr\u001b[0m\u001b[0m\u001b[49ml\u001b[0m\u001b[0m\u001b[49me\u001b[0m\u001b[0m\u001b[49mn\u001b[0m\u001b[0m\u001b[49mc\u001b[0m\u001b[0m\u001b[49mo\u001b[0m\u001b[0m\u001b[49md\u001b[0m\u001b[0m\u001b[49me\u001b[0m\u001b[0m\u001b[49md\u001b[0m\u001b[0m\u001b[49m;\u001b[0m\u001b[0m\u001b[49m \u001b[0m\u001b[0m\u001b[49mc\u001b[0m\u001b[0m\u001b[49mh\u001b[0m\u001b[0m\u001b[49ma\u001b[0m\u001b[0m\u001b[49mr\u001b[0m\u001b[0m\u001b[49ms\u001b[0m\u001b[0m\u001b[49me\u001b[0m\u001b[0m\u001b[49mt\u001b[0m\u001b[0m\u001b[49m=\u001b[0m\u001b[0m\u001b[49mU\u001b[0m\u001b[0m\u001b[49mT\u001b[0m\u001b[0m\u001b[49mF\u001b[0m\u001b[0m\u001b[49m-\u001b[0m\u001b[0m\u001b[49m8\u001b[0m\u001b[0m\u001b[49m\n",
      "\u001b[0m\u001b[0m\u001b[41mD\u001b[0m\u001b[0m\u001b[41mN\u001b[0m\u001b[0m\u001b[41mT\u001b[0m\u001b[0m\u001b[41m:\u001b[0m\u001b[0m\u001b[49m \u001b[0m\u001b[0m\u001b[41m1\u001b[0m\u001b[0m\u001b[41m\n",
      "\u001b[0m\u001b[0m\u001b[41mR\u001b[0m\u001b[0m\u001b[41me\u001b[0m\u001b[0m\u001b[41mf\u001b[0m\u001b[0m\u001b[49me\u001b[0m\u001b[0m\u001b[49mr\u001b[0m\u001b[0m\u001b[41me\u001b[0m\u001b[0m\u001b[41mr\u001b[0m\u001b[0m\u001b[49m:\u001b[0m\u001b[0m\u001b[49m \u001b[0m\u001b[0m\u001b[49mh\u001b[0m\u001b[0m\u001b[49mt\u001b[0m\u001b[0m\u001b[49mt\u001b[0m\u001b[0m\u001b[49mp\u001b[0m\u001b[0m\u001b[49m:\u001b[0m\u001b[0m\u001b[49m/\u001b[0m\u001b[0m\u001b[49m/\u001b[0m\u001b[0m\u001b[49m1\u001b[0m\u001b[0m\u001b[49m0\u001b[0m\u001b[0m\u001b[49m.\u001b[0m\u001b[0m\u001b[49m0\u001b[0m\u001b[0m\u001b[49m.\u001b[0m\u001b[0m\u001b[49m2\u001b[0m\u001b[0m\u001b[49m1\u001b[0m\u001b[0m\u001b[49m2\u001b[0m\u001b[0m\u001b[49m.\u001b[0m\u001b[0m\u001b[49m2\u001b[0m\u001b[0m\u001b[49m5\u001b[0m\u001b[0m\u001b[49m/\u001b[0m\u001b[0m\u001b[49mv\u001b[0m\u001b[0m\u001b[49mu\u001b[0m\u001b[0m\u001b[49ml\u001b[0m\u001b[0m\u001b[49mn\u001b[0m\u001b[0m\u001b[49mb\u001b[0m\u001b[0m\u001b[49ma\u001b[0m\u001b[0m\u001b[49mn\u001b[0m\u001b[0m\u001b[49mk\u001b[0m\u001b[0m\u001b[49m/\u001b[0m\u001b[0m\u001b[49mo\u001b[0m\u001b[0m\u001b[49mn\u001b[0m\u001b[0m\u001b[49ml\u001b[0m\u001b[0m\u001b[49mi\u001b[0m\u001b[0m\u001b[49mn\u001b[0m\u001b[0m\u001b[49me\u001b[0m\u001b[0m\u001b[49m/\u001b[0m\u001b[0m\u001b[41mu\u001b[0m\u001b[0m\u001b[49ms\u001b[0m\u001b[0m\u001b[49me\u001b[0m\u001b[0m\u001b[49mr\u001b[0m\u001b[0m\u001b[49mi\u001b[0m\u001b[0m\u001b[49mn\u001b[0m\u001b[0m\u001b[49mf\u001b[0m\u001b[0m\u001b[49mo\u001b[0m\u001b[0m\u001b[49m.\u001b[0m\u001b[0m\u001b[49mp\u001b[0m\u001b[0m\u001b[49mh\u001b[0m\u001b[0m\u001b[49mp\u001b[0m\u001b[0m\u001b[49m\n",
      "\u001b[0m\u001b[0m\u001b[49mA\u001b[0m\u001b[0m\u001b[49mc\u001b[0m\u001b[0m\u001b[49mc\u001b[0m\u001b[0m\u001b[49me\u001b[0m\u001b[0m\u001b[49mp\u001b[0m\u001b[0m\u001b[49mt\u001b[0m\u001b[0m\u001b[49m-\u001b[0m\u001b[0m\u001b[49mE\u001b[0m\u001b[0m\u001b[49mn\u001b[0m\u001b[0m\u001b[49mc\u001b[0m\u001b[0m\u001b[49mo\u001b[0m\u001b[0m\u001b[49md\u001b[0m\u001b[0m\u001b[49mi\u001b[0m\u001b[0m\u001b[49mn\u001b[0m\u001b[0m\u001b[49mg\u001b[0m\u001b[0m\u001b[49m:\u001b[0m\u001b[0m\u001b[49m \u001b[0m\u001b[0m\u001b[49mg\u001b[0m\u001b[0m\u001b[49mz\u001b[0m\u001b[0m\u001b[49mi\u001b[0m\u001b[0m\u001b[49mp\u001b[0m\u001b[0m\u001b[49m,\u001b[0m\u001b[0m\u001b[49m \u001b[0m\u001b[0m\u001b[49md\u001b[0m\u001b[0m\u001b[49me\u001b[0m\u001b[0m\u001b[49mf\u001b[0m\u001b[0m\u001b[49ml\u001b[0m\u001b[0m\u001b[49ma\u001b[0m\u001b[0m\u001b[49mt\u001b[0m\u001b[0m\u001b[49me\u001b[0m\u001b[0m\u001b[49m\n",
      "\u001b[0m\u001b[0m\u001b[49mA\u001b[0m\u001b[0m\u001b[49mc\u001b[0m\u001b[0m\u001b[49mc\u001b[0m\u001b[0m\u001b[49me\u001b[0m\u001b[0m\u001b[49mp\u001b[0m\u001b[0m\u001b[49mt\u001b[0m\u001b[0m\u001b[49m-\u001b[0m\u001b[0m\u001b[49mL\u001b[0m\u001b[0m\u001b[49ma\u001b[0m\u001b[0m\u001b[49mn\u001b[0m\u001b[0m\u001b[49mg\u001b[0m\u001b[0m\u001b[49mu\u001b[0m\u001b[0m\u001b[49ma\u001b[0m\u001b[0m\u001b[49mg\u001b[0m\u001b[0m\u001b[49me\u001b[0m\u001b[0m\u001b[49m:\u001b[0m\u001b[0m\u001b[49m \u001b[0m\u001b[0m\u001b[49me\u001b[0m\u001b[0m\u001b[49mn\u001b[0m\u001b[0m\u001b[49m-\u001b[0m\u001b[0m\u001b[49mU\u001b[0m\u001b[0m\u001b[49mS\u001b[0m\u001b[0m\u001b[49m,\u001b[0m\u001b[0m\u001b[49me\u001b[0m\u001b[0m\u001b[49mn\u001b[0m\u001b[0m\u001b[49m;\u001b[0m\u001b[0m\u001b[49mq\u001b[0m\u001b[0m\u001b[49m=\u001b[0m\u001b[0m\u001b[49m0\u001b[0m\u001b[0m\u001b[49m.\u001b[0m\u001b[0m\u001b[49m9\u001b[0m\u001b[0m\u001b[41m,\u001b[0m\u001b[0m\u001b[41mr\u001b[0m\u001b[0m\u001b[49mu\u001b[0m\u001b[0m\u001b[49m;\u001b[0m\u001b[0m\u001b[49mq\u001b[0m\u001b[0m\u001b[49m=\u001b[0m\u001b[0m\u001b[49m0\u001b[0m\u001b[0m\u001b[49m.\u001b[0m\u001b[0m\u001b[49m8\u001b[0m\u001b[0m\u001b[41m\n",
      "\u001b[0m\u001b[0m\u001b[41mC\u001b[0m\u001b[0m\u001b[49mo\u001b[0m\u001b[0m\u001b[41mo\u001b[0m\u001b[0m\u001b[41mk\u001b[0m\u001b[0m\u001b[49mi\u001b[0m\u001b[0m\u001b[49me\u001b[0m\u001b[0m\u001b[49m:\u001b[0m\u001b[0m\u001b[49m \u001b[0m\u001b[0m\u001b[49mP\u001b[0m\u001b[0m\u001b[49mH\u001b[0m\u001b[0m\u001b[49mP\u001b[0m\u001b[0m\u001b[49mS\u001b[0m\u001b[0m\u001b[49mE\u001b[0m\u001b[0m\u001b[49mS\u001b[0m\u001b[0m\u001b[49mS\u001b[0m\u001b[0m\u001b[49mI\u001b[0m\u001b[0m\u001b[49mD\u001b[0m\u001b[0m\u001b[49m=\u001b[0m\u001b[0m\u001b[41m7\u001b[0m\u001b[0m\u001b[41mb\u001b[0m\u001b[0m\u001b[41mg\u001b[0m\u001b[0m\u001b[41mg\u001b[0m\u001b[0m\u001b[41m5\u001b[0m\u001b[0m\u001b[41mt\u001b[0m\u001b[0m\u001b[41ma\u001b[0m\u001b[0m\u001b[41ml\u001b[0m\u001b[0m\u001b[41md\u001b[0m\u001b[0m\u001b[41m4\u001b[0m\u001b[0m\u001b[41ma\u001b[0m\u001b[0m\u001b[41me\u001b[0m\u001b[0m\u001b[41ma\u001b[0m\u001b[0m\u001b[41m8\u001b[0m\u001b[0m\u001b[41m0\u001b[0m\u001b[0m\u001b[41m7\u001b[0m\u001b[0m\u001b[41m9\u001b[0m\u001b[0m\u001b[41m0\u001b[0m\u001b[0m\u001b[41mi\u001b[0m\u001b[0m\u001b[41mt\u001b[0m\u001b[0m\u001b[49m7\u001b[0m\u001b[0m\u001b[41ms\u001b[0m\u001b[0m\u001b[41m1\u001b[0m\u001b[0m\u001b[41mc\u001b[0m\u001b[0m\u001b[41mc\u001b[0m\u001b[0m\u001b[41m1\u001b[0m\u001b[0m\u001b[49m\n",
      "\u001b[0m\u001b[0m\u001b[41m\n",
      "\u001b[0m\u001b[0m\u001b[49mt\u001b[0m\u001b[0m\u001b[49my\u001b[0m\u001b[0m\u001b[49mp\u001b[0m\u001b[0m\u001b[49me\u001b[0m\u001b[0m\u001b[49m=\u001b[0m\u001b[0m\u001b[41mu\u001b[0m\u001b[0m\u001b[49ms\u001b[0m\u001b[0m\u001b[49me\u001b[0m\u001b[0m\u001b[49mr\u001b[0m\u001b[0m\u001b[49m&\u001b[0m\u001b[0m\u001b[49ma\u001b[0m\u001b[0m\u001b[49mc\u001b[0m\u001b[0m\u001b[49mt\u001b[0m\u001b[0m\u001b[49mi\u001b[0m\u001b[0m\u001b[49mo\u001b[0m\u001b[0m\u001b[49mn\u001b[0m\u001b[0m\u001b[49m=\u001b[0m\u001b[0m\u001b[41mi\u001b[0m\u001b[0m\u001b[41mn\u001b[0m\u001b[0m\u001b[41mf\u001b[0m\u001b[0m\u001b[49mo\u001b[0m\u001b[0m\u001b[41mu\u001b[0m\u001b[0m\u001b[41mp\u001b[0m\u001b[0m\u001b[41md\u001b[0m\u001b[0m\u001b[41ma\u001b[0m\u001b[0m\u001b[41mt\u001b[0m\u001b[0m\u001b[41me\u001b[0m\u001b[0m\u001b[41m&\u001b[0m\u001b[0m\u001b[41mf\u001b[0m\u001b[0m\u001b[49mi\u001b[0m\u001b[0m\u001b[49mr\u001b[0m\u001b[0m\u001b[41ms\u001b[0m\u001b[0m\u001b[41mt\u001b[0m\u001b[0m\u001b[41mn\u001b[0m\u001b[0m\u001b[41ma\u001b[0m\u001b[0m\u001b[49mm\u001b[0m\u001b[0m\u001b[49me\u001b[0m\u001b[0m\u001b[41m=\u001b[0m\u001b[0m\u001b[41mJ\u001b[0m\u001b[0m\u001b[41mo\u001b[0m\u001b[0m\u001b[41mh\u001b[0m\u001b[0m\u001b[41mn\u001b[0m\u001b[0m\u001b[49m&\u001b[0m\u001b[0m\u001b[49ml\u001b[0m\u001b[0m\u001b[49ma\u001b[0m\u001b[0m\u001b[49ms\u001b[0m\u001b[0m\u001b[49mt\u001b[0m\u001b[0m\u001b[49mn\u001b[0m\u001b[0m\u001b[49ma\u001b[0m\u001b[0m\u001b[49mm\u001b[0m\u001b[0m\u001b[49me\u001b[0m\u001b[0m\u001b[49m=\u001b[0m\u001b[0m\u001b[41mD\u001b[0m\u001b[0m\u001b[41mo\u001b[0m\u001b[0m\u001b[41me\u001b[0m\u001b[0m\u001b[41m&\u001b[0m\u001b[0m\u001b[41mp\u001b[0m\u001b[0m\u001b[41mh\u001b[0m\u001b[0m\u001b[41mo\u001b[0m\u001b[0m\u001b[49mn\u001b[0m\u001b[0m\u001b[41me\u001b[0m\u001b[0m\u001b[41m=\u001b[0m\u001b[0m\u001b[41m7\u001b[0m\u001b[0m\u001b[41m9\u001b[0m\u001b[0m\u001b[41m0\u001b[0m\u001b[0m\u001b[41m3\u001b[0m\u001b[0m\u001b[41m5\u001b[0m\u001b[0m\u001b[41m2\u001b[0m\u001b[0m\u001b[41m2\u001b[0m\u001b[0m\u001b[41m2\u001b[0m\u001b[0m\u001b[41m2\u001b[0m\u001b[0m\u001b[41m1\u001b[0m\u001b[0m\u001b[41m2\u001b[0m\u001b[0m\u001b[41m&\u001b[0m\u001b[0m\u001b[41me\u001b[0m\u001b[0m\u001b[41mm\u001b[0m\u001b[0m\u001b[41ma\u001b[0m\u001b[0m\u001b[41mi\u001b[0m\u001b[0m\u001b[41ml\u001b[0m\u001b[0m\u001b[41m=\u001b[0m\u001b[0m\u001b[41mj\u001b[0m\u001b[0m\u001b[41m.\u001b[0m\u001b[0m\u001b[41md\u001b[0m\u001b[0m\u001b[41mo\u001b[0m\u001b[0m\u001b[41me\u001b[0m\u001b[0m\u001b[41m%\u001b[0m\u001b[0m\u001b[41m4\u001b[0m\u001b[0m\u001b[41m0\u001b[0m\u001b[0m\u001b[41mv\u001b[0m\u001b[0m\u001b[41mu\u001b[0m\u001b[0m\u001b[49ml\u001b[0m\u001b[0m\u001b[41mn\u001b[0m\u001b[0m\u001b[41mb\u001b[0m\u001b[0m\u001b[41ma\u001b[0m\u001b[0m\u001b[41mn\u001b[0m\u001b[0m\u001b[41mk\u001b[0m\u001b[0m\u001b[41m.\u001b[0m\u001b[0m\u001b[41md\u001b[0m\u001b[0m\u001b[41me\u001b[0m\u001b[0m\u001b[41m&\u001b[0m\u001b[0m\u001b[41mb\u001b[0m\u001b[0m\u001b[41mi\u001b[0m\u001b[0m\u001b[41mr\u001b[0m\u001b[0m\u001b[49mt\u001b[0m\u001b[0m\u001b[49mh\u001b[0m\u001b[0m\u001b[41md\u001b[0m\u001b[0m\u001b[49ma\u001b[0m\u001b[0m\u001b[41mt\u001b[0m\u001b[0m\u001b[49me\u001b[0m\u001b[0m\u001b[49m=\u001b[0m\u001b[0m\u001b[41m1\u001b[0m\u001b[0m\u001b[41m9\u001b[0m\u001b[0m\u001b[41m8\u001b[0m\u001b[0m\u001b[41m4\u001b[0m\u001b[0m\u001b[41m-\u001b[0m\u001b[0m\u001b[41m0\u001b[0m\u001b[0m\u001b[41m4\u001b[0m\u001b[0m\u001b[41m-\u001b[0m\u001b[0m\u001b[41m0\u001b[0m\u001b[0m\u001b[41m4\u001b[0m\u001b[0m\u001b[41m&\u001b[0m\u001b[0m\u001b[41ma\u001b[0m\u001b[0m\u001b[41mb\u001b[0m\u001b[0m\u001b[41mo\u001b[0m\u001b[0m\u001b[41mu\u001b[0m\u001b[0m\u001b[41mt\u001b[0m\u001b[0m\u001b[49m=\u001b[0m\u001b[0m\u001b[41mH\u001b[0m\u001b[0m\u001b[41mi\u001b[0m\u001b[0m\u001b[41m!\u001b[0m\u001b[0m\u001b[41m'\u001b[0m\u001b[0m\u001b[41m%\u001b[0m\u001b[0m\u001b[41m3\u001b[0m\u001b[0m\u001b[41mb\u001b[0m\u001b[0m\u001b[41md\u001b[0m\u001b[0m\u001b[41me\u001b[0m\u001b[0m\u001b[41mc\u001b[0m\u001b[0m\u001b[41ml\u001b[0m\u001b[0m\u001b[41ma\u001b[0m\u001b[0m\u001b[41mr\u001b[0m\u001b[0m\u001b[49me\u001b[0m\u001b[0m\u001b[41m%\u001b[0m\u001b[0m\u001b[41m2\u001b[0m\u001b[0m\u001b[41m0\u001b[0m\u001b[0m\u001b[41m@\u001b[0m\u001b[0m\u001b[41mq\u001b[0m\u001b[0m\u001b[41m%\u001b[0m\u001b[0m\u001b[41m2\u001b[0m\u001b[0m\u001b[49m0\u001b[0m\u001b[0m\u001b[41mv\u001b[0m\u001b[0m\u001b[41ma\u001b[0m\u001b[0m\u001b[41mr\u001b[0m\u001b[0m\u001b[41mc\u001b[0m\u001b[0m\u001b[41mh\u001b[0m\u001b[0m\u001b[41ma\u001b[0m\u001b[0m\u001b[41mr\u001b[0m\u001b[0m\u001b[41m(\u001b[0m\u001b[0m\u001b[41m9\u001b[0m\u001b[0m\u001b[41m9\u001b[0m\u001b[0m\u001b[41m)\u001b[0m\u001b[0m\u001b[41m%\u001b[0m\u001b[0m\u001b[41m3\u001b[0m\u001b[0m\u001b[41mb\u001b[0m\u001b[0m\u001b[41ms\u001b[0m\u001b[0m\u001b[41me\u001b[0m\u001b[0m\u001b[41mt\u001b[0m\u001b[0m\u001b[41m%\u001b[0m\u001b[0m\u001b[41m2\u001b[0m\u001b[0m\u001b[41m0\u001b[0m\u001b[0m\u001b[41m@\u001b[0m\u001b[0m\u001b[41mq\u001b[0m\u001b[0m\u001b[41m%\u001b[0m\u001b[0m\u001b[41m3\u001b[0m\u001b[0m\u001b[41md\u001b[0m\u001b[0m\u001b[41m'\u001b[0m\u001b[0m\u001b[41m%\u001b[0m\u001b[0m\u001b[41m5\u001b[0m\u001b[0m\u001b[49mc\u001b[0m\u001b[0m\u001b[41m%\u001b[0m\u001b[0m\u001b[41m5\u001b[0m\u001b[0m\u001b[41mc\u001b[0m\u001b[0m\u001b[41mi\u001b[0m\u001b[0m\u001b[41m1\u001b[0m\u001b[0m\u001b[41mk\u001b[0m\u001b[0m\u001b[41mu\u001b[0m\u001b[0m\u001b[41mi\u001b[0m\u001b[0m\u001b[41mw\u001b[0m\u001b[0m\u001b[41m0\u001b[0m\u001b[0m\u001b[41ma\u001b[0m\u001b[0m\u001b[41ms\u001b[0m\u001b[0m\u001b[41mg\u001b[0m\u001b[0m\u001b[41m0\u001b[0m\u001b[0m\u001b[41mu\u001b[0m\u001b[0m\u001b[41mo\u001b[0m\u001b[0m\u001b[41mo\u001b[0m\u001b[0m\u001b[41mj\u001b[0m\u001b[0m\u001b[41m7\u001b[0m\u001b[0m\u001b[41m1\u001b[0m\u001b[0m\u001b[41mg\u001b[0m\u001b[0m\u001b[41mo\u001b[0m\u001b[0m\u001b[41m4\u001b[0m\u001b[0m\u001b[41mp\u001b[0m\u001b[0m\u001b[41mq\u001b[0m\u001b[0m\u001b[41m8\u001b[0m\u001b[0m\u001b[41m6\u001b[0m\u001b[0m\u001b[41m5\u001b[0m\u001b[0m\u001b[41mx\u001b[0m\u001b[0m\u001b[41mb\u001b[0m\u001b[0m\u001b[41mp\u001b[0m\u001b[0m\u001b[41ma\u001b[0m\u001b[0m\u001b[41md\u001b[0m\u001b[0m\u001b[41m1\u001b[0m\u001b[0m\u001b[41m4\u001b[0m\u001b[0m\u001b[41mp\u001b[0m\u001b[0m\u001b[41mw\u001b[0m\u001b[0m\u001b[41mc\u001b[0m\u001b[0m\u001b[41mt\u001b[0m\u001b[0m\u001b[41m0\u001b[0m\u001b[0m\u001b[41mi\u001b[0m\u001b[0m\u001b[41m.\u001b[0m\u001b[0m\u001b[41mb\u001b[0m\u001b[0m\u001b[41mu\u001b[0m\u001b[0m\u001b[41mr\u001b[0m\u001b[0m\u001b[41mp\u001b[0m\u001b[0m\u001b[41mc\u001b[0m\u001b[0m\u001b[49mo\u001b[0m\u001b[0m\u001b[41ml\u001b[0m\u001b[0m\u001b[41ml\u001b[0m\u001b[0m\u001b[41ma\u001b[0m\u001b[0m\u001b[41mb\u001b[0m\u001b[0m\u001b[41m'\u001b[0m\u001b[0m\u001b[41m%\u001b[0m\u001b[0m\u001b[41m2\u001b[0m\u001b[0m\u001b[41mb\u001b[0m\u001b[0m\u001b[41m'\u001b[0m\u001b[0m\u001b[41mo\u001b[0m\u001b[0m\u001b[41mr\u001b[0m\u001b[0m\u001b[41ma\u001b[0m\u001b[0m\u001b[41mt\u001b[0m\u001b[0m\u001b[41mo\u001b[0m\u001b[0m\u001b[41mr\u001b[0m\u001b[0m\u001b[41m.\u001b[0m\u001b[0m\u001b[41mn\u001b[0m\u001b[0m\u001b[41me\u001b[0m\u001b[0m\u001b[41mt\u001b[0m\u001b[0m\u001b[41m%\u001b[0m\u001b[0m\u001b[41m5\u001b[0m\u001b[0m\u001b[41mc\u001b[0m\u001b[0m\u001b[41ms\u001b[0m\u001b[0m\u001b[41md\u001b[0m\u001b[0m\u001b[41mf\u001b[0m\u001b[0m\u001b[41m'\u001b[0m\u001b[0m\u001b[41m%\u001b[0m\u001b[0m\u001b[41m3\u001b[0m\u001b[0m\u001b[41mb\u001b[0m\u001b[0m\u001b[41m%\u001b[0m\u001b[0m\u001b[41m2\u001b[0m\u001b[0m\u001b[41m0\u001b[0m\u001b[0m\u001b[41me\u001b[0m\u001b[0m\u001b[41mx\u001b[0m\u001b[0m\u001b[41me\u001b[0m\u001b[0m\u001b[41mc\u001b[0m\u001b[0m\u001b[41m%\u001b[0m\u001b[0m\u001b[41m2\u001b[0m\u001b[0m\u001b[49m0\u001b[0m\u001b[0m\u001b[41mm\u001b[0m\u001b[0m\u001b[41ma\u001b[0m\u001b[0m\u001b[41ms\u001b[0m\u001b[0m\u001b[41mt\u001b[0m\u001b[0m\u001b[41me\u001b[0m\u001b[0m\u001b[41mr\u001b[0m\u001b[0m\u001b[41m.\u001b[0m\u001b[0m\u001b[41md\u001b[0m\u001b[0m\u001b[41mb\u001b[0m\u001b[0m\u001b[41mo\u001b[0m\u001b[0m\u001b[41m.\u001b[0m\u001b[0m\u001b[41mx\u001b[0m\u001b[0m\u001b[41mp\u001b[0m\u001b[0m\u001b[41m_\u001b[0m\u001b[0m\u001b[41md\u001b[0m\u001b[0m\u001b[41mi\u001b[0m\u001b[0m\u001b[41mr\u001b[0m\u001b[0m\u001b[41mt\u001b[0m\u001b[0m\u001b[41mr\u001b[0m\u001b[0m\u001b[41me\u001b[0m\u001b[0m\u001b[41me\u001b[0m\u001b[0m\u001b[41m%\u001b[0m\u001b[0m\u001b[41m2\u001b[0m\u001b[0m\u001b[41m0\u001b[0m\u001b[0m\u001b[41m@\u001b[0m\u001b[0m\u001b[41mq\u001b[0m\u001b[0m\u001b[41m%\u001b[0m\u001b[0m\u001b[41m3\u001b[0m\u001b[0m\u001b[41mb\u001b[0m\u001b[0m\u001b[41m-\u001b[0m\u001b[0m\u001b[41m-\u001b[0m\u001b[0m\u001b[41m%\u001b[0m\u001b[0m\u001b[41m2\u001b[0m\u001b[0m\u001b[49m0\u001b[0m\u001b[0m\n",
      "\n",
      "\u001b[0m\n",
      "\u001b[0m==== TP Anomal sample 249. Error: 0.2488028897298883 ====\n",
      "\u001b[0m\n",
      "\u001b[0m\u001b[41mP\u001b[0m\u001b[0m\u001b[49mO\u001b[0m\u001b[0m\u001b[49mS\u001b[0m\u001b[0m\u001b[49mT\u001b[0m\u001b[0m\u001b[49m \u001b[0m\u001b[0m\u001b[49m/\u001b[0m\u001b[0m\u001b[49mv\u001b[0m\u001b[0m\u001b[49mu\u001b[0m\u001b[0m\u001b[49ml\u001b[0m\u001b[0m\u001b[49mn\u001b[0m\u001b[0m\u001b[49mb\u001b[0m\u001b[0m\u001b[49ma\u001b[0m\u001b[0m\u001b[49mn\u001b[0m\u001b[0m\u001b[49mk\u001b[0m\u001b[0m\u001b[49m/\u001b[0m\u001b[0m\u001b[49mo\u001b[0m\u001b[0m\u001b[49mn\u001b[0m\u001b[0m\u001b[49ml\u001b[0m\u001b[0m\u001b[49mi\u001b[0m\u001b[0m\u001b[49mn\u001b[0m\u001b[0m\u001b[49me\u001b[0m\u001b[0m\u001b[49m/\u001b[0m\u001b[0m\u001b[49ma\u001b[0m\u001b[0m\u001b[49mp\u001b[0m\u001b[0m\u001b[49mi\u001b[0m\u001b[0m\u001b[49m.\u001b[0m\u001b[0m\u001b[49mp\u001b[0m\u001b[0m\u001b[49mh\u001b[0m\u001b[0m\u001b[49mp\u001b[0m\u001b[0m\u001b[49m \u001b[0m\u001b[0m\u001b[49mH\u001b[0m\u001b[0m\u001b[49mT\u001b[0m\u001b[0m\u001b[49mT\u001b[0m\u001b[0m\u001b[49mP\u001b[0m\u001b[0m\u001b[49m/\u001b[0m\u001b[0m\u001b[49m1\u001b[0m\u001b[0m\u001b[49m.\u001b[0m\u001b[0m\u001b[49m1\u001b[0m\u001b[0m\u001b[49m\n",
      "\u001b[0m\u001b[0m\u001b[49mH\u001b[0m\u001b[0m\u001b[49mo\u001b[0m\u001b[0m\u001b[49ms\u001b[0m\u001b[0m\u001b[49mt\u001b[0m\u001b[0m\u001b[49m:\u001b[0m\u001b[0m\u001b[49m \u001b[0m\u001b[0m\u001b[49m1\u001b[0m\u001b[0m\u001b[49m0\u001b[0m\u001b[0m\u001b[49m.\u001b[0m\u001b[0m\u001b[49m0\u001b[0m\u001b[0m\u001b[49m.\u001b[0m\u001b[0m\u001b[49m2\u001b[0m\u001b[0m\u001b[49m1\u001b[0m\u001b[0m\u001b[49m2\u001b[0m\u001b[0m\u001b[49m.\u001b[0m\u001b[0m\u001b[49m2\u001b[0m\u001b[0m\u001b[49m5\u001b[0m\u001b[0m\u001b[49m\n",
      "\u001b[0m\u001b[0m\u001b[49mC\u001b[0m\u001b[0m\u001b[49mo\u001b[0m\u001b[0m\u001b[49mn\u001b[0m\u001b[0m\u001b[49mn\u001b[0m\u001b[0m\u001b[49me\u001b[0m\u001b[0m\u001b[49mc\u001b[0m\u001b[0m\u001b[49mt\u001b[0m\u001b[0m\u001b[49mi\u001b[0m\u001b[0m\u001b[49mo\u001b[0m\u001b[0m\u001b[49mn\u001b[0m\u001b[0m\u001b[49m:\u001b[0m\u001b[0m\u001b[49m \u001b[0m\u001b[0m\u001b[41mk\u001b[0m\u001b[0m\u001b[49me\u001b[0m\u001b[0m\u001b[49me\u001b[0m\u001b[0m\u001b[49mp\u001b[0m\u001b[0m\u001b[49m-\u001b[0m\u001b[0m\u001b[49ma\u001b[0m\u001b[0m\u001b[49ml\u001b[0m\u001b[0m\u001b[49mi\u001b[0m\u001b[0m\u001b[49mv\u001b[0m\u001b[0m\u001b[49me\u001b[0m\u001b[0m\u001b[49m\n",
      "\u001b[0m\u001b[0m\u001b[49mC\u001b[0m\u001b[0m\u001b[49mo\u001b[0m\u001b[0m\u001b[49mn\u001b[0m\u001b[0m\u001b[49mt\u001b[0m\u001b[0m\u001b[49me\u001b[0m\u001b[0m\u001b[49mn\u001b[0m\u001b[0m\u001b[49mt\u001b[0m\u001b[0m\u001b[49m-\u001b[0m\u001b[0m\u001b[49mL\u001b[0m\u001b[0m\u001b[49me\u001b[0m\u001b[0m\u001b[49mn\u001b[0m\u001b[0m\u001b[49mg\u001b[0m\u001b[0m\u001b[49mt\u001b[0m\u001b[0m\u001b[49mh\u001b[0m\u001b[0m\u001b[49m:\u001b[0m\u001b[0m\u001b[49m \u001b[0m\u001b[0m\u001b[49m1\u001b[0m\u001b[0m\u001b[41m6\u001b[0m\u001b[0m\u001b[41m6\u001b[0m\u001b[0m\u001b[49m\n",
      "\u001b[0m\u001b[0m\u001b[49mA\u001b[0m\u001b[0m\u001b[49mc\u001b[0m\u001b[0m\u001b[49mc\u001b[0m\u001b[0m\u001b[49me\u001b[0m\u001b[0m\u001b[49mp\u001b[0m\u001b[0m\u001b[49mt\u001b[0m\u001b[0m\u001b[49m:\u001b[0m\u001b[0m\u001b[49m \u001b[0m\u001b[0m\u001b[49ma\u001b[0m\u001b[0m\u001b[49mp\u001b[0m\u001b[0m\u001b[49mp\u001b[0m\u001b[0m\u001b[49ml\u001b[0m\u001b[0m\u001b[49mi\u001b[0m\u001b[0m\u001b[49mc\u001b[0m\u001b[0m\u001b[49ma\u001b[0m\u001b[0m\u001b[49mt\u001b[0m\u001b[0m\u001b[49mi\u001b[0m\u001b[0m\u001b[49mo\u001b[0m\u001b[0m\u001b[49mn\u001b[0m\u001b[0m\u001b[49m/\u001b[0m\u001b[0m\u001b[49mj\u001b[0m\u001b[0m\u001b[49ms\u001b[0m\u001b[0m\u001b[49mo\u001b[0m\u001b[0m\u001b[49mn\u001b[0m\u001b[0m\u001b[49m,\u001b[0m\u001b[0m\u001b[49m \u001b[0m\u001b[0m\u001b[49mt\u001b[0m\u001b[0m\u001b[49me\u001b[0m\u001b[0m\u001b[49mx\u001b[0m\u001b[0m\u001b[49mt\u001b[0m\u001b[0m\u001b[49m/\u001b[0m\u001b[0m\u001b[49mj\u001b[0m\u001b[0m\u001b[49ma\u001b[0m\u001b[0m\u001b[49mv\u001b[0m\u001b[0m\u001b[49ma\u001b[0m\u001b[0m\u001b[49ms\u001b[0m\u001b[0m\u001b[49mc\u001b[0m\u001b[0m\u001b[49mr\u001b[0m\u001b[0m\u001b[49mi\u001b[0m\u001b[0m\u001b[49mp\u001b[0m\u001b[0m\u001b[49mt\u001b[0m\u001b[0m\u001b[49m,\u001b[0m\u001b[0m\u001b[49m \u001b[0m\u001b[0m\u001b[49m*\u001b[0m\u001b[0m\u001b[49m/\u001b[0m\u001b[0m\u001b[49m*\u001b[0m\u001b[0m\u001b[49m;\u001b[0m\u001b[0m\u001b[49m \u001b[0m\u001b[0m\u001b[49mq\u001b[0m\u001b[0m\u001b[49m=\u001b[0m\u001b[0m\u001b[49m0\u001b[0m\u001b[0m\u001b[49m.\u001b[0m\u001b[0m\u001b[49m0\u001b[0m\u001b[0m\u001b[49m1\u001b[0m\u001b[0m\u001b[49m\n",
      "\u001b[0m\u001b[0m\u001b[49mO\u001b[0m\u001b[0m\u001b[49mr\u001b[0m\u001b[0m\u001b[49mi\u001b[0m\u001b[0m\u001b[49mg\u001b[0m\u001b[0m\u001b[49mi\u001b[0m\u001b[0m\u001b[49mn\u001b[0m\u001b[0m\u001b[49m:\u001b[0m\u001b[0m\u001b[49m \u001b[0m\u001b[0m\u001b[49mh\u001b[0m\u001b[0m\u001b[49mt\u001b[0m\u001b[0m\u001b[49mt\u001b[0m\u001b[0m\u001b[49mp\u001b[0m\u001b[0m\u001b[49m:\u001b[0m\u001b[0m\u001b[49m/\u001b[0m\u001b[0m\u001b[49m/\u001b[0m\u001b[0m\u001b[49m1\u001b[0m\u001b[0m\u001b[49m0\u001b[0m\u001b[0m\u001b[49m.\u001b[0m\u001b[0m\u001b[49m0\u001b[0m\u001b[0m\u001b[49m.\u001b[0m\u001b[0m\u001b[49m2\u001b[0m\u001b[0m\u001b[49m1\u001b[0m\u001b[0m\u001b[49m2\u001b[0m\u001b[0m\u001b[49m.\u001b[0m\u001b[0m\u001b[49m2\u001b[0m\u001b[0m\u001b[49m5\u001b[0m\u001b[0m\u001b[49m\n",
      "\u001b[0m\u001b[0m\u001b[49mX\u001b[0m\u001b[0m\u001b[49m-\u001b[0m\u001b[0m\u001b[49mR\u001b[0m\u001b[0m\u001b[49me\u001b[0m\u001b[0m\u001b[49mq\u001b[0m\u001b[0m\u001b[49mu\u001b[0m\u001b[0m\u001b[49me\u001b[0m\u001b[0m\u001b[49ms\u001b[0m\u001b[0m\u001b[49mt\u001b[0m\u001b[0m\u001b[49me\u001b[0m\u001b[0m\u001b[49md\u001b[0m\u001b[0m\u001b[49m-\u001b[0m\u001b[0m\u001b[49mW\u001b[0m\u001b[0m\u001b[49mi\u001b[0m\u001b[0m\u001b[49mt\u001b[0m\u001b[0m\u001b[49mh\u001b[0m\u001b[0m\u001b[49m:\u001b[0m\u001b[0m\u001b[49m \u001b[0m\u001b[0m\u001b[49mX\u001b[0m\u001b[0m\u001b[49mM\u001b[0m\u001b[0m\u001b[49mL\u001b[0m\u001b[0m\u001b[49mH\u001b[0m\u001b[0m\u001b[49mt\u001b[0m\u001b[0m\u001b[49mt\u001b[0m\u001b[0m\u001b[49mp\u001b[0m\u001b[0m\u001b[49mR\u001b[0m\u001b[0m\u001b[49me\u001b[0m\u001b[0m\u001b[49mq\u001b[0m\u001b[0m\u001b[49mu\u001b[0m\u001b[0m\u001b[49me\u001b[0m\u001b[0m\u001b[49ms\u001b[0m\u001b[0m\u001b[49mt\u001b[0m\u001b[0m\u001b[49m\n",
      "\u001b[0m\u001b[0m\u001b[49mU\u001b[0m\u001b[0m\u001b[49ms\u001b[0m\u001b[0m\u001b[49me\u001b[0m\u001b[0m\u001b[49mr\u001b[0m\u001b[0m\u001b[49m-\u001b[0m\u001b[0m\u001b[49mA\u001b[0m\u001b[0m\u001b[49mg\u001b[0m\u001b[0m\u001b[49me\u001b[0m\u001b[0m\u001b[49mn\u001b[0m\u001b[0m\u001b[49mt\u001b[0m\u001b[0m\u001b[49m:\u001b[0m\u001b[0m\u001b[49m \u001b[0m\u001b[0m\u001b[49mM\u001b[0m\u001b[0m\u001b[49mo\u001b[0m\u001b[0m\u001b[49mz\u001b[0m\u001b[0m\u001b[49mi\u001b[0m\u001b[0m\u001b[49ml\u001b[0m\u001b[0m\u001b[49ml\u001b[0m\u001b[0m\u001b[49ma\u001b[0m\u001b[0m\u001b[49m/\u001b[0m\u001b[0m\u001b[49m5\u001b[0m\u001b[0m\u001b[49m.\u001b[0m\u001b[0m\u001b[49m0\u001b[0m\u001b[0m\u001b[49m \u001b[0m\u001b[0m\u001b[49m(\u001b[0m\u001b[0m\u001b[41mX\u001b[0m\u001b[0m\u001b[49m1\u001b[0m\u001b[0m\u001b[49m1\u001b[0m\u001b[0m\u001b[49m;\u001b[0m\u001b[0m\u001b[49m \u001b[0m\u001b[0m\u001b[41mL\u001b[0m\u001b[0m\u001b[49mi\u001b[0m\u001b[0m\u001b[49mn\u001b[0m\u001b[0m\u001b[49mu\u001b[0m\u001b[0m\u001b[49mx\u001b[0m\u001b[0m\u001b[49m \u001b[0m\u001b[0m\u001b[49mx\u001b[0m\u001b[0m\u001b[49m8\u001b[0m\u001b[0m\u001b[49m6\u001b[0m\u001b[0m\u001b[49m_\u001b[0m\u001b[0m\u001b[49m6\u001b[0m\u001b[0m\u001b[49m4\u001b[0m\u001b[0m\u001b[49m)\u001b[0m\u001b[0m\u001b[49m \u001b[0m\u001b[0m\u001b[49mA\u001b[0m\u001b[0m\u001b[49mp\u001b[0m\u001b[0m\u001b[49mp\u001b[0m\u001b[0m\u001b[49ml\u001b[0m\u001b[0m\u001b[49me\u001b[0m\u001b[0m\u001b[49mW\u001b[0m\u001b[0m\u001b[49me\u001b[0m\u001b[0m\u001b[49mb\u001b[0m\u001b[0m\u001b[49mK\u001b[0m\u001b[0m\u001b[49mi\u001b[0m\u001b[0m\u001b[49mt\u001b[0m\u001b[0m\u001b[49m/\u001b[0m\u001b[0m\u001b[49m5\u001b[0m\u001b[0m\u001b[49m3\u001b[0m\u001b[0m\u001b[49m7\u001b[0m\u001b[0m\u001b[49m.\u001b[0m\u001b[0m\u001b[49m3\u001b[0m\u001b[0m\u001b[49m6\u001b[0m\u001b[0m\u001b[49m \u001b[0m\u001b[0m\u001b[49m(\u001b[0m\u001b[0m\u001b[49mK\u001b[0m\u001b[0m\u001b[49mH\u001b[0m\u001b[0m\u001b[49mT\u001b[0m\u001b[0m\u001b[49mM\u001b[0m\u001b[0m\u001b[49mL\u001b[0m\u001b[0m\u001b[49m,\u001b[0m\u001b[0m\u001b[49m \u001b[0m\u001b[0m\u001b[49ml\u001b[0m\u001b[0m\u001b[49mi\u001b[0m\u001b[0m\u001b[49mk\u001b[0m\u001b[0m\u001b[49me\u001b[0m\u001b[0m\u001b[49m \u001b[0m\u001b[0m\u001b[49mG\u001b[0m\u001b[0m\u001b[49me\u001b[0m\u001b[0m\u001b[49mc\u001b[0m\u001b[0m\u001b[49mk\u001b[0m\u001b[0m\u001b[49mo\u001b[0m\u001b[0m\u001b[49m)\u001b[0m\u001b[0m\u001b[49m \u001b[0m\u001b[0m\u001b[49mC\u001b[0m\u001b[0m\u001b[49mh\u001b[0m\u001b[0m\u001b[49mr\u001b[0m\u001b[0m\u001b[49mo\u001b[0m\u001b[0m\u001b[49mm\u001b[0m\u001b[0m\u001b[49me\u001b[0m\u001b[0m\u001b[49m/\u001b[0m\u001b[0m\u001b[49m6\u001b[0m\u001b[0m\u001b[41m6\u001b[0m\u001b[0m\u001b[41m.\u001b[0m\u001b[0m\u001b[49m0\u001b[0m\u001b[0m\u001b[49m.\u001b[0m\u001b[0m\u001b[49m3\u001b[0m\u001b[0m\u001b[41m3\u001b[0m\u001b[0m\u001b[41m5\u001b[0m\u001b[0m\u001b[41m9\u001b[0m\u001b[0m\u001b[49m.\u001b[0m\u001b[0m\u001b[49m1\u001b[0m\u001b[0m\u001b[41m3\u001b[0m\u001b[0m\u001b[41m9\u001b[0m\u001b[0m\u001b[49m \u001b[0m\u001b[0m\u001b[49mS\u001b[0m\u001b[0m\u001b[49ma\u001b[0m\u001b[0m\u001b[49mf\u001b[0m\u001b[0m\u001b[49ma\u001b[0m\u001b[0m\u001b[49mr\u001b[0m\u001b[0m\u001b[49mi\u001b[0m\u001b[0m\u001b[49m/\u001b[0m\u001b[0m\u001b[49m5\u001b[0m\u001b[0m\u001b[49m3\u001b[0m\u001b[0m\u001b[49m7\u001b[0m\u001b[0m\u001b[49m.\u001b[0m\u001b[0m\u001b[49m3\u001b[0m\u001b[0m\u001b[49m6\u001b[0m\u001b[0m\u001b[49m\n",
      "\u001b[0m\u001b[0m\u001b[49mC\u001b[0m\u001b[0m\u001b[49mo\u001b[0m\u001b[0m\u001b[49mn\u001b[0m\u001b[0m\u001b[49mt\u001b[0m\u001b[0m\u001b[49me\u001b[0m\u001b[0m\u001b[49mn\u001b[0m\u001b[0m\u001b[49mt\u001b[0m\u001b[0m\u001b[49m-\u001b[0m\u001b[0m\u001b[49mT\u001b[0m\u001b[0m\u001b[49my\u001b[0m\u001b[0m\u001b[49mp\u001b[0m\u001b[0m\u001b[49me\u001b[0m\u001b[0m\u001b[49m:\u001b[0m\u001b[0m\u001b[49m \u001b[0m\u001b[0m\u001b[49ma\u001b[0m\u001b[0m\u001b[49mp\u001b[0m\u001b[0m\u001b[49mp\u001b[0m\u001b[0m\u001b[49ml\u001b[0m\u001b[0m\u001b[49mi\u001b[0m\u001b[0m\u001b[49mc\u001b[0m\u001b[0m\u001b[49ma\u001b[0m\u001b[0m\u001b[49mt\u001b[0m\u001b[0m\u001b[49mi\u001b[0m\u001b[0m\u001b[49mo\u001b[0m\u001b[0m\u001b[49mn\u001b[0m\u001b[0m\u001b[49m/\u001b[0m\u001b[0m\u001b[49mx\u001b[0m\u001b[0m\u001b[49m-\u001b[0m\u001b[0m\u001b[49mw\u001b[0m\u001b[0m\u001b[49mw\u001b[0m\u001b[0m\u001b[49mw\u001b[0m\u001b[0m\u001b[49m-\u001b[0m\u001b[0m\u001b[49mf\u001b[0m\u001b[0m\u001b[49mo\u001b[0m\u001b[0m\u001b[49mr\u001b[0m\u001b[0m\u001b[49mm\u001b[0m\u001b[0m\u001b[49m-\u001b[0m\u001b[0m\u001b[49mu\u001b[0m\u001b[0m\u001b[49mr\u001b[0m\u001b[0m\u001b[49ml\u001b[0m\u001b[0m\u001b[49me\u001b[0m\u001b[0m\u001b[49mn\u001b[0m\u001b[0m\u001b[49mc\u001b[0m\u001b[0m\u001b[49mo\u001b[0m\u001b[0m\u001b[49md\u001b[0m\u001b[0m\u001b[49me\u001b[0m\u001b[0m\u001b[49md\u001b[0m\u001b[0m\u001b[49m;\u001b[0m\u001b[0m\u001b[49m \u001b[0m\u001b[0m\u001b[49mc\u001b[0m\u001b[0m\u001b[49mh\u001b[0m\u001b[0m\u001b[49ma\u001b[0m\u001b[0m\u001b[49mr\u001b[0m\u001b[0m\u001b[49ms\u001b[0m\u001b[0m\u001b[49me\u001b[0m\u001b[0m\u001b[49mt\u001b[0m\u001b[0m\u001b[49m=\u001b[0m\u001b[0m\u001b[49mU\u001b[0m\u001b[0m\u001b[49mT\u001b[0m\u001b[0m\u001b[49mF\u001b[0m\u001b[0m\u001b[49m-\u001b[0m\u001b[0m\u001b[49m8\u001b[0m\u001b[0m\u001b[49m\n",
      "\u001b[0m\u001b[0m\u001b[41mD\u001b[0m\u001b[0m\u001b[41mN\u001b[0m\u001b[0m\u001b[41mT\u001b[0m\u001b[0m\u001b[41m:\u001b[0m\u001b[0m\u001b[49m \u001b[0m\u001b[0m\u001b[41m1\u001b[0m\u001b[0m\u001b[41m\n",
      "\u001b[0m\u001b[0m\u001b[41mR\u001b[0m\u001b[0m\u001b[41me\u001b[0m\u001b[0m\u001b[41mf\u001b[0m\u001b[0m\u001b[49me\u001b[0m\u001b[0m\u001b[49mr\u001b[0m\u001b[0m\u001b[41me\u001b[0m\u001b[0m\u001b[41mr\u001b[0m\u001b[0m\u001b[49m:\u001b[0m\u001b[0m\u001b[49m \u001b[0m\u001b[0m\u001b[49mh\u001b[0m\u001b[0m\u001b[49mt\u001b[0m\u001b[0m\u001b[49mt\u001b[0m\u001b[0m\u001b[49mp\u001b[0m\u001b[0m\u001b[49m:\u001b[0m\u001b[0m\u001b[49m/\u001b[0m\u001b[0m\u001b[49m/\u001b[0m\u001b[0m\u001b[49m1\u001b[0m\u001b[0m\u001b[49m0\u001b[0m\u001b[0m\u001b[49m.\u001b[0m\u001b[0m\u001b[49m0\u001b[0m\u001b[0m\u001b[49m.\u001b[0m\u001b[0m\u001b[49m2\u001b[0m\u001b[0m\u001b[49m1\u001b[0m\u001b[0m\u001b[49m2\u001b[0m\u001b[0m\u001b[49m.\u001b[0m\u001b[0m\u001b[49m2\u001b[0m\u001b[0m\u001b[49m5\u001b[0m\u001b[0m\u001b[49m/\u001b[0m\u001b[0m\u001b[49mv\u001b[0m\u001b[0m\u001b[49mu\u001b[0m\u001b[0m\u001b[49ml\u001b[0m\u001b[0m\u001b[49mn\u001b[0m\u001b[0m\u001b[49mb\u001b[0m\u001b[0m\u001b[49ma\u001b[0m\u001b[0m\u001b[49mn\u001b[0m\u001b[0m\u001b[49mk\u001b[0m\u001b[0m\u001b[49m/\u001b[0m\u001b[0m\u001b[49mo\u001b[0m\u001b[0m\u001b[49mn\u001b[0m\u001b[0m\u001b[49ml\u001b[0m\u001b[0m\u001b[49mi\u001b[0m\u001b[0m\u001b[49mn\u001b[0m\u001b[0m\u001b[49me\u001b[0m\u001b[0m\u001b[49m/\u001b[0m\u001b[0m\u001b[41mu\u001b[0m\u001b[0m\u001b[49ms\u001b[0m\u001b[0m\u001b[49me\u001b[0m\u001b[0m\u001b[49mr\u001b[0m\u001b[0m\u001b[49mi\u001b[0m\u001b[0m\u001b[49mn\u001b[0m\u001b[0m\u001b[49mf\u001b[0m\u001b[0m\u001b[49mo\u001b[0m\u001b[0m\u001b[49m.\u001b[0m\u001b[0m\u001b[49mp\u001b[0m\u001b[0m\u001b[49mh\u001b[0m\u001b[0m\u001b[49mp\u001b[0m\u001b[0m\u001b[49m\n",
      "\u001b[0m\u001b[0m\u001b[49mA\u001b[0m\u001b[0m\u001b[49mc\u001b[0m\u001b[0m\u001b[49mc\u001b[0m\u001b[0m\u001b[49me\u001b[0m\u001b[0m\u001b[49mp\u001b[0m\u001b[0m\u001b[49mt\u001b[0m\u001b[0m\u001b[49m-\u001b[0m\u001b[0m\u001b[49mE\u001b[0m\u001b[0m\u001b[49mn\u001b[0m\u001b[0m\u001b[49mc\u001b[0m\u001b[0m\u001b[49mo\u001b[0m\u001b[0m\u001b[49md\u001b[0m\u001b[0m\u001b[49mi\u001b[0m\u001b[0m\u001b[49mn\u001b[0m\u001b[0m\u001b[49mg\u001b[0m\u001b[0m\u001b[49m:\u001b[0m\u001b[0m\u001b[49m \u001b[0m\u001b[0m\u001b[49mg\u001b[0m\u001b[0m\u001b[49mz\u001b[0m\u001b[0m\u001b[49mi\u001b[0m\u001b[0m\u001b[49mp\u001b[0m\u001b[0m\u001b[49m,\u001b[0m\u001b[0m\u001b[49m \u001b[0m\u001b[0m\u001b[49md\u001b[0m\u001b[0m\u001b[49me\u001b[0m\u001b[0m\u001b[49mf\u001b[0m\u001b[0m\u001b[49ml\u001b[0m\u001b[0m\u001b[49ma\u001b[0m\u001b[0m\u001b[49mt\u001b[0m\u001b[0m\u001b[49me\u001b[0m\u001b[0m\u001b[49m\n",
      "\u001b[0m\u001b[0m\u001b[49mA\u001b[0m\u001b[0m\u001b[49mc\u001b[0m\u001b[0m\u001b[49mc\u001b[0m\u001b[0m\u001b[49me\u001b[0m\u001b[0m\u001b[49mp\u001b[0m\u001b[0m\u001b[49mt\u001b[0m\u001b[0m\u001b[49m-\u001b[0m\u001b[0m\u001b[49mL\u001b[0m\u001b[0m\u001b[49ma\u001b[0m\u001b[0m\u001b[49mn\u001b[0m\u001b[0m\u001b[49mg\u001b[0m\u001b[0m\u001b[49mu\u001b[0m\u001b[0m\u001b[49ma\u001b[0m\u001b[0m\u001b[49mg\u001b[0m\u001b[0m\u001b[49me\u001b[0m\u001b[0m\u001b[49m:\u001b[0m\u001b[0m\u001b[49m \u001b[0m\u001b[0m\u001b[49me\u001b[0m\u001b[0m\u001b[49mn\u001b[0m\u001b[0m\u001b[49m-\u001b[0m\u001b[0m\u001b[49mU\u001b[0m\u001b[0m\u001b[49mS\u001b[0m\u001b[0m\u001b[49m,\u001b[0m\u001b[0m\u001b[49me\u001b[0m\u001b[0m\u001b[49mn\u001b[0m\u001b[0m\u001b[49m;\u001b[0m\u001b[0m\u001b[49mq\u001b[0m\u001b[0m\u001b[49m=\u001b[0m\u001b[0m\u001b[49m0\u001b[0m\u001b[0m\u001b[49m.\u001b[0m\u001b[0m\u001b[49m9\u001b[0m\u001b[0m\u001b[41m,\u001b[0m\u001b[0m\u001b[41mr\u001b[0m\u001b[0m\u001b[49mu\u001b[0m\u001b[0m\u001b[49m;\u001b[0m\u001b[0m\u001b[49mq\u001b[0m\u001b[0m\u001b[49m=\u001b[0m\u001b[0m\u001b[49m0\u001b[0m\u001b[0m\u001b[49m.\u001b[0m\u001b[0m\u001b[49m8\u001b[0m\u001b[0m\u001b[41m\n",
      "\u001b[0m\u001b[0m\u001b[41mC\u001b[0m\u001b[0m\u001b[49mo\u001b[0m\u001b[0m\u001b[41mo\u001b[0m\u001b[0m\u001b[41mk\u001b[0m\u001b[0m\u001b[49mi\u001b[0m\u001b[0m\u001b[49me\u001b[0m\u001b[0m\u001b[49m:\u001b[0m\u001b[0m\u001b[49m \u001b[0m\u001b[0m\u001b[49mP\u001b[0m\u001b[0m\u001b[49mH\u001b[0m\u001b[0m\u001b[49mP\u001b[0m\u001b[0m\u001b[49mS\u001b[0m\u001b[0m\u001b[49mE\u001b[0m\u001b[0m\u001b[49mS\u001b[0m\u001b[0m\u001b[49mS\u001b[0m\u001b[0m\u001b[49mI\u001b[0m\u001b[0m\u001b[49mD\u001b[0m\u001b[0m\u001b[49m=\u001b[0m\u001b[0m\u001b[41m7\u001b[0m\u001b[0m\u001b[41mb\u001b[0m\u001b[0m\u001b[41mg\u001b[0m\u001b[0m\u001b[41mg\u001b[0m\u001b[0m\u001b[41m5\u001b[0m\u001b[0m\u001b[41mt\u001b[0m\u001b[0m\u001b[41ma\u001b[0m\u001b[0m\u001b[41ml\u001b[0m\u001b[0m\u001b[41md\u001b[0m\u001b[0m\u001b[41m4\u001b[0m\u001b[0m\u001b[41ma\u001b[0m\u001b[0m\u001b[41me\u001b[0m\u001b[0m\u001b[41ma\u001b[0m\u001b[0m\u001b[41m8\u001b[0m\u001b[0m\u001b[41m0\u001b[0m\u001b[0m\u001b[41m7\u001b[0m\u001b[0m\u001b[41m9\u001b[0m\u001b[0m\u001b[41m0\u001b[0m\u001b[0m\u001b[41mi\u001b[0m\u001b[0m\u001b[41mt\u001b[0m\u001b[0m\u001b[49m7\u001b[0m\u001b[0m\u001b[41ms\u001b[0m\u001b[0m\u001b[41m1\u001b[0m\u001b[0m\u001b[41mc\u001b[0m\u001b[0m\u001b[41mc\u001b[0m\u001b[0m\u001b[41m1\u001b[0m\u001b[0m\u001b[49m\n",
      "\u001b[0m\u001b[0m\u001b[41m\n",
      "\u001b[0m\u001b[0m\u001b[49mt\u001b[0m\u001b[0m\u001b[49my\u001b[0m\u001b[0m\u001b[49mp\u001b[0m\u001b[0m\u001b[49me\u001b[0m\u001b[0m\u001b[49m=\u001b[0m\u001b[0m\u001b[41mu\u001b[0m\u001b[0m\u001b[49ms\u001b[0m\u001b[0m\u001b[49me\u001b[0m\u001b[0m\u001b[49mr\u001b[0m\u001b[0m\u001b[49m&\u001b[0m\u001b[0m\u001b[49ma\u001b[0m\u001b[0m\u001b[49mc\u001b[0m\u001b[0m\u001b[49mt\u001b[0m\u001b[0m\u001b[49mi\u001b[0m\u001b[0m\u001b[49mo\u001b[0m\u001b[0m\u001b[49mn\u001b[0m\u001b[0m\u001b[49m=\u001b[0m\u001b[0m\u001b[41mi\u001b[0m\u001b[0m\u001b[41mn\u001b[0m\u001b[0m\u001b[41mf\u001b[0m\u001b[0m\u001b[49mo\u001b[0m\u001b[0m\u001b[41mu\u001b[0m\u001b[0m\u001b[41mp\u001b[0m\u001b[0m\u001b[41md\u001b[0m\u001b[0m\u001b[41ma\u001b[0m\u001b[0m\u001b[41mt\u001b[0m\u001b[0m\u001b[41me\u001b[0m\u001b[0m\u001b[41m&\u001b[0m\u001b[0m\u001b[41mf\u001b[0m\u001b[0m\u001b[49mi\u001b[0m\u001b[0m\u001b[49mr\u001b[0m\u001b[0m\u001b[41ms\u001b[0m\u001b[0m\u001b[41mt\u001b[0m\u001b[0m\u001b[41mn\u001b[0m\u001b[0m\u001b[41ma\u001b[0m\u001b[0m\u001b[49mm\u001b[0m\u001b[0m\u001b[49me\u001b[0m\u001b[0m\u001b[41m=\u001b[0m\u001b[0m\u001b[41mJ\u001b[0m\u001b[0m\u001b[41mo\u001b[0m\u001b[0m\u001b[41mh\u001b[0m\u001b[0m\u001b[41mn\u001b[0m\u001b[0m\u001b[49m&\u001b[0m\u001b[0m\u001b[49ml\u001b[0m\u001b[0m\u001b[49ma\u001b[0m\u001b[0m\u001b[49ms\u001b[0m\u001b[0m\u001b[49mt\u001b[0m\u001b[0m\u001b[49mn\u001b[0m\u001b[0m\u001b[49ma\u001b[0m\u001b[0m\u001b[49mm\u001b[0m\u001b[0m\u001b[49me\u001b[0m\u001b[0m\u001b[49m=\u001b[0m\u001b[0m\u001b[41mD\u001b[0m\u001b[0m\u001b[41mo\u001b[0m\u001b[0m\u001b[41me\u001b[0m\u001b[0m\u001b[41m%\u001b[0m\u001b[0m\u001b[41m2\u001b[0m\u001b[0m\u001b[41mc\u001b[0m\u001b[0m\u001b[41m(\u001b[0m\u001b[0m\u001b[41ms\u001b[0m\u001b[0m\u001b[41me\u001b[0m\u001b[0m\u001b[41ml\u001b[0m\u001b[0m\u001b[41me\u001b[0m\u001b[0m\u001b[41mc\u001b[0m\u001b[0m\u001b[41mt\u001b[0m\u001b[0m\u001b[41m*\u001b[0m\u001b[0m\u001b[41mf\u001b[0m\u001b[0m\u001b[41mr\u001b[0m\u001b[0m\u001b[41mo\u001b[0m\u001b[0m\u001b[41mm\u001b[0m\u001b[0m\u001b[41m(\u001b[0m\u001b[0m\u001b[41ms\u001b[0m\u001b[0m\u001b[41me\u001b[0m\u001b[0m\u001b[41ml\u001b[0m\u001b[0m\u001b[41me\u001b[0m\u001b[0m\u001b[41mc\u001b[0m\u001b[0m\u001b[41mt\u001b[0m\u001b[0m\u001b[41m(\u001b[0m\u001b[0m\u001b[41ms\u001b[0m\u001b[0m\u001b[41ml\u001b[0m\u001b[0m\u001b[41me\u001b[0m\u001b[0m\u001b[41me\u001b[0m\u001b[0m\u001b[41mp\u001b[0m\u001b[0m\u001b[41m(\u001b[0m\u001b[0m\u001b[41m2\u001b[0m\u001b[0m\u001b[41m0\u001b[0m\u001b[0m\u001b[41m)\u001b[0m\u001b[0m\u001b[41m)\u001b[0m\u001b[0m\u001b[41m)\u001b[0m\u001b[0m\u001b[41ma\u001b[0m\u001b[0m\u001b[41m)\u001b[0m\u001b[0m\u001b[41m&\u001b[0m\u001b[0m\u001b[41mp\u001b[0m\u001b[0m\u001b[41mh\u001b[0m\u001b[0m\u001b[41mo\u001b[0m\u001b[0m\u001b[41mn\u001b[0m\u001b[0m\u001b[41me\u001b[0m\u001b[0m\u001b[41m=\u001b[0m\u001b[0m\u001b[41m7\u001b[0m\u001b[0m\u001b[41m9\u001b[0m\u001b[0m\u001b[41m0\u001b[0m\u001b[0m\u001b[41m3\u001b[0m\u001b[0m\u001b[41m5\u001b[0m\u001b[0m\u001b[41m2\u001b[0m\u001b[0m\u001b[41m2\u001b[0m\u001b[0m\u001b[41m2\u001b[0m\u001b[0m\u001b[41m2\u001b[0m\u001b[0m\u001b[41m1\u001b[0m\u001b[0m\u001b[41m2\u001b[0m\u001b[0m\u001b[41m&\u001b[0m\u001b[0m\u001b[41me\u001b[0m\u001b[0m\u001b[41mm\u001b[0m\u001b[0m\u001b[41ma\u001b[0m\u001b[0m\u001b[41mi\u001b[0m\u001b[0m\u001b[41ml\u001b[0m\u001b[0m\u001b[41m=\u001b[0m\u001b[0m\u001b[41mj\u001b[0m\u001b[0m\u001b[41m.\u001b[0m\u001b[0m\u001b[41md\u001b[0m\u001b[0m\u001b[41mo\u001b[0m\u001b[0m\u001b[41me\u001b[0m\u001b[0m\u001b[41m%\u001b[0m\u001b[0m\u001b[41m4\u001b[0m\u001b[0m\u001b[41m0\u001b[0m\u001b[0m\u001b[41mv\u001b[0m\u001b[0m\u001b[41mu\u001b[0m\u001b[0m\u001b[41ml\u001b[0m\u001b[0m\u001b[41mn\u001b[0m\u001b[0m\u001b[41mb\u001b[0m\u001b[0m\u001b[41ma\u001b[0m\u001b[0m\u001b[41mn\u001b[0m\u001b[0m\u001b[41mk\u001b[0m\u001b[0m\u001b[41m.\u001b[0m\u001b[0m\u001b[41md\u001b[0m\u001b[0m\u001b[41me\u001b[0m\u001b[0m\u001b[41m&\u001b[0m\u001b[0m\u001b[41mb\u001b[0m\u001b[0m\u001b[41mi\u001b[0m\u001b[0m\u001b[49mr\u001b[0m\u001b[0m\u001b[41mt\u001b[0m\u001b[0m\u001b[49mh\u001b[0m\u001b[0m\u001b[41md\u001b[0m\u001b[0m\u001b[49ma\u001b[0m\u001b[0m\u001b[41mt\u001b[0m\u001b[0m\u001b[49me\u001b[0m\u001b[0m\u001b[41m=\u001b[0m\u001b[0m\u001b[41m1\u001b[0m\u001b[0m\u001b[41m9\u001b[0m\u001b[0m\u001b[41m8\u001b[0m\u001b[0m\u001b[41m4\u001b[0m\u001b[0m\u001b[41m-\u001b[0m\u001b[0m\u001b[41m0\u001b[0m\u001b[0m\u001b[41m4\u001b[0m\u001b[0m\u001b[41m-\u001b[0m\u001b[0m\u001b[49m0\u001b[0m\u001b[0m\u001b[41m4\u001b[0m\u001b[0m\u001b[41m&\u001b[0m\u001b[0m\u001b[41ma\u001b[0m\u001b[0m\u001b[41mb\u001b[0m\u001b[0m\u001b[41mo\u001b[0m\u001b[0m\u001b[49mu\u001b[0m\u001b[0m\u001b[41mt\u001b[0m\u001b[0m\u001b[49m=\u001b[0m\u001b[0m\u001b[41mH\u001b[0m\u001b[0m\u001b[41mi\u001b[0m\u001b[0m\u001b[41m!\u001b[0m\u001b[0m\n",
      "\n",
      "\u001b[0m\n",
      "\u001b[0m"
     ]
    }
   ],
   "source": [
    "# printing and visualize FN and FP samples\n",
    "print()\n",
    "for n in FN_ind:\n",
    "    print('==== FN Anomal sample {}. Error: {} ====\\n'.format(n,anomal_error[n]))\n",
    "    visual(anomal_requests[n],  anomal_probs[n])\n",
    "    print('\\n\\n')\n",
    "\n",
    "for n in FP_ind:\n",
    "    print('==== FP Valid sample {}. Error: {} ====\\n'.format(n,valid_error[n]))\n",
    "    visual(valid_requests[n],  valid_probs[n])\n",
    "    print('\\n\\n')\n",
    "\n",
    "# printing and visualize some TP samples \n",
    "\n",
    "for n in random.sample(TP_ind, 5):\n",
    "    print('==== TP Anomal sample {}. Error: {} ====\\n'.format(n,anomal_error[n]))\n",
    "    visual(anomal_requests[n],  anomal_probs[n])\n",
    "    print('\\n\\n')"
   ]
  },
  {
   "cell_type": "code",
   "execution_count": null,
   "id": "covered-timing",
   "metadata": {},
   "outputs": [],
   "source": []
  }
 ],
 "metadata": {
  "kernelspec": {
   "display_name": "Python 3",
   "language": "python",
   "name": "python3"
  },
  "language_info": {
   "codemirror_mode": {
    "name": "ipython",
    "version": 3
   },
   "file_extension": ".py",
   "mimetype": "text/x-python",
   "name": "python",
   "nbconvert_exporter": "python",
   "pygments_lexer": "ipython3",
   "version": "3.6.8"
  },
  "varInspector": {
   "cols": {
    "lenName": 16,
    "lenType": 16,
    "lenVar": 40
   },
   "kernels_config": {
    "python": {
     "delete_cmd_postfix": "",
     "delete_cmd_prefix": "del ",
     "library": "var_list.py",
     "varRefreshCmd": "print(var_dic_list())"
    },
    "r": {
     "delete_cmd_postfix": ") ",
     "delete_cmd_prefix": "rm(",
     "library": "var_list.r",
     "varRefreshCmd": "cat(var_dic_list()) "
    }
   },
   "types_to_exclude": [
    "module",
    "function",
    "builtin_function_or_method",
    "instance",
    "_Feature"
   ],
   "window_display": false
  }
 },
 "nbformat": 4,
 "nbformat_minor": 5
}
